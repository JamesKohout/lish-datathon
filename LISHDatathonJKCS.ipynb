{
 "cells": [
  {
   "cell_type": "markdown",
   "metadata": {
    "id": "TUnzh9Nu77Cx"
   },
   "source": [
    "# **Welcome to the Datathon@LISH Colab Notebook**\n",
    "\n",
    "This is the official contest notebook template for the [Datathon@LISH](https://www.datathonatlish.com/). Use this notebook to compete in the competition!\n",
    "\n",
    "If you've never used Colab before, don't worry - it's basically a cloud-based Jupyter notebook. Here are some simple instructions to get you started:\n",
    "*   Double-click on a cell to edit it. To run a cell, either press the \"play\" button on the left, or press \"Ctrl/Cmd\" + \"Enter\".\n",
    "*   To open the table of contents for the notebook, click the \"Table of contents\" button in the top left (above the &#128269;)\n",
    "*   [Use \"Ctrl/Cmd + m\" then \"h\"](https://tuewithmorris.medium.com/google-colab-notebooks-keyboard-shortcuts-aa6a008fb91b) to pull up a quick overview of the main keyboard shortcuts. \n",
    "*   We recommend just playing around to get familiar. However, if you want a more systematic introduction, you can find more information on [the official Colab tutorial](https://colab.research.google.com/?utm_source=scs-index).\n",
    "\n"
   ]
  },
  {
   "cell_type": "markdown",
   "metadata": {
    "id": "fsRK6Rl19Epv"
   },
   "source": [
    "# **Competition Rules and Submission Process for the Datathon@LISH**\n"
   ]
  },
  {
   "cell_type": "markdown",
   "metadata": {
    "id": "FPWS3F8Vz2-C"
   },
   "source": [
    "## Setting Up Your Notebook and Sharing It with Us (*Important*)\n",
    "\n",
    "You'll need to make a copy of this notebook (stored in your personal google drive) *and* share the notebook with the contest google account (hbs.research.faculty@gmail.com). This is our mechanism for both verifying compliance to contest rules and collecting your code for reseach purposes. In order to do this, complete the following steps:\n",
    "1. Ensure that you’ve signed into a google account that associates with an email that you shared with us in the pre-contest survey. (This step is important to ensure that we can link the notebook to your pre-contest survey information)\n",
    "2. \tCreate a copy of the notebook in your personal Google Drive folder ([top left of page] File > Save a Copy in Drive), modifying the title to be relatively unique (e.g. adding your initials). [GIF of how to do this.](https://i.imgur.com/d6P4CCL.mp4)\n",
    "3. \tShare [top-right of page] the newly created notebook with our contest organizer account (hbs.research.faculty@gmail.com) as an \"**Editor**\". Note that we will only use code for verifying rule compliance and research analysis, but will not be editing or monitoring the code during the contest - so please feel free to develop code as you would normally. [GIF of how to do this.](https://i.imgur.com/kW6jRch.mp4)\n",
    "\n",
    "This is the last bit of setup you need to do before starting on the problem. Once you’ve completed these steps, you’re all set to get started working!"
   ]
  },
  {
   "cell_type": "markdown",
   "metadata": {
    "id": "px_k4AMEH6m0"
   },
   "source": [
    "## Competition Rules *(Please Read Carefully!)*"
   ]
  },
  {
   "cell_type": "code",
   "execution_count": null,
   "metadata": {
    "colab": {
     "base_uri": "https://localhost:8080/",
     "height": 321
    },
    "id": "YTZrvjrsHcYR",
    "outputId": "17b08f2f-0623-48fc-9343-8061cf66b59d"
   },
   "outputs": [
    {
     "data": {
      "image/jpeg": "[encoded data removed]",
      "text/html": [
       "\n",
       "        <iframe\n",
       "            width=\"400\"\n",
       "            height=\"300\"\n",
       "            src=\"https://www.youtube.com/embed/y4iMwo8U_io\"\n",
       "            frameborder=\"0\"\n",
       "            allowfullscreen\n",
       "        ></iframe>\n",
       "        "
      ],
      "text/plain": [
       "<IPython.lib.display.YouTubeVideo at 0x7f720d134d50>"
      ]
     },
     "execution_count": 156,
     "metadata": {},
     "output_type": "execute_result"
    }
   ],
   "source": [
    "#@title\n",
    "from IPython.display import YouTubeVideo\n",
    "YouTubeVideo('y4iMwo8U_io')"
   ]
  },
  {
   "cell_type": "markdown",
   "metadata": {
    "id": "-aRwqkcwzhxO"
   },
   "source": [
    "<a name=\"rules\"></a>\n",
    "Our datathon is split across two tracks, each with slightly different rules and with different contest rankings and winners. Your team has been randomly assigned to **Track Lagrange**, which has the rules listed below. Note that prizes will be awarded *within* your track, so everyone that you are competing against faces the same rules.\n",
    "\n",
    "+ **Contest Timeline.** You have until 5PM EST on Sunday, February 13th, 2022 to work on the problem. After that time, our kaggle submission website will not accept new predictions. You can see the contest timeline and remaining time in the contest on [our datathon website](https://www.datathonatlish.com/contest-timeline). \n",
    "+ **Do All of Your Work in This Notebook**. All work you do on the competition must be done within this notebook - you may not use your own integrated development environment (IDE). This includes any exploration of the data or problem space that you conduct before arriving at a final model. You may not copy code or any other information from other sources.\n",
    "+ **No External Help**. Do not discuss the details of the competition, prediction problem, or data set with anyone else (including other contest participants). All work should be your own (or your competition partner's).\n",
    "  >You may freely consult textbooks, documentation, and websites such as stack-overflow. \n",
    "+ **No Additional Data Sets**. Do not use any additional data sets not already provided in this notebook. You may create new features based on existing features in the provided data.\n",
    "\n",
    "We will collect contest code at the end of the competition in order to verify rule compliance - if your code breaks any of the rules, then you will excluded from consideration for contest prizes. "
   ]
  },
  {
   "cell_type": "markdown",
   "metadata": {
    "id": "YbN0_DJvOAXZ"
   },
   "source": [
    "## Prizes, Submitting Predictions, and Prize Eligibility\n",
    "1. Prizes will be awarded within your contest track, based on your performance in the out-of-sample holdout vs others in the same track. This means that you may not be directly competing against some of your friends; however, it also means there’s less competition and a better chance for you to win a prize!\n",
    "2. Your predictions must be submitted to Kaggle to be counted towards a prize. As you work on the problem within this notebook, you can make multiple submissions to the prediction competition hosted on Kaggle [here](https://www.kaggle.com/t/0e44c943df634f0a86c823c7edc118da). The **Submit to Competition** section at the bottom of the notebook contains instructions and code snippets for exporting and submitting your predictions.\n",
    "2. The prizes (for each track) are as follows: \n",
    "  - First Prize: \\$1000 Cash\n",
    "  - Second Prize: \\$500 Cash\n",
    "  - Third Prize: \\$250 Cash\n",
    "  - Top-Ten (Places 4th through 10th): \\$50 Amazon Gift Card\n",
    "  - Participation Prize: \\$10 Amazon Gift Card\n",
    "3. In order to be eligible to receive contest prizes, you (or your partner) must over 18 years old and be an affiliate of a US-based university. To win a cash prize, you must additionally be eligible to work in the USA (i.e. have a SSN). In addition, the following conditions must hold:\n",
    "  1.  Completion of the Pre- and Post- Contest Surveys\n",
    "  2.  You Shared Your Colab Notebook with hbs.research.faculty@gmail.com.\n",
    "  3.  You Submitted a Kaggle Submission on your assigned Contest Track that beats the competition baseline score.\n",
    "  4.  You Code passes our automated Rule Checker, which will enforce contest rules (listed above).\n",
    "\n",
    "  We will send status check emails periodically throughout the contest to ensure that you have opportunities to complete all of these steps!\n"
   ]
  },
  {
   "cell_type": "markdown",
   "metadata": {
    "id": "bwiIrTn9oS2A"
   },
   "source": [
    "# **Data Challenge Overview -- Pump it Up: Data Mining the Water Table**\n",
    "\n",
    "Access to potable water is vital to the health and wellbeing of communities around the world. A smart understanding of which waterpoints will fail can improve maintenance operations and ensure that clean, potable water is available everywhere.  In this competition, you will develop a predictive model that solve binary classification task focused on predicting the operational status of water pumps throughout Tanzania, based on some the provided information about their installation context. \n",
    "\n",
    "We will evaluate prediction quality according to a [Log-Loss Error Function](https://www.kaggle.com/dansbecker/what-is-log-loss). (Note that this is different than Percent Accuracy!) As you know, a good statistical model is paramount for helping organizations allocate maintenance resources effectively. We’ve sourced this problem from our friends at [DrivenData](https://www.drivendata.org/), who are some awesome alumni of Harvard Business School and the School of Engineering and Applied Sciences."
   ]
  },
  {
   "cell_type": "markdown",
   "metadata": {
    "id": "oRKzhpa47wS6"
   },
   "source": [
    "## **Data Dictionary**\n",
    "\n",
    "**Target Feature**:\n",
    "\n",
    "`status_group` is the key label that you need to predict. It can take on two possible values:\n",
    "+ `0` - the waterpoint is operational and there are no repairs needed\n",
    "+ `1` - the waterpoint needs repairs\n",
    "\n",
    "**Predictors**:\n",
    "\n",
    "+ `amount_tsh` - Total static head (amount water available to waterpoint)\n",
    "+ `date_recorded` - The date the row was entered\n",
    "+ `funder` - Who funded the well\n",
    "+ `gps_height` - Altitude of the well\n",
    "+ `installer` - Organization that installed the well\n",
    "+ `longitude` - GPS coordinate\n",
    "+ `latitude` - GPS coordinate\n",
    "+ `wpt_name` - Name of the waterpoint if there is one\n",
    "+ `basin` - Geographic water basin\n",
    "+ `subvillage` - Geographic location\n",
    "+ `region` - Geographic location\n",
    "+ `region_code` - Geographic location (coded)\n",
    "+ `district_code` - Geographic location (coded)\n",
    "+ `lga` - Geographic location\n",
    "+ `ward` - Geographic location\n",
    "+ `population` - Population around the well\n",
    "+ `public_meeting` - True/False\n",
    "+ `recorded_by` - Group entering this row of data\n",
    "+ `scheme_management` - Who operates the waterpoint\n",
    "+ `scheme_name` - Who operates the waterpoint\n",
    "+ `permit` - If the waterpoint is permitted\n",
    "+ `construction_year` - Year the waterpoint was constructed\n",
    "+ `extraction_type` - The kind of extraction the waterpoint uses\n",
    "+ `extraction_type_group` - The kind of extraction the waterpoint uses\n",
    "+ `extraction_type_class` - The kind of extraction the waterpoint uses\n",
    "+ `management` - How the waterpoint is managed\n",
    "+ `management_group` - How the waterpoint is managed\n",
    "+ `payment` - What the water costs\n",
    "+ `payment_type` - What the water costs\n",
    "+ `water_quality` - The quality of the water\n",
    "+ `quality_group` - The quality of the water\n",
    "+ `quantity` - The quantity of water\n",
    "+ `quantity_group` - The quantity of water\n",
    "+ `source` - The source of the water\n",
    "+ `source_type` - The source of the water\n",
    "+ `source_class` - The source of the water\n",
    "+ `waterpoint_type` - The kind of waterpoint\n",
    "+ `waterpoint_type_group` - The kind of waterpoint\n",
    "\n"
   ]
  },
  {
   "cell_type": "markdown",
   "metadata": {
    "id": "kj33bnYuoYha"
   },
   "source": [
    "# **Your Contest Code**"
   ]
  },
  {
   "cell_type": "markdown",
   "metadata": {
    "id": "4gEuFfBY5jYS"
   },
   "source": [
    "## **Load Data**\n",
    "\n",
    "Run the cell below to download and read in the training data."
   ]
  },
  {
   "cell_type": "code",
   "execution_count": null,
   "metadata": {
    "colab": {
     "base_uri": "https://localhost:8080/",
     "height": 461
    },
    "id": "HMEf2HarZgBG",
    "outputId": "e4074999-0914-4815-9ca0-ee234a8568e4"
   },
   "outputs": [
    {
     "data": {
      "application/javascript": [
       "IPython.notebook.set_autosave_interval(60000)"
      ]
     },
     "metadata": {},
     "output_type": "display_data"
    },
    {
     "name": "stdout",
     "output_type": "stream",
     "text": [
      "Autosaving every 60 seconds\n"
     ]
    },
    {
     "data": {
      "text/html": [
       "\n",
       "  <div id=\"df-53d94e0c-41e2-4e28-b9eb-9f1b564effa2\">\n",
       "    <div class=\"colab-df-container\">\n",
       "      <div>\n",
       "<style scoped>\n",
       "    .dataframe tbody tr th:only-of-type {\n",
       "        vertical-align: middle;\n",
       "    }\n",
       "\n",
       "    .dataframe tbody tr th {\n",
       "        vertical-align: top;\n",
       "    }\n",
       "\n",
       "    .dataframe thead th {\n",
       "        text-align: right;\n",
       "    }\n",
       "</style>\n",
       "<table border=\"1\" class=\"dataframe\">\n",
       "  <thead>\n",
       "    <tr style=\"text-align: right;\">\n",
       "      <th></th>\n",
       "      <th>id</th>\n",
       "      <th>amount_tsh</th>\n",
       "      <th>date_recorded</th>\n",
       "      <th>funder</th>\n",
       "      <th>gps_height</th>\n",
       "      <th>installer</th>\n",
       "      <th>longitude</th>\n",
       "      <th>latitude</th>\n",
       "      <th>wpt_name</th>\n",
       "      <th>basin</th>\n",
       "      <th>subvillage</th>\n",
       "      <th>region</th>\n",
       "      <th>region_code</th>\n",
       "      <th>district_code</th>\n",
       "      <th>lga</th>\n",
       "      <th>ward</th>\n",
       "      <th>population</th>\n",
       "      <th>public_meeting</th>\n",
       "      <th>recorded_by</th>\n",
       "      <th>scheme_management</th>\n",
       "      <th>scheme_name</th>\n",
       "      <th>permit</th>\n",
       "      <th>construction_year</th>\n",
       "      <th>extraction_type</th>\n",
       "      <th>extraction_type_group</th>\n",
       "      <th>extraction_type_class</th>\n",
       "      <th>management</th>\n",
       "      <th>management_group</th>\n",
       "      <th>payment</th>\n",
       "      <th>payment_type</th>\n",
       "      <th>water_quality</th>\n",
       "      <th>quality_group</th>\n",
       "      <th>quantity</th>\n",
       "      <th>quantity_group</th>\n",
       "      <th>source</th>\n",
       "      <th>source_type</th>\n",
       "      <th>source_class</th>\n",
       "      <th>waterpoint_type</th>\n",
       "      <th>waterpoint_type_group</th>\n",
       "      <th>status_group</th>\n",
       "    </tr>\n",
       "  </thead>\n",
       "  <tbody>\n",
       "    <tr>\n",
       "      <th>0</th>\n",
       "      <td>1</td>\n",
       "      <td>500.0</td>\n",
       "      <td>2/22/2011</td>\n",
       "      <td>Government Of Tanzania</td>\n",
       "      <td>1802</td>\n",
       "      <td>DWE</td>\n",
       "      <td>34.910035</td>\n",
       "      <td>-9.203799</td>\n",
       "      <td>Kwa Neckson Kiyao</td>\n",
       "      <td>Rufiji</td>\n",
       "      <td>Igominyi</td>\n",
       "      <td>Iringa</td>\n",
       "      <td>11</td>\n",
       "      <td>4</td>\n",
       "      <td>Njombe</td>\n",
       "      <td>Ikuka</td>\n",
       "      <td>80</td>\n",
       "      <td>True</td>\n",
       "      <td>GeoData Consultants Ltd</td>\n",
       "      <td>VWC</td>\n",
       "      <td>NaN</td>\n",
       "      <td>False</td>\n",
       "      <td>2008</td>\n",
       "      <td>swn 80</td>\n",
       "      <td>swn 80</td>\n",
       "      <td>handpump</td>\n",
       "      <td>vwc</td>\n",
       "      <td>user-group</td>\n",
       "      <td>pay monthly</td>\n",
       "      <td>monthly</td>\n",
       "      <td>soft</td>\n",
       "      <td>good</td>\n",
       "      <td>enough</td>\n",
       "      <td>enough</td>\n",
       "      <td>hand dtw</td>\n",
       "      <td>borehole</td>\n",
       "      <td>groundwater</td>\n",
       "      <td>hand pump</td>\n",
       "      <td>hand pump</td>\n",
       "      <td>1</td>\n",
       "    </tr>\n",
       "    <tr>\n",
       "      <th>1</th>\n",
       "      <td>2</td>\n",
       "      <td>0.0</td>\n",
       "      <td>3/14/2011</td>\n",
       "      <td>Mkinga Distric Coun</td>\n",
       "      <td>0</td>\n",
       "      <td>DWE</td>\n",
       "      <td>38.825484</td>\n",
       "      <td>-4.798793</td>\n",
       "      <td>Shule</td>\n",
       "      <td>Pangani</td>\n",
       "      <td>Shuleni Kiumbo</td>\n",
       "      <td>Tanga</td>\n",
       "      <td>4</td>\n",
       "      <td>8</td>\n",
       "      <td>Mkinga</td>\n",
       "      <td>Maramba</td>\n",
       "      <td>50</td>\n",
       "      <td>True</td>\n",
       "      <td>GeoData Consultants Ltd</td>\n",
       "      <td>VWC</td>\n",
       "      <td>Bwiti gravity water</td>\n",
       "      <td>True</td>\n",
       "      <td>1971</td>\n",
       "      <td>gravity</td>\n",
       "      <td>gravity</td>\n",
       "      <td>gravity</td>\n",
       "      <td>vwc</td>\n",
       "      <td>user-group</td>\n",
       "      <td>never pay</td>\n",
       "      <td>never pay</td>\n",
       "      <td>coloured</td>\n",
       "      <td>colored</td>\n",
       "      <td>enough</td>\n",
       "      <td>enough</td>\n",
       "      <td>spring</td>\n",
       "      <td>spring</td>\n",
       "      <td>groundwater</td>\n",
       "      <td>communal standpipe</td>\n",
       "      <td>communal standpipe</td>\n",
       "      <td>0</td>\n",
       "    </tr>\n",
       "    <tr>\n",
       "      <th>2</th>\n",
       "      <td>3</td>\n",
       "      <td>0.0</td>\n",
       "      <td>7/31/2011</td>\n",
       "      <td>Hesawa</td>\n",
       "      <td>0</td>\n",
       "      <td>HESAWA</td>\n",
       "      <td>32.962557</td>\n",
       "      <td>-3.108364</td>\n",
       "      <td>Kwa Mwan</td>\n",
       "      <td>Lake Victoria</td>\n",
       "      <td>Ifumba B</td>\n",
       "      <td>Mwanza</td>\n",
       "      <td>19</td>\n",
       "      <td>7</td>\n",
       "      <td>Missungwi</td>\n",
       "      <td>Busongo</td>\n",
       "      <td>0</td>\n",
       "      <td>True</td>\n",
       "      <td>GeoData Consultants Ltd</td>\n",
       "      <td>VWC</td>\n",
       "      <td>NaN</td>\n",
       "      <td>False</td>\n",
       "      <td>0</td>\n",
       "      <td>afridev</td>\n",
       "      <td>afridev</td>\n",
       "      <td>handpump</td>\n",
       "      <td>vwc</td>\n",
       "      <td>user-group</td>\n",
       "      <td>pay annually</td>\n",
       "      <td>annually</td>\n",
       "      <td>soft</td>\n",
       "      <td>good</td>\n",
       "      <td>enough</td>\n",
       "      <td>enough</td>\n",
       "      <td>shallow well</td>\n",
       "      <td>shallow well</td>\n",
       "      <td>groundwater</td>\n",
       "      <td>hand pump</td>\n",
       "      <td>hand pump</td>\n",
       "      <td>0</td>\n",
       "    </tr>\n",
       "    <tr>\n",
       "      <th>3</th>\n",
       "      <td>4</td>\n",
       "      <td>0.0</td>\n",
       "      <td>8/2/2011</td>\n",
       "      <td>Adb</td>\n",
       "      <td>1188</td>\n",
       "      <td>DWE</td>\n",
       "      <td>33.067806</td>\n",
       "      <td>-2.097464</td>\n",
       "      <td>none</td>\n",
       "      <td>Lake Victoria</td>\n",
       "      <td>Mkwajuni</td>\n",
       "      <td>Mwanza</td>\n",
       "      <td>19</td>\n",
       "      <td>1</td>\n",
       "      <td>Ukerewe</td>\n",
       "      <td>Bukanda</td>\n",
       "      <td>500</td>\n",
       "      <td>True</td>\n",
       "      <td>GeoData Consultants Ltd</td>\n",
       "      <td>NaN</td>\n",
       "      <td>NaN</td>\n",
       "      <td>True</td>\n",
       "      <td>2009</td>\n",
       "      <td>india mark ii</td>\n",
       "      <td>india mark ii</td>\n",
       "      <td>handpump</td>\n",
       "      <td>vwc</td>\n",
       "      <td>user-group</td>\n",
       "      <td>never pay</td>\n",
       "      <td>never pay</td>\n",
       "      <td>soft</td>\n",
       "      <td>good</td>\n",
       "      <td>insufficient</td>\n",
       "      <td>insufficient</td>\n",
       "      <td>shallow well</td>\n",
       "      <td>shallow well</td>\n",
       "      <td>groundwater</td>\n",
       "      <td>hand pump</td>\n",
       "      <td>hand pump</td>\n",
       "      <td>1</td>\n",
       "    </tr>\n",
       "    <tr>\n",
       "      <th>4</th>\n",
       "      <td>5</td>\n",
       "      <td>500.0</td>\n",
       "      <td>3/4/2013</td>\n",
       "      <td>District Council</td>\n",
       "      <td>1304</td>\n",
       "      <td>District Council</td>\n",
       "      <td>37.658595</td>\n",
       "      <td>-3.695075</td>\n",
       "      <td>Store Mwambasa</td>\n",
       "      <td>Pangani</td>\n",
       "      <td>Kilaweni</td>\n",
       "      <td>Kilimanjaro</td>\n",
       "      <td>3</td>\n",
       "      <td>2</td>\n",
       "      <td>Mwanga</td>\n",
       "      <td>Kighare</td>\n",
       "      <td>250</td>\n",
       "      <td>True</td>\n",
       "      <td>GeoData Consultants Ltd</td>\n",
       "      <td>WUA</td>\n",
       "      <td>Ilamalamsuka water supply</td>\n",
       "      <td>False</td>\n",
       "      <td>1982</td>\n",
       "      <td>gravity</td>\n",
       "      <td>gravity</td>\n",
       "      <td>gravity</td>\n",
       "      <td>wua</td>\n",
       "      <td>user-group</td>\n",
       "      <td>never pay</td>\n",
       "      <td>never pay</td>\n",
       "      <td>soft</td>\n",
       "      <td>good</td>\n",
       "      <td>insufficient</td>\n",
       "      <td>insufficient</td>\n",
       "      <td>spring</td>\n",
       "      <td>spring</td>\n",
       "      <td>groundwater</td>\n",
       "      <td>communal standpipe</td>\n",
       "      <td>communal standpipe</td>\n",
       "      <td>1</td>\n",
       "    </tr>\n",
       "  </tbody>\n",
       "</table>\n",
       "</div>\n",
       "      <button class=\"colab-df-convert\" onclick=\"convertToInteractive('df-53d94e0c-41e2-4e28-b9eb-9f1b564effa2')\"\n",
       "              title=\"Convert this dataframe to an interactive table.\"\n",
       "              style=\"display:none;\">\n",
       "        \n",
       "  <svg xmlns=\"http://www.w3.org/2000/svg\" height=\"24px\"viewBox=\"0 0 24 24\"\n",
       "       width=\"24px\">\n",
       "    <path d=\"M0 0h24v24H0V0z\" fill=\"none\"/>\n",
       "    <path d=\"M18.56 5.44l.94 2.06.94-2.06 2.06-.94-2.06-.94-.94-2.06-.94 2.06-2.06.94zm-11 1L8.5 8.5l.94-2.06 2.06-.94-2.06-.94L8.5 2.5l-.94 2.06-2.06.94zm10 10l.94 2.06.94-2.06 2.06-.94-2.06-.94-.94-2.06-.94 2.06-2.06.94z\"/><path d=\"M17.41 7.96l-1.37-1.37c-.4-.4-.92-.59-1.43-.59-.52 0-1.04.2-1.43.59L10.3 9.45l-7.72 7.72c-.78.78-.78 2.05 0 2.83L4 21.41c.39.39.9.59 1.41.59.51 0 1.02-.2 1.41-.59l7.78-7.78 2.81-2.81c.8-.78.8-2.07 0-2.86zM5.41 20L4 18.59l7.72-7.72 1.47 1.35L5.41 20z\"/>\n",
       "  </svg>\n",
       "      </button>\n",
       "      \n",
       "  <style>\n",
       "    .colab-df-container {\n",
       "      display:flex;\n",
       "      flex-wrap:wrap;\n",
       "      gap: 12px;\n",
       "    }\n",
       "\n",
       "    .colab-df-convert {\n",
       "      background-color: #E8F0FE;\n",
       "      border: none;\n",
       "      border-radius: 50%;\n",
       "      cursor: pointer;\n",
       "      display: none;\n",
       "      fill: #1967D2;\n",
       "      height: 32px;\n",
       "      padding: 0 0 0 0;\n",
       "      width: 32px;\n",
       "    }\n",
       "\n",
       "    .colab-df-convert:hover {\n",
       "      background-color: #E2EBFA;\n",
       "      box-shadow: 0px 1px 2px rgba(60, 64, 67, 0.3), 0px 1px 3px 1px rgba(60, 64, 67, 0.15);\n",
       "      fill: #174EA6;\n",
       "    }\n",
       "\n",
       "    [theme=dark] .colab-df-convert {\n",
       "      background-color: #3B4455;\n",
       "      fill: #D2E3FC;\n",
       "    }\n",
       "\n",
       "    [theme=dark] .colab-df-convert:hover {\n",
       "      background-color: #434B5C;\n",
       "      box-shadow: 0px 1px 3px 1px rgba(0, 0, 0, 0.15);\n",
       "      filter: drop-shadow(0px 1px 2px rgba(0, 0, 0, 0.3));\n",
       "      fill: #FFFFFF;\n",
       "    }\n",
       "  </style>\n",
       "\n",
       "      <script>\n",
       "        const buttonEl =\n",
       "          document.querySelector('#df-53d94e0c-41e2-4e28-b9eb-9f1b564effa2 button.colab-df-convert');\n",
       "        buttonEl.style.display =\n",
       "          google.colab.kernel.accessAllowed ? 'block' : 'none';\n",
       "\n",
       "        async function convertToInteractive(key) {\n",
       "          const element = document.querySelector('#df-53d94e0c-41e2-4e28-b9eb-9f1b564effa2');\n",
       "          const dataTable =\n",
       "            await google.colab.kernel.invokeFunction('convertToInteractive',\n",
       "                                                     [key], {});\n",
       "          if (!dataTable) return;\n",
       "\n",
       "          const docLinkHtml = 'Like what you see? Visit the ' +\n",
       "            '<a target=\"_blank\" href=https://colab.research.google.com/notebooks/data_table.ipynb>data table notebook</a>'\n",
       "            + ' to learn more about interactive tables.';\n",
       "          element.innerHTML = '';\n",
       "          dataTable['output_type'] = 'display_data';\n",
       "          await google.colab.output.renderOutput(dataTable, element);\n",
       "          const docLink = document.createElement('div');\n",
       "          docLink.innerHTML = docLinkHtml;\n",
       "          element.appendChild(docLink);\n",
       "        }\n",
       "      </script>\n",
       "    </div>\n",
       "  </div>\n",
       "  "
      ],
      "text/plain": [
       "   id  amount_tsh  ... waterpoint_type_group status_group\n",
       "0   1       500.0  ...             hand pump            1\n",
       "1   2         0.0  ...    communal standpipe            0\n",
       "2   3         0.0  ...             hand pump            0\n",
       "3   4         0.0  ...             hand pump            1\n",
       "4   5       500.0  ...    communal standpipe            1\n",
       "\n",
       "[5 rows x 40 columns]"
      ]
     },
     "execution_count": 1,
     "metadata": {},
     "output_type": "execute_result"
    }
   ],
   "source": [
    "# Do not modify this\n",
    "%autosave 60 \n",
    "import gdown\n",
    "import pandas as pd\n",
    "\n",
    "# Download the training data from drive\n",
    "trainURL = \"https://drive.google.com/uc?id=11WSDMvwLB5jn3Bjw5KT4LkaIdvtQCl38\"\n",
    "gdown.download(trainURL, \"train.csv\", quiet=True)\n",
    "\n",
    "# Read in the training data to a pandas dataframe called train\n",
    "train = pd.read_csv(\"train.csv\")\n",
    "train.head()"
   ]
  },
  {
   "cell_type": "markdown",
   "metadata": {
    "id": "UeUOxmn39iLQ"
   },
   "source": [
    "## **Load Packages**\n",
    "\n",
    "You are free to use external packages to aid in your analyses.  Please load any and all packages you use in the **Load Packages** section below. Note that many data science packages are already installed in the Colab environment. You may also install additional packages if necessary ([instructions](https://www.kindacode.com/snippet/how-to-install-python-libraries-in-google-colab/)). "
   ]
  },
  {
   "cell_type": "code",
   "execution_count": null,
   "metadata": {
    "id": "OiVap60l9xdu"
   },
   "outputs": [],
   "source": [
    "# Load packages here\n",
    "import numpy as np\n",
    "import matplotlib.pyplot as plt\n",
    "import sklearn\n",
    "import pandas as pd\n",
    "from sklearn.model_selection import train_test_split\n",
    "from xgboost import XGBClassifier\n",
    "\n"
   ]
  },
  {
   "cell_type": "markdown",
   "metadata": {
    "id": "-Xe4vPz7CD7b"
   },
   "source": [
    "## **Your Work**\n",
    "\n",
    "Use this section to develop your predictive models. You may create additional code cells, and are encouraged to add text cells that explain the steps of your analysis. When you are satisfied with your model, follow the steps in the **Submit to Competition** section to make a submission to our competition on Kaggle.\n",
    "\n",
    "+ As much as possible, try to group your analyses according to the subheaders within this section. For example, if you choose to do any feature engineering, do it within the *Feature Engineering* section below. "
   ]
  },
  {
   "cell_type": "markdown",
   "metadata": {
    "id": "S-7xEfoDvQ0M"
   },
   "source": [
    "### Exploratory Data Analysis (EDA)"
   ]
  },
  {
   "cell_type": "markdown",
   "metadata": {
    "id": "ph0WGenRq71B"
   },
   "source": [
    "Start by getting an overview of the data"
   ]
  },
  {
   "cell_type": "code",
   "execution_count": null,
   "metadata": {
    "colab": {
     "base_uri": "https://localhost:8080/"
    },
    "id": "XdRzqCzTvVIJ",
    "outputId": "7ffe33ef-ba80-47c2-944f-82bf895ae138"
   },
   "outputs": [
    {
     "data": {
      "text/plain": [
       "(47520, 40)"
      ]
     },
     "execution_count": 4,
     "metadata": {},
     "output_type": "execute_result"
    }
   ],
   "source": [
    "# Add code here to explore the data.\n",
    "train.shape"
   ]
  },
  {
   "cell_type": "code",
   "execution_count": null,
   "metadata": {
    "colab": {
     "base_uri": "https://localhost:8080/"
    },
    "id": "PaIibSkOL6OV",
    "outputId": "39d8b22f-5f7f-4cc2-8a3b-e915e26f60f6"
   },
   "outputs": [
    {
     "data": {
      "text/plain": [
       "id                       47520\n",
       "amount_tsh               47520\n",
       "date_recorded            47520\n",
       "funder                   44632\n",
       "gps_height               47520\n",
       "installer                44621\n",
       "longitude                47520\n",
       "latitude                 47520\n",
       "wpt_name                 47520\n",
       "basin                    47520\n",
       "subvillage               47223\n",
       "region                   47520\n",
       "region_code              47520\n",
       "district_code            47520\n",
       "lga                      47520\n",
       "ward                     47520\n",
       "population               47520\n",
       "public_meeting           44844\n",
       "recorded_by              47520\n",
       "scheme_management        44425\n",
       "scheme_name              24942\n",
       "permit                   45082\n",
       "construction_year        47520\n",
       "extraction_type          47520\n",
       "extraction_type_group    47520\n",
       "extraction_type_class    47520\n",
       "management               47520\n",
       "management_group         47520\n",
       "payment                  47520\n",
       "payment_type             47520\n",
       "water_quality            47520\n",
       "quality_group            47520\n",
       "quantity                 47520\n",
       "quantity_group           47520\n",
       "source                   47520\n",
       "source_type              47520\n",
       "source_class             47520\n",
       "waterpoint_type          47520\n",
       "waterpoint_type_group    47520\n",
       "status_group             47520\n",
       "dtype: int64"
      ]
     },
     "execution_count": 5,
     "metadata": {},
     "output_type": "execute_result"
    }
   ],
   "source": [
    "train.count() "
   ]
  },
  {
   "cell_type": "code",
   "execution_count": null,
   "metadata": {
    "colab": {
     "base_uri": "https://localhost:8080/"
    },
    "id": "SKbJPaI3M171",
    "outputId": "963609cf-c163-4669-8dbe-66ed60cba96a"
   },
   "outputs": [
    {
     "data": {
      "text/plain": [
       "id                       47520\n",
       "amount_tsh                  91\n",
       "date_recorded              350\n",
       "funder                    1699\n",
       "gps_height                2393\n",
       "installer                 1922\n",
       "longitude                47517\n",
       "latitude                 47520\n",
       "wpt_name                 30699\n",
       "basin                        9\n",
       "subvillage               17187\n",
       "region                      21\n",
       "region_code                 27\n",
       "district_code               20\n",
       "lga                        125\n",
       "ward                      2085\n",
       "population                 976\n",
       "public_meeting               2\n",
       "recorded_by                  1\n",
       "scheme_management           12\n",
       "scheme_name               2542\n",
       "permit                       2\n",
       "construction_year           55\n",
       "extraction_type             18\n",
       "extraction_type_group       13\n",
       "extraction_type_class        7\n",
       "management                  12\n",
       "management_group             5\n",
       "payment                      7\n",
       "payment_type                 7\n",
       "water_quality                8\n",
       "quality_group                6\n",
       "quantity                     5\n",
       "quantity_group               5\n",
       "source                      10\n",
       "source_type                  7\n",
       "source_class                 3\n",
       "waterpoint_type              7\n",
       "waterpoint_type_group        6\n",
       "status_group                 2\n",
       "dtype: int64"
      ]
     },
     "execution_count": 6,
     "metadata": {},
     "output_type": "execute_result"
    }
   ],
   "source": [
    "train.nunique()"
   ]
  },
  {
   "cell_type": "markdown",
   "metadata": {
    "id": "uoLQaMOurH6T"
   },
   "source": [
    "Now we're looking at individual features which seem relevant to see what their entries are like. Age of pump seems important. Plenty of missing values here entered as zero, will need to fill those in."
   ]
  },
  {
   "cell_type": "code",
   "execution_count": null,
   "metadata": {
    "colab": {
     "base_uri": "https://localhost:8080/",
     "height": 925
    },
    "id": "HNE_YVUXPaqZ",
    "outputId": "34121c64-b6d2-4151-93a6-367d65efe980"
   },
   "outputs": [
    {
     "name": "stdout",
     "output_type": "stream",
     "text": [
      "count    47520.000000\n",
      "mean      1300.838805\n",
      "std        951.573686\n",
      "min          0.000000\n",
      "25%          0.000000\n",
      "50%       1986.000000\n",
      "75%       2004.000000\n",
      "max       2013.000000\n",
      "Name: construction_year, dtype: float64\n"
     ]
    },
    {
     "data": {
      "text/plain": [
       "(array([16563.,     0.,     0.,     0.,     0.,     0.,     0.,     0.,\n",
       "            0.,     0.,     0.,     0.,     0.,     0.,     0.,     0.,\n",
       "            0.,     0.,     0.,     0.,     0.,     0.,     0.,     0.,\n",
       "            0.,     0.,     0.,     0.,     0.,     0.,     0.,     0.,\n",
       "            0.,     0.,     0.,     0.,     0.,     0.,     0.,     0.,\n",
       "            0.,     0.,     0.,     0.,     0.,     0.,     0.,     0.,\n",
       "            0.,     0.,     0.,     0.,     0.,     0.,     0.,     0.,\n",
       "            0.,     0.,     0.,     0.,     0.,     0.,     0.,     0.,\n",
       "            0.,     0.,     0.,     0.,     0.,     0.,     0.,     0.,\n",
       "            0.,     0.,     0.,     0.,     0.,     0.,     0.,     0.,\n",
       "            0.,     0.,     0.,     0.,     0.,     0.,     0.,     0.,\n",
       "            0.,     0.,     0.,     0.,     0.,     0.,     0.,     0.,\n",
       "            0.,  1451.,  8497., 21009.]),\n",
       " array([   0.  ,   20.13,   40.26,   60.39,   80.52,  100.65,  120.78,\n",
       "         140.91,  161.04,  181.17,  201.3 ,  221.43,  241.56,  261.69,\n",
       "         281.82,  301.95,  322.08,  342.21,  362.34,  382.47,  402.6 ,\n",
       "         422.73,  442.86,  462.99,  483.12,  503.25,  523.38,  543.51,\n",
       "         563.64,  583.77,  603.9 ,  624.03,  644.16,  664.29,  684.42,\n",
       "         704.55,  724.68,  744.81,  764.94,  785.07,  805.2 ,  825.33,\n",
       "         845.46,  865.59,  885.72,  905.85,  925.98,  946.11,  966.24,\n",
       "         986.37, 1006.5 , 1026.63, 1046.76, 1066.89, 1087.02, 1107.15,\n",
       "        1127.28, 1147.41, 1167.54, 1187.67, 1207.8 , 1227.93, 1248.06,\n",
       "        1268.19, 1288.32, 1308.45, 1328.58, 1348.71, 1368.84, 1388.97,\n",
       "        1409.1 , 1429.23, 1449.36, 1469.49, 1489.62, 1509.75, 1529.88,\n",
       "        1550.01, 1570.14, 1590.27, 1610.4 , 1630.53, 1650.66, 1670.79,\n",
       "        1690.92, 1711.05, 1731.18, 1751.31, 1771.44, 1791.57, 1811.7 ,\n",
       "        1831.83, 1851.96, 1872.09, 1892.22, 1912.35, 1932.48, 1952.61,\n",
       "        1972.74, 1992.87, 2013.  ]),\n",
       " <a list of 100 Patch objects>)"
      ]
     },
     "execution_count": 162,
     "metadata": {},
     "output_type": "execute_result"
    },
    {
     "data": {
      "image/png": "[encoded data removed]",
      "text/plain": [
       "<Figure size 432x288 with 1 Axes>"
      ]
     },
     "metadata": {
      "needs_background": "light"
     },
     "output_type": "display_data"
    }
   ],
   "source": [
    "###Look at construction year\n",
    "print(train[\"construction_year\"].describe())\n",
    "plt.hist(train[\"construction_year\"],bins=100)\n"
   ]
  },
  {
   "cell_type": "markdown",
   "metadata": {
    "id": "ntmBGgKOre3m"
   },
   "source": [
    "Next we look at the location. A quick look at google maps says that in Tanzania we have roughly $\\text{latitude} \\in ( -1, -11)$ and $\\text{longitude} \\in (29,39)$. We'll use this to see how many have missing entries"
   ]
  },
  {
   "cell_type": "code",
   "execution_count": null,
   "metadata": {
    "colab": {
     "base_uri": "https://localhost:8080/",
     "height": 439
    },
    "id": "QGd1XkML_sjN",
    "outputId": "492ffa18-ff87-4604-ecbc-601e1fc87b4f"
   },
   "outputs": [
    {
     "name": "stdout",
     "output_type": "stream",
     "text": [
      "count    47520.000000\n",
      "mean        -5.707596\n",
      "std          2.950499\n",
      "min        -11.647942\n",
      "25%         -8.546778\n",
      "50%         -5.020870\n",
      "75%         -3.325752\n",
      "max          0.009301\n",
      "Name: latitude, dtype: float64\n",
      "number of zeros lat (ie missing): 1453\n"
     ]
    },
    {
     "data": {
      "image/png": "[encoded data removed]",
      "text/plain": [
       "<Figure size 432x288 with 1 Axes>"
      ]
     },
     "metadata": {
      "needs_background": "light"
     },
     "output_type": "display_data"
    }
   ],
   "source": [
    "### Look at location\n",
    "print(train[\"latitude\"].describe()) # Google maps says max approx -1, min -11\n",
    "plt.figure()\n",
    "plt.hist(train[\"latitude\"],bins=30)\n",
    "print(\"number of zeros lat (ie missing): \" + str ((train[\"latitude\"] > -0.9).sum()))"
   ]
  },
  {
   "cell_type": "code",
   "execution_count": null,
   "metadata": {
    "id": "KO7YvbFvsqiG"
   },
   "outputs": [],
   "source": [
    "train[\"longitude\"].describe() # Google maps says approx min 29 max 39\n",
    "print(\"number of zeros long (ie missing): \" + str ((train[\"longitude\"] < 1).sum()))\n",
    "plt.figure()\n",
    "plt.hist(train[\"longitude\"])"
   ]
  },
  {
   "cell_type": "markdown",
   "metadata": {
    "id": "BpeuAgEysxH6"
   },
   "source": [
    "Next is population near the well. Most wells have small population, but again plenty of zeros which we can fix by imputing something like the average in the region"
   ]
  },
  {
   "cell_type": "code",
   "execution_count": null,
   "metadata": {
    "colab": {
     "base_uri": "https://localhost:8080/",
     "height": 439
    },
    "id": "bdX9_sVQASTm",
    "outputId": "452db8be-dd0a-4676-e239-271983d6954b"
   },
   "outputs": [
    {
     "name": "stdout",
     "output_type": "stream",
     "text": [
      "count    47520.000000\n",
      "mean       180.789983\n",
      "std        482.709125\n",
      "min          0.000000\n",
      "25%          0.000000\n",
      "50%         25.000000\n",
      "75%        215.000000\n",
      "max      30500.000000\n",
      "Name: population, dtype: float64\n",
      "number of zeros: 17110\n"
     ]
    },
    {
     "data": {
      "image/png": "[encoded data removed]",
      "text/plain": [
       "<Figure size 432x288 with 1 Axes>"
      ]
     },
     "metadata": {
      "needs_background": "light"
     },
     "output_type": "display_data"
    }
   ],
   "source": [
    "### Look at population\n",
    "print(train[\"population\"].describe())\n",
    "plt.hist(train[\"population\"],bins=100)\n",
    "print(\"number of zeros: \" + str((train[\"population\"] == 0).sum()))"
   ]
  },
  {
   "cell_type": "markdown",
   "metadata": {
    "id": "lXpJCuqgtED7"
   },
   "source": [
    "Funder data coud be relevant, although there are lots of unique entries"
   ]
  },
  {
   "cell_type": "code",
   "execution_count": null,
   "metadata": {
    "colab": {
     "base_uri": "https://localhost:8080/"
    },
    "id": "CnOWovhVSgZk",
    "outputId": "39955e28-4f90-45e5-de59-2bfa31642792"
   },
   "outputs": [
    {
     "data": {
      "text/plain": [
       "count                      44632\n",
       "unique                      1699\n",
       "top       Government Of Tanzania\n",
       "freq                        7294\n",
       "Name: funder, dtype: object"
      ]
     },
     "execution_count": 275,
     "metadata": {},
     "output_type": "execute_result"
    }
   ],
   "source": [
    "###Look at funder data\n",
    "train[\"funder\"].describe() # ugh\n",
    "#sorted((train[\"funder\"].astype('string').unique().dropna()))"
   ]
  },
  {
   "cell_type": "markdown",
   "metadata": {
    "id": "NmjxJV30tSYz"
   },
   "source": [
    "We want to look at other location data, for example the governing authority could be different for two very nearby wells. "
   ]
  },
  {
   "cell_type": "code",
   "execution_count": null,
   "metadata": {
    "colab": {
     "base_uri": "https://localhost:8080/"
    },
    "id": "9-MZCAd-98rI",
    "outputId": "7a29f618-c415-4b27-bd31-d2b821b2a623"
   },
   "outputs": [
    {
     "name": "stdout",
     "output_type": "stream",
     "text": [
      "Number of not NaN:47520\n"
     ]
    },
    {
     "data": {
      "text/plain": [
       "['Arusha Rural',\n",
       " 'Arusha Urban',\n",
       " 'Babati',\n",
       " 'Bagamoyo',\n",
       " 'Bahi',\n",
       " 'Bariadi',\n",
       " 'Biharamulo',\n",
       " 'Bukoba Rural',\n",
       " 'Bukoba Urban',\n",
       " 'Bukombe',\n",
       " 'Bunda',\n",
       " 'Chamwino',\n",
       " 'Chato',\n",
       " 'Chunya',\n",
       " 'Dodoma Urban',\n",
       " 'Geita',\n",
       " 'Hai',\n",
       " 'Hanang',\n",
       " 'Handeni',\n",
       " 'Igunga',\n",
       " 'Ilala',\n",
       " 'Ileje',\n",
       " 'Ilemela',\n",
       " 'Iramba',\n",
       " 'Iringa Rural',\n",
       " 'Kahama',\n",
       " 'Karagwe',\n",
       " 'Karatu',\n",
       " 'Kasulu',\n",
       " 'Kibaha',\n",
       " 'Kibondo',\n",
       " 'Kigoma Rural',\n",
       " 'Kigoma Urban',\n",
       " 'Kilindi',\n",
       " 'Kilolo',\n",
       " 'Kilombero',\n",
       " 'Kilosa',\n",
       " 'Kilwa',\n",
       " 'Kinondoni',\n",
       " 'Kisarawe',\n",
       " 'Kishapu',\n",
       " 'Kiteto',\n",
       " 'Kondoa',\n",
       " 'Kongwa',\n",
       " 'Korogwe',\n",
       " 'Kwimba',\n",
       " 'Kyela',\n",
       " 'Lindi Rural',\n",
       " 'Lindi Urban',\n",
       " 'Liwale',\n",
       " 'Longido',\n",
       " 'Ludewa',\n",
       " 'Lushoto',\n",
       " 'Mafia',\n",
       " 'Magu',\n",
       " 'Makete',\n",
       " 'Manyoni',\n",
       " 'Masasi',\n",
       " 'Maswa',\n",
       " 'Mbarali',\n",
       " 'Mbeya Rural',\n",
       " 'Mbinga',\n",
       " 'Mbozi',\n",
       " 'Mbulu',\n",
       " 'Meatu',\n",
       " 'Meru',\n",
       " 'Misenyi',\n",
       " 'Missungwi',\n",
       " 'Mkinga',\n",
       " 'Mkuranga',\n",
       " 'Monduli',\n",
       " 'Morogoro Rural',\n",
       " 'Morogoro Urban',\n",
       " 'Moshi Rural',\n",
       " 'Moshi Urban',\n",
       " 'Mpanda',\n",
       " 'Mpwapwa',\n",
       " 'Mtwara Rural',\n",
       " 'Mtwara Urban',\n",
       " 'Mufindi',\n",
       " 'Muheza',\n",
       " 'Muleba',\n",
       " 'Musoma Rural',\n",
       " 'Mvomero',\n",
       " 'Mwanga',\n",
       " 'Nachingwea',\n",
       " 'Namtumbo',\n",
       " 'Nanyumbu',\n",
       " 'Newala',\n",
       " 'Ngara',\n",
       " 'Ngorongoro',\n",
       " 'Njombe',\n",
       " 'Nkasi',\n",
       " 'Nyamagana',\n",
       " 'Nzega',\n",
       " 'Pangani',\n",
       " 'Rombo',\n",
       " 'Rorya',\n",
       " 'Ruangwa',\n",
       " 'Rufiji',\n",
       " 'Rungwe',\n",
       " 'Same',\n",
       " 'Sengerema',\n",
       " 'Serengeti',\n",
       " 'Shinyanga Rural',\n",
       " 'Shinyanga Urban',\n",
       " 'Siha',\n",
       " 'Sikonge',\n",
       " 'Simanjiro',\n",
       " 'Singida Rural',\n",
       " 'Singida Urban',\n",
       " 'Songea Rural',\n",
       " 'Songea Urban',\n",
       " 'Sumbawanga Rural',\n",
       " 'Sumbawanga Urban',\n",
       " 'Tabora Urban',\n",
       " 'Tandahimba',\n",
       " 'Tanga',\n",
       " 'Tarime',\n",
       " 'Temeke',\n",
       " 'Tunduru',\n",
       " 'Ukerewe',\n",
       " 'Ulanga',\n",
       " 'Urambo',\n",
       " 'Uyui']"
      ]
     },
     "execution_count": 166,
     "metadata": {},
     "output_type": "execute_result"
    }
   ],
   "source": [
    "### Other location data (LGA)\n",
    "print(\"Number of not NaN:\" + str(train[\"lga\"].count()))\n",
    "sorted((train[\"lga\"].astype('string').unique().dropna()))\n"
   ]
  },
  {
   "cell_type": "markdown",
   "metadata": {
    "id": "xsr3h_-eKFia"
   },
   "source": [
    "Next is who manages the well which could be important. There are a few different columns with similar looking information. We want to get a handle on how they differ. First we look at what values they each have"
   ]
  },
  {
   "cell_type": "code",
   "execution_count": null,
   "metadata": {
    "colab": {
     "base_uri": "https://localhost:8080/"
    },
    "id": "mQXwxBmDJtQV",
    "outputId": "4ad955b7-d88b-4f03-f3e7-cf15d6eccf02"
   },
   "outputs": [
    {
     "data": {
      "text/plain": [
       "['Company',\n",
       " 'None',\n",
       " 'Other',\n",
       " 'Parastatal',\n",
       " 'Private operator',\n",
       " 'SWC',\n",
       " 'Trust',\n",
       " 'VWC',\n",
       " 'WUA',\n",
       " 'WUG',\n",
       " 'Water Board',\n",
       " 'Water authority']"
      ]
     },
     "execution_count": 167,
     "metadata": {},
     "output_type": "execute_result"
    }
   ],
   "source": [
    "sorted((train[\"scheme_management\"].astype('string').unique().dropna())) "
   ]
  },
  {
   "cell_type": "code",
   "execution_count": null,
   "metadata": {
    "colab": {
     "base_uri": "https://localhost:8080/"
    },
    "id": "6eayZh1vKDTu",
    "outputId": "fefe671e-3b6a-495b-b66f-268710bd01da"
   },
   "outputs": [
    {
     "data": {
      "text/plain": [
       "['company',\n",
       " 'other',\n",
       " 'other - school',\n",
       " 'parastatal',\n",
       " 'private operator',\n",
       " 'trust',\n",
       " 'unknown',\n",
       " 'vwc',\n",
       " 'water authority',\n",
       " 'water board',\n",
       " 'wua',\n",
       " 'wug']"
      ]
     },
     "execution_count": 168,
     "metadata": {},
     "output_type": "execute_result"
    }
   ],
   "source": [
    "sorted((train[\"management\"].astype('string').unique().dropna()))"
   ]
  },
  {
   "cell_type": "code",
   "execution_count": null,
   "metadata": {
    "colab": {
     "base_uri": "https://localhost:8080/"
    },
    "id": "fkuX1CfTKMwo",
    "outputId": "b36fd1b9-008b-4ca4-b4a2-151061545e16"
   },
   "outputs": [
    {
     "name": "stdout",
     "output_type": "stream",
     "text": [
      "47520\n",
      "44425\n"
     ]
    }
   ],
   "source": [
    "print(train[\"management\"].count())\n",
    "print(train[\"scheme_management\"].count())"
   ]
  },
  {
   "cell_type": "markdown",
   "metadata": {
    "id": "pfsm9a6ft_D1"
   },
   "source": [
    "A brief look seems like they could be the same but with different info... But grouping each entry of one with entries from the other shows this isn't always the case. Without too much insight into the problem we'll pick the one which is easiest to deal with"
   ]
  },
  {
   "cell_type": "code",
   "execution_count": null,
   "metadata": {
    "colab": {
     "base_uri": "https://localhost:8080/",
     "height": 423
    },
    "id": "M234kfUeLR5d",
    "outputId": "64ed3769-39ba-429f-9db8-1bc329bb2f0d"
   },
   "outputs": [
    {
     "data": {
      "text/html": [
       "\n",
       "  <div id=\"df-5e22195d-5cec-4428-a25e-6d8230637d43\">\n",
       "    <div class=\"colab-df-container\">\n",
       "      <div>\n",
       "<style scoped>\n",
       "    .dataframe tbody tr th:only-of-type {\n",
       "        vertical-align: middle;\n",
       "    }\n",
       "\n",
       "    .dataframe tbody tr th {\n",
       "        vertical-align: top;\n",
       "    }\n",
       "\n",
       "    .dataframe thead th {\n",
       "        text-align: right;\n",
       "    }\n",
       "</style>\n",
       "<table border=\"1\" class=\"dataframe\">\n",
       "  <thead>\n",
       "    <tr style=\"text-align: right;\">\n",
       "      <th></th>\n",
       "      <th>management</th>\n",
       "      <th>scheme_management</th>\n",
       "    </tr>\n",
       "  </thead>\n",
       "  <tbody>\n",
       "    <tr>\n",
       "      <th>0</th>\n",
       "      <td>vwc</td>\n",
       "      <td>VWC</td>\n",
       "    </tr>\n",
       "    <tr>\n",
       "      <th>1</th>\n",
       "      <td>vwc</td>\n",
       "      <td>VWC</td>\n",
       "    </tr>\n",
       "    <tr>\n",
       "      <th>2</th>\n",
       "      <td>vwc</td>\n",
       "      <td>VWC</td>\n",
       "    </tr>\n",
       "    <tr>\n",
       "      <th>3</th>\n",
       "      <td>vwc</td>\n",
       "      <td>NaN</td>\n",
       "    </tr>\n",
       "    <tr>\n",
       "      <th>4</th>\n",
       "      <td>wua</td>\n",
       "      <td>WUA</td>\n",
       "    </tr>\n",
       "    <tr>\n",
       "      <th>...</th>\n",
       "      <td>...</td>\n",
       "      <td>...</td>\n",
       "    </tr>\n",
       "    <tr>\n",
       "      <th>47515</th>\n",
       "      <td>water authority</td>\n",
       "      <td>Water authority</td>\n",
       "    </tr>\n",
       "    <tr>\n",
       "      <th>47516</th>\n",
       "      <td>company</td>\n",
       "      <td>Company</td>\n",
       "    </tr>\n",
       "    <tr>\n",
       "      <th>47517</th>\n",
       "      <td>water authority</td>\n",
       "      <td>Water authority</td>\n",
       "    </tr>\n",
       "    <tr>\n",
       "      <th>47518</th>\n",
       "      <td>vwc</td>\n",
       "      <td>VWC</td>\n",
       "    </tr>\n",
       "    <tr>\n",
       "      <th>47519</th>\n",
       "      <td>vwc</td>\n",
       "      <td>VWC</td>\n",
       "    </tr>\n",
       "  </tbody>\n",
       "</table>\n",
       "<p>47520 rows × 2 columns</p>\n",
       "</div>\n",
       "      <button class=\"colab-df-convert\" onclick=\"convertToInteractive('df-5e22195d-5cec-4428-a25e-6d8230637d43')\"\n",
       "              title=\"Convert this dataframe to an interactive table.\"\n",
       "              style=\"display:none;\">\n",
       "        \n",
       "  <svg xmlns=\"http://www.w3.org/2000/svg\" height=\"24px\"viewBox=\"0 0 24 24\"\n",
       "       width=\"24px\">\n",
       "    <path d=\"M0 0h24v24H0V0z\" fill=\"none\"/>\n",
       "    <path d=\"M18.56 5.44l.94 2.06.94-2.06 2.06-.94-2.06-.94-.94-2.06-.94 2.06-2.06.94zm-11 1L8.5 8.5l.94-2.06 2.06-.94-2.06-.94L8.5 2.5l-.94 2.06-2.06.94zm10 10l.94 2.06.94-2.06 2.06-.94-2.06-.94-.94-2.06-.94 2.06-2.06.94z\"/><path d=\"M17.41 7.96l-1.37-1.37c-.4-.4-.92-.59-1.43-.59-.52 0-1.04.2-1.43.59L10.3 9.45l-7.72 7.72c-.78.78-.78 2.05 0 2.83L4 21.41c.39.39.9.59 1.41.59.51 0 1.02-.2 1.41-.59l7.78-7.78 2.81-2.81c.8-.78.8-2.07 0-2.86zM5.41 20L4 18.59l7.72-7.72 1.47 1.35L5.41 20z\"/>\n",
       "  </svg>\n",
       "      </button>\n",
       "      \n",
       "  <style>\n",
       "    .colab-df-container {\n",
       "      display:flex;\n",
       "      flex-wrap:wrap;\n",
       "      gap: 12px;\n",
       "    }\n",
       "\n",
       "    .colab-df-convert {\n",
       "      background-color: #E8F0FE;\n",
       "      border: none;\n",
       "      border-radius: 50%;\n",
       "      cursor: pointer;\n",
       "      display: none;\n",
       "      fill: #1967D2;\n",
       "      height: 32px;\n",
       "      padding: 0 0 0 0;\n",
       "      width: 32px;\n",
       "    }\n",
       "\n",
       "    .colab-df-convert:hover {\n",
       "      background-color: #E2EBFA;\n",
       "      box-shadow: 0px 1px 2px rgba(60, 64, 67, 0.3), 0px 1px 3px 1px rgba(60, 64, 67, 0.15);\n",
       "      fill: #174EA6;\n",
       "    }\n",
       "\n",
       "    [theme=dark] .colab-df-convert {\n",
       "      background-color: #3B4455;\n",
       "      fill: #D2E3FC;\n",
       "    }\n",
       "\n",
       "    [theme=dark] .colab-df-convert:hover {\n",
       "      background-color: #434B5C;\n",
       "      box-shadow: 0px 1px 3px 1px rgba(0, 0, 0, 0.15);\n",
       "      filter: drop-shadow(0px 1px 2px rgba(0, 0, 0, 0.3));\n",
       "      fill: #FFFFFF;\n",
       "    }\n",
       "  </style>\n",
       "\n",
       "      <script>\n",
       "        const buttonEl =\n",
       "          document.querySelector('#df-5e22195d-5cec-4428-a25e-6d8230637d43 button.colab-df-convert');\n",
       "        buttonEl.style.display =\n",
       "          google.colab.kernel.accessAllowed ? 'block' : 'none';\n",
       "\n",
       "        async function convertToInteractive(key) {\n",
       "          const element = document.querySelector('#df-5e22195d-5cec-4428-a25e-6d8230637d43');\n",
       "          const dataTable =\n",
       "            await google.colab.kernel.invokeFunction('convertToInteractive',\n",
       "                                                     [key], {});\n",
       "          if (!dataTable) return;\n",
       "\n",
       "          const docLinkHtml = 'Like what you see? Visit the ' +\n",
       "            '<a target=\"_blank\" href=https://colab.research.google.com/notebooks/data_table.ipynb>data table notebook</a>'\n",
       "            + ' to learn more about interactive tables.';\n",
       "          element.innerHTML = '';\n",
       "          dataTable['output_type'] = 'display_data';\n",
       "          await google.colab.output.renderOutput(dataTable, element);\n",
       "          const docLink = document.createElement('div');\n",
       "          docLink.innerHTML = docLinkHtml;\n",
       "          element.appendChild(docLink);\n",
       "        }\n",
       "      </script>\n",
       "    </div>\n",
       "  </div>\n",
       "  "
      ],
      "text/plain": [
       "            management scheme_management\n",
       "0                  vwc               VWC\n",
       "1                  vwc               VWC\n",
       "2                  vwc               VWC\n",
       "3                  vwc               NaN\n",
       "4                  wua               WUA\n",
       "...                ...               ...\n",
       "47515  water authority   Water authority\n",
       "47516          company           Company\n",
       "47517  water authority   Water authority\n",
       "47518              vwc               VWC\n",
       "47519              vwc               VWC\n",
       "\n",
       "[47520 rows x 2 columns]"
      ]
     },
     "execution_count": 170,
     "metadata": {},
     "output_type": "execute_result"
    }
   ],
   "source": [
    "train[[\"management\",\"scheme_management\"]]"
   ]
  },
  {
   "cell_type": "code",
   "execution_count": null,
   "metadata": {
    "colab": {
     "base_uri": "https://localhost:8080/"
    },
    "id": "-XHeBjb9K0iA",
    "outputId": "de626c6f-5524-42e4-e19e-1c6501cab26b"
   },
   "outputs": [
    {
     "name": "stdout",
     "output_type": "stream",
     "text": [
      "management        scheme_management\n",
      "company           Company                535\n",
      "                  Private operator         2\n",
      "                  Trust                    1\n",
      "                  VWC                      2\n",
      "                  WUA                      1\n",
      "                  WUG                      4\n",
      "other             Company                  2\n",
      "                  Other                  402\n",
      "                  Private operator         4\n",
      "                  VWC                     34\n",
      "                  WUA                      1\n",
      "                  WUG                     11\n",
      "                  Water Board             16\n",
      "                  Water authority         37\n",
      "other - school    SWC                     78\n",
      "                  VWC                      9\n",
      "parastatal        Company                 19\n",
      "                  Other                    1\n",
      "                  Parastatal            1270\n",
      "                  Private operator         3\n",
      "                  Trust                    1\n",
      "                  VWC                     92\n",
      "                  WUA                     18\n",
      "                  WUG                      6\n",
      "                  Water Board              1\n",
      "private operator  Company                180\n",
      "                  Other                   49\n",
      "                  Parastatal              47\n",
      "                  Private operator       791\n",
      "                  Trust                    1\n",
      "                  VWC                    124\n",
      "                  WUA                    159\n",
      "                  WUG                      5\n",
      "                  Water Board              2\n",
      "                  Water authority        133\n",
      "trust             Other                    1\n",
      "                  Private operator         1\n",
      "                  Trust                   47\n",
      "                  VWC                      2\n",
      "                  Water Board              2\n",
      "                  Water authority          9\n",
      "unknown           Other                    4\n",
      "                  Parastatal               4\n",
      "                  VWC                     61\n",
      "                  WUA                      1\n",
      "                  WUG                      3\n",
      "vwc               Company                115\n",
      "                  None                     1\n",
      "                  Other                   33\n",
      "                  Parastatal              38\n",
      "                  Private operator        74\n",
      "                  SWC                      9\n",
      "                  Trust                    5\n",
      "                  VWC                  28278\n",
      "                  WUA                    196\n",
      "                  WUG                    310\n",
      "                  Water Board            331\n",
      "                  Water authority       1045\n",
      "water authority   Other                   14\n",
      "                  Parastatal               1\n",
      "                  Private operator         4\n",
      "                  Trust                    1\n",
      "                  VWC                      7\n",
      "                  Water Board              1\n",
      "                  Water authority        695\n",
      "water board       Parastatal               1\n",
      "                  Private operator         1\n",
      "                  Trust                    1\n",
      "                  VWC                     34\n",
      "                  Water Board           1690\n",
      "                  Water authority        585\n",
      "wua               VWC                     79\n",
      "                  WUA                   1916\n",
      "                  WUG                      1\n",
      "                  Water Board             34\n",
      "                  Water authority          8\n",
      "wug               Company                  1\n",
      "                  Other                   95\n",
      "                  Private operator         1\n",
      "                  VWC                    648\n",
      "                  WUA                     46\n",
      "                  WUG                   3856\n",
      "                  Water Board             80\n",
      "                  Water authority         14\n"
     ]
    }
   ],
   "source": [
    "print(train.groupby([\"management\",\"scheme_management\"])[\"id\"].count().to_string())"
   ]
  },
  {
   "cell_type": "markdown",
   "metadata": {
    "id": "8kYYn--AM83n"
   },
   "source": [
    "Next is the type of pump, maybe some pumps are more prone to break. Again we have similar looking columns, this time they are identitcal. "
   ]
  },
  {
   "cell_type": "code",
   "execution_count": null,
   "metadata": {
    "colab": {
     "base_uri": "https://localhost:8080/"
    },
    "id": "uwCS7M0NM_YK",
    "outputId": "f6b54518-dbde-4e9c-9b15-3184d65cf430"
   },
   "outputs": [
    {
     "name": "stdout",
     "output_type": "stream",
     "text": [
      "waterpoint_type              waterpoint_type_group\n",
      "cattle trough                cattle trough               92\n",
      "communal standpipe           communal standpipe       22794\n",
      "communal standpipe multiple  communal standpipe        4892\n",
      "dam                          dam                          4\n",
      "hand pump                    hand pump                14036\n",
      "improved spring              improved spring            629\n",
      "other                        other                     5073\n"
     ]
    }
   ],
   "source": [
    "print(train.groupby([\"waterpoint_type\",\"waterpoint_type_group\"])[\"id\"].count().to_string())"
   ]
  },
  {
   "cell_type": "code",
   "execution_count": null,
   "metadata": {
    "colab": {
     "base_uri": "https://localhost:8080/"
    },
    "id": "KztC59vqNShb",
    "outputId": "13f4ac5e-528e-4eec-afe1-ed1f2c949f4f"
   },
   "outputs": [
    {
     "name": "stdout",
     "output_type": "stream",
     "text": [
      "Number of not NaN:47520\n",
      "Unique entries in waterpoint_type: \n"
     ]
    },
    {
     "data": {
      "text/plain": [
       "['cattle trough',\n",
       " 'communal standpipe',\n",
       " 'communal standpipe multiple',\n",
       " 'dam',\n",
       " 'hand pump',\n",
       " 'improved spring',\n",
       " 'other']"
      ]
     },
     "execution_count": 21,
     "metadata": {},
     "output_type": "execute_result"
    }
   ],
   "source": [
    "print(\"Number of not NaN:\" + str(train[\"waterpoint_type\"].count()))\n",
    "print(\"Unique entries in waterpoint_type: \")\n",
    "sorted((train[\"waterpoint_type\"].astype('string').unique().dropna()))"
   ]
  },
  {
   "cell_type": "markdown",
   "metadata": {
    "id": "T1ZhFk7pOD4E"
   },
   "source": [
    "Water quality could affect pumps. Same deal with similar columns, this time one column is slightly more granular. The more detailed column doesn't have too many entries so we'll take that one later"
   ]
  },
  {
   "cell_type": "code",
   "execution_count": null,
   "metadata": {
    "colab": {
     "base_uri": "https://localhost:8080/"
    },
    "id": "gtO9ThUWOGZX",
    "outputId": "b698e2d3-95f2-4bfa-b386-e34355a5548f"
   },
   "outputs": [
    {
     "name": "stdout",
     "output_type": "stream",
     "text": [
      "Number of not NaN:47520\n"
     ]
    },
    {
     "data": {
      "text/plain": [
       "['coloured',\n",
       " 'fluoride',\n",
       " 'fluoride abandoned',\n",
       " 'milky',\n",
       " 'salty',\n",
       " 'salty abandoned',\n",
       " 'soft',\n",
       " 'unknown']"
      ]
     },
     "execution_count": 174,
     "metadata": {},
     "output_type": "execute_result"
    }
   ],
   "source": [
    "print(\"Number of not NaN:\" + str(train[\"water_quality\"].count()))\n",
    "sorted((train[\"water_quality\"].astype('string').unique().dropna()))\n"
   ]
  },
  {
   "cell_type": "code",
   "execution_count": null,
   "metadata": {
    "colab": {
     "base_uri": "https://localhost:8080/"
    },
    "id": "HbwURieZOPW_",
    "outputId": "c0f71d1e-2b10-4125-98e3-84636f8613b8"
   },
   "outputs": [
    {
     "name": "stdout",
     "output_type": "stream",
     "text": [
      "Number of not NaN:47520\n"
     ]
    },
    {
     "data": {
      "text/plain": [
       "['colored', 'fluoride', 'good', 'milky', 'salty', 'unknown']"
      ]
     },
     "execution_count": 175,
     "metadata": {},
     "output_type": "execute_result"
    }
   ],
   "source": [
    "print(\"Number of not NaN:\" + str(train[\"quality_group\"].count()))\n",
    "sorted((train[\"quality_group\"].astype('string').unique().dropna()))"
   ]
  },
  {
   "cell_type": "code",
   "execution_count": null,
   "metadata": {
    "colab": {
     "base_uri": "https://localhost:8080/"
    },
    "id": "h8zYyz1EOekU",
    "outputId": "6de0358b-4c8d-447e-caff-fd9916f7a490"
   },
   "outputs": [
    {
     "name": "stdout",
     "output_type": "stream",
     "text": [
      "quality_group  water_quality     \n",
      "colored        coloured                381\n",
      "fluoride       fluoride                157\n",
      "               fluoride abandoned       14\n",
      "good           soft                  40675\n",
      "milky          milky                   639\n",
      "salty          salty                  3863\n",
      "               salty abandoned         270\n",
      "unknown        unknown                1521\n"
     ]
    }
   ],
   "source": [
    "print(train.groupby([\"quality_group\",\"water_quality\"])[\"id\"].count().to_string())"
   ]
  },
  {
   "cell_type": "markdown",
   "metadata": {
    "id": "V5ZhmHj1vQ8c"
   },
   "source": [
    "Extraction type"
   ]
  },
  {
   "cell_type": "code",
   "execution_count": null,
   "metadata": {
    "colab": {
     "base_uri": "https://localhost:8080/"
    },
    "id": "-iybbZs39bGE",
    "outputId": "e30ae59a-6cf7-4c36-c221-334802b61aaa"
   },
   "outputs": [
    {
     "data": {
      "text/plain": [
       "['afridev',\n",
       " 'cemo',\n",
       " 'climax',\n",
       " 'gravity',\n",
       " 'india mark ii',\n",
       " 'india mark iii',\n",
       " 'ksb',\n",
       " 'mono',\n",
       " 'nira/tanira',\n",
       " 'other',\n",
       " 'other - mkulima/shinyanga',\n",
       " 'other - play pump',\n",
       " 'other - rope pump',\n",
       " 'other - swn 81',\n",
       " 'submersible',\n",
       " 'swn 80',\n",
       " 'walimi',\n",
       " 'windmill']"
      ]
     },
     "execution_count": 279,
     "metadata": {},
     "output_type": "execute_result"
    }
   ],
   "source": [
    "# Extraction type\n",
    "sorted((train[\"extraction_type\"].astype('string').unique().dropna()))\n",
    "print(train[\"extraction_type\"].count())"
   ]
  },
  {
   "cell_type": "markdown",
   "metadata": {
    "id": "xj9KkHW7vVBm"
   },
   "source": [
    "Quantity of water seems relevant, again we have a duplicate column"
   ]
  },
  {
   "cell_type": "code",
   "execution_count": null,
   "metadata": {
    "colab": {
     "base_uri": "https://localhost:8080/"
    },
    "id": "EFMKIGvT-0NR",
    "outputId": "94b1903d-3183-4d50-af98-19562c6cdd72"
   },
   "outputs": [
    {
     "data": {
      "text/plain": [
       "['dry', 'enough', 'insufficient', 'seasonal', 'unknown']"
      ]
     },
     "execution_count": 294,
     "metadata": {},
     "output_type": "execute_result"
    }
   ],
   "source": [
    "#Quantity\n",
    "sorted((train[\"quantity\"].astype('string').unique().dropna()))"
   ]
  },
  {
   "cell_type": "code",
   "execution_count": null,
   "metadata": {
    "colab": {
     "base_uri": "https://localhost:8080/"
    },
    "id": "xtp-U5qv-4A1",
    "outputId": "b00dee6e-fb5f-46fa-b90d-e8521b279776"
   },
   "outputs": [
    {
     "data": {
      "text/plain": [
       "['dry', 'enough', 'insufficient', 'seasonal', 'unknown']"
      ]
     },
     "execution_count": 295,
     "metadata": {},
     "output_type": "execute_result"
    }
   ],
   "source": [
    "sorted((train[\"quantity_group\"].astype('string').unique().dropna()))"
   ]
  },
  {
   "cell_type": "code",
   "execution_count": null,
   "metadata": {
    "colab": {
     "base_uri": "https://localhost:8080/"
    },
    "id": "v9nLpbvA-64u",
    "outputId": "be0c5a97-22f2-4cbe-e357-05c1053c48cc"
   },
   "outputs": [
    {
     "name": "stdout",
     "output_type": "stream",
     "text": [
      "quantity_group  quantity    \n",
      "dry             dry              4972\n",
      "enough          enough          26617\n",
      "insufficient    insufficient    12035\n",
      "seasonal        seasonal         3266\n",
      "unknown         unknown           630\n"
     ]
    }
   ],
   "source": [
    "print(train.groupby([\"quantity_group\",\"quantity\"])[\"id\"].count().to_string())"
   ]
  },
  {
   "cell_type": "markdown",
   "metadata": {
    "id": "hzt10f8l_OdV"
   },
   "source": [
    "The installer could be quite a good feature to have, but there are lots of duplicate entries and typos. This is probably going to be too much work to fix up"
   ]
  },
  {
   "cell_type": "code",
   "execution_count": null,
   "metadata": {
    "colab": {
     "base_uri": "https://localhost:8080/"
    },
    "id": "VT7Ls8w_Bdvi",
    "outputId": "0704fa3f-48fe-48d6-a5f3-7ce74432aea8"
   },
   "outputs": [
    {
     "data": {
      "text/plain": [
       "['-',\n",
       " '0',\n",
       " 'A.D.B',\n",
       " 'AAR',\n",
       " 'ABASIA',\n",
       " 'ABD',\n",
       " 'AC',\n",
       " 'ACORD',\n",
       " 'ACRA',\n",
       " 'ACT',\n",
       " 'ACTION AID',\n",
       " 'ACTIVE TANK CO',\n",
       " 'ACTIVE TANK CO LTD',\n",
       " 'AD',\n",
       " 'ADAP',\n",
       " 'ADB',\n",
       " 'ADP',\n",
       " 'ADP Busangi',\n",
       " 'ADRA',\n",
       " 'ADRA /Government',\n",
       " 'ADRA/Government',\n",
       " 'AF',\n",
       " 'AFRICA',\n",
       " 'AFRICA MUSLIM',\n",
       " 'AFRICAN DEVELOPMENT FOUNDATION',\n",
       " 'AFRICAN REFLECTIONS FOUNDATION',\n",
       " 'AI',\n",
       " 'AIC',\n",
       " 'AICT',\n",
       " 'AIMGOLD',\n",
       " 'AIXOS',\n",
       " 'ALIA',\n",
       " 'ALLYS',\n",
       " 'AMP Contract',\n",
       " 'AMP Contracts',\n",
       " 'AMP contractor',\n",
       " 'AMREF',\n",
       " 'ANGLI',\n",
       " 'ANGLIKANA CHURCH',\n",
       " 'ANGRIKANA',\n",
       " 'ANSWAR',\n",
       " 'APM',\n",
       " 'AQAL',\n",
       " 'AQUA BLUES ANGELS',\n",
       " 'AQUA WEL',\n",
       " 'AQUA Wel',\n",
       " 'AQUARMAN DRILLERS',\n",
       " 'ASDP',\n",
       " 'ATIGH BUILDINGS',\n",
       " 'AUSTRALIA',\n",
       " 'AUWASA',\n",
       " 'Aartisa',\n",
       " 'Abdallah Ally Wazir',\n",
       " 'Accra',\n",
       " 'Action Aid',\n",
       " 'Action Contre La Faim',\n",
       " 'Action Contre la Faim',\n",
       " 'Active KMK',\n",
       " 'Active MKM',\n",
       " 'Adam',\n",
       " 'Adam mualuaka',\n",
       " 'Adra',\n",
       " 'Adra /Community',\n",
       " 'Adra/ Community',\n",
       " 'Adra/Community',\n",
       " 'Adrs',\n",
       " 'Af',\n",
       " 'Africa',\n",
       " 'Africa Amini Alama',\n",
       " 'Africa Islamic Agency Tanzania',\n",
       " 'Africa M',\n",
       " 'Africa Muslim Agenc',\n",
       " 'African Muslims Age',\n",
       " 'African Realief Committe of Ku',\n",
       " 'Africaone',\n",
       " 'Africaone Ltd',\n",
       " 'Africare',\n",
       " 'Afroz Ismail',\n",
       " 'Al Ha',\n",
       " 'Alex moyela',\n",
       " 'Altai Co. ltd',\n",
       " 'Amari',\n",
       " 'Amboni Plantation',\n",
       " 'Amboni plantation',\n",
       " 'Ambrose',\n",
       " 'Amec',\n",
       " 'American',\n",
       " 'Amref',\n",
       " 'Angli',\n",
       " 'Anglica Church',\n",
       " 'Anglican',\n",
       " 'Anglican Church',\n",
       " 'Anglican Uganda',\n",
       " 'Anglican church',\n",
       " 'Anglikan',\n",
       " 'Anglikana',\n",
       " 'Angrikana',\n",
       " 'Ansnani Murij',\n",
       " 'Ar',\n",
       " 'Arab community',\n",
       " 'Arabs Community',\n",
       " 'Ardhi Instute',\n",
       " 'Ardhi Water Wells',\n",
       " 'Ardhi Water well',\n",
       " 'Ardhi and PET Companies',\n",
       " 'Ardhi water well',\n",
       " 'Arrian',\n",
       " 'Artisan',\n",
       " 'Athumani  Janguo',\n",
       " 'Athumani Issa',\n",
       " 'Atisan',\n",
       " 'Atlas Company',\n",
       " 'BALYEH',\n",
       " 'BAPTIST CHURCH',\n",
       " 'BATIST CHURCH',\n",
       " 'BEMANDA',\n",
       " 'BENGUKA',\n",
       " 'BESADA',\n",
       " 'BESADO',\n",
       " 'BFFS',\n",
       " 'BGM',\n",
       " 'BGSS',\n",
       " 'BILILA',\n",
       " 'BIORE',\n",
       " 'BKHWS',\n",
       " 'BOAZI',\n",
       " 'BOMA SAVING',\n",
       " 'BR',\n",
       " 'BRA',\n",
       " 'BRUDER',\n",
       " 'BSF',\n",
       " 'BUKUMB',\n",
       " 'BUMABU',\n",
       " 'Baadela',\n",
       " 'Babu Sajin',\n",
       " 'Babu Sajini',\n",
       " 'Bao',\n",
       " 'Baric',\n",
       " 'Belgiam Government',\n",
       " 'Belgij',\n",
       " 'Benjamin',\n",
       " 'Billy Phillips',\n",
       " 'Bingo foundation',\n",
       " 'Bingo foundation Germany',\n",
       " 'BioRe',\n",
       " 'Biore',\n",
       " 'Birage',\n",
       " 'Bobby',\n",
       " 'Bokera W',\n",
       " 'Boni',\n",
       " 'Bonite Bottles Ltd',\n",
       " 'Brad',\n",
       " 'Bridge north',\n",
       " 'Britain',\n",
       " 'British',\n",
       " 'British colonial government',\n",
       " 'British government',\n",
       " 'Buguba',\n",
       " 'Building works Company Ltd',\n",
       " 'Building works engineering Ltd',\n",
       " 'Bulyahunlu Gold Mine',\n",
       " 'Buruba',\n",
       " 'Busoga trust',\n",
       " 'C',\n",
       " 'CAP',\n",
       " 'CARE',\n",
       " 'CARE/CIPRO',\n",
       " 'CARITAS',\n",
       " 'CARTAS',\n",
       " 'CARTAS Tanzania',\n",
       " 'CBHCC',\n",
       " 'CCEC',\n",
       " 'CCP',\n",
       " 'CCPK',\n",
       " 'CCPS',\n",
       " 'CCT',\n",
       " 'CDTF',\n",
       " 'CEFA',\n",
       " 'CEFA/rc church',\n",
       " 'CENTRAL GOVERNMENT',\n",
       " 'CES',\n",
       " 'CF Builders',\n",
       " 'CG',\n",
       " 'CG/RC',\n",
       " 'CGI',\n",
       " 'CHANI',\n",
       " 'CHELA',\n",
       " 'CHENI',\n",
       " 'CHINA',\n",
       " 'CHINA Co.',\n",
       " 'CHINA HENAN CONSTUCTION',\n",
       " 'CHINA HENAN CONTRACTOR',\n",
       " 'CHRISTAN OUTRICH',\n",
       " 'CHRISTIAN OUTRICH',\n",
       " 'CHURC',\n",
       " 'CIP',\n",
       " 'CIPRO',\n",
       " 'CIPRO/CARE',\n",
       " 'CIPRO/CARE/TCRS',\n",
       " 'CIPRO/Government',\n",
       " 'CITIZEN ENGINE',\n",
       " 'CJEJOW',\n",
       " 'CJEJOW CONSTRUCTION',\n",
       " 'CMSR',\n",
       " 'COBASHEC',\n",
       " 'COCANE',\n",
       " 'COCU',\n",
       " 'COEK',\n",
       " 'COEW',\n",
       " 'COMMU',\n",
       " 'COMMUNITY',\n",
       " 'COMMUNITY BANK',\n",
       " 'CONCERN',\n",
       " 'CONS',\n",
       " 'COSMOS ENG LTD',\n",
       " 'COUN',\n",
       " 'COWI',\n",
       " 'COYI',\n",
       " 'CPRO',\n",
       " 'CRAELIUS',\n",
       " 'CRS',\n",
       " 'CSPD',\n",
       " 'CVS Miss',\n",
       " 'Caltas',\n",
       " 'Caltus',\n",
       " 'Calvary connection',\n",
       " 'Camartec',\n",
       " 'Canada na Tanzania',\n",
       " 'Canop',\n",
       " 'Care  international',\n",
       " 'Care international',\n",
       " 'Carmatech',\n",
       " 'Cast',\n",
       " 'Ce',\n",
       " 'Cebtral Government',\n",
       " 'Cefa',\n",
       " 'Cental Government',\n",
       " 'Centr',\n",
       " 'Centra govt',\n",
       " 'Central Government',\n",
       " 'Central basin',\n",
       " 'Central government',\n",
       " 'Central govt',\n",
       " 'Cetral government /RC',\n",
       " 'Ch',\n",
       " 'Chacha Issame',\n",
       " 'Chama cha Ushirika',\n",
       " 'Chamavita',\n",
       " 'Charlotte Well',\n",
       " 'Chiko',\n",
       " 'China',\n",
       " 'Chinese',\n",
       " 'Christina Magoge',\n",
       " 'Christopher',\n",
       " 'Chuo',\n",
       " 'Chur',\n",
       " 'Church',\n",
       " 'Church Of Disciples',\n",
       " 'Cida',\n",
       " 'Clause workers',\n",
       " 'Claver',\n",
       " 'Co',\n",
       " 'College',\n",
       " 'Colonial Government',\n",
       " 'Colonial government',\n",
       " 'Commu',\n",
       " 'Communit',\n",
       " 'Community',\n",
       " 'Compa',\n",
       " 'Comunity',\n",
       " 'Conce',\n",
       " 'Concen',\n",
       " 'Concern',\n",
       " 'Concern /government',\n",
       " 'Concern/Government',\n",
       " 'Cons',\n",
       " 'Consultant',\n",
       " 'Consultant Engineer',\n",
       " 'Consultant and DWE',\n",
       " 'Consulting Engineer',\n",
       " 'Consulting engineer',\n",
       " 'Consuting Engineer',\n",
       " 'Conta',\n",
       " 'Contr',\n",
       " 'Cosmo',\n",
       " 'Cosmos Engineering',\n",
       " 'Coun',\n",
       " 'Counc',\n",
       " 'Council',\n",
       " 'Crety',\n",
       " 'Cultus',\n",
       " 'D',\n",
       " 'DA',\n",
       " 'DADIS',\n",
       " 'DADP',\n",
       " 'DADS',\n",
       " 'DADS/Village community',\n",
       " 'DADS/village Community',\n",
       " 'DADS/village community',\n",
       " 'DAK',\n",
       " 'DALDO',\n",
       " 'DANIAD',\n",
       " 'DANID',\n",
       " 'DANIDA',\n",
       " 'DANIDA CO',\n",
       " 'DANIDS',\n",
       " 'DANNIDA',\n",
       " 'DANNY',\n",
       " 'DARDO',\n",
       " 'DASIP',\n",
       " 'DASP',\n",
       " 'DASSIP',\n",
       " 'DAWASCO',\n",
       " 'DAWE',\n",
       " 'DBFPE',\n",
       " 'DBSP',\n",
       " 'DBSPE',\n",
       " 'DCCA',\n",
       " 'DCT',\n",
       " 'DDCA',\n",
       " 'DDCA CO',\n",
       " 'DDP',\n",
       " 'DDSA',\n",
       " 'DE',\n",
       " 'DED',\n",
       " 'DEE',\n",
       " 'DENISH',\n",
       " 'DESK C',\n",
       " 'DESK a',\n",
       " 'DEW',\n",
       " 'DH',\n",
       " 'DHV',\n",
       " 'DHV Moro',\n",
       " 'DIMON',\n",
       " 'DISTRICT COUNCIL',\n",
       " 'DIWANI',\n",
       " 'DMDD',\n",
       " 'DMDD/SOLIDER',\n",
       " 'DMK',\n",
       " 'DMMD',\n",
       " 'DO',\n",
       " 'DODDEA',\n",
       " 'DSP',\n",
       " 'DSPU',\n",
       " 'DSV',\n",
       " 'DUWAS',\n",
       " 'DV',\n",
       " 'DW',\n",
       " 'DW#',\n",
       " 'DW$',\n",
       " 'DWE',\n",
       " 'DWE & LWI',\n",
       " 'DWE&',\n",
       " 'DWE/',\n",
       " 'DWE/Ubalozi wa Marekani',\n",
       " 'DWE}',\n",
       " 'DWR',\n",
       " 'DWSP',\n",
       " 'DWT',\n",
       " 'DWW',\n",
       " 'Da',\n",
       " 'Danda',\n",
       " 'Danid',\n",
       " 'Daniel',\n",
       " 'Dar es salaam Technician',\n",
       " 'Dawasco',\n",
       " 'Deogra',\n",
       " 'Desk and chair foundation',\n",
       " 'Deus Ndege',\n",
       " 'Dhinu',\n",
       " 'Di',\n",
       " 'Dina',\n",
       " 'Diocese of Geita',\n",
       " 'Distri',\n",
       " 'Distric Water Department',\n",
       " 'District  Council',\n",
       " 'District COUNCIL',\n",
       " 'District Counci',\n",
       " 'District Council',\n",
       " 'District Water Department',\n",
       " 'District council',\n",
       " 'District water depar',\n",
       " 'District water department',\n",
       " 'Diwani',\n",
       " 'Dmdd',\n",
       " 'Do',\n",
       " 'Dokta Mwandulami',\n",
       " 'Domnik',\n",
       " 'Dr. Matobola',\n",
       " 'Dr. Matomola',\n",
       " 'Dr.Matobola',\n",
       " 'Dr.Matomola',\n",
       " 'Dwe',\n",
       " 'Dydrotec',\n",
       " 'EA',\n",
       " 'ECO LODGE',\n",
       " 'EF',\n",
       " 'EFAM',\n",
       " 'EFG',\n",
       " 'EGYPT',\n",
       " 'EGYPT REGWA',\n",
       " 'EL',\n",
       " 'ELCA',\n",
       " 'ELCT',\n",
       " 'EMANDA',\n",
       " 'EMANDA BUILDERS',\n",
       " 'ENGINEERS WITHOUT BORDER',\n",
       " 'ENO',\n",
       " 'ERETO',\n",
       " 'EWE',\n",
       " 'Eastmeru medium School',\n",
       " 'Edward',\n",
       " 'Efarm',\n",
       " 'Egypt Government',\n",
       " 'Egypt Technical Co Operation',\n",
       " 'Elias Mahemba',\n",
       " 'Elina',\n",
       " 'Elius Chacha',\n",
       " 'Eliza',\n",
       " 'Embasy of Japan in Tanzania',\n",
       " 'Emmanuel Kiswagala',\n",
       " 'Emmanuel kitaponda',\n",
       " 'Engarasero villagers',\n",
       " 'Engin',\n",
       " 'Enyuati',\n",
       " 'Enyueti',\n",
       " 'Ester Ndege',\n",
       " 'European Union',\n",
       " 'Exaud Msambwa',\n",
       " 'F',\n",
       " 'FAO',\n",
       " 'FARM-AFRICA',\n",
       " 'FAUSTINE',\n",
       " 'FILEX MUGANGA',\n",
       " 'FIN WATER',\n",
       " 'FINI WATER',\n",
       " 'FINI Water',\n",
       " 'FINLAND',\n",
       " 'FINN WATER',\n",
       " 'FLORESTA',\n",
       " 'FOLAC',\n",
       " 'FPCT',\n",
       " 'FPCT Church',\n",
       " 'FPTC',\n",
       " 'FRANKFURT',\n",
       " 'FRESH WATER PLC ENGLAND',\n",
       " 'FURAHIA TRADING',\n",
       " 'FW',\n",
       " 'Fabia',\n",
       " 'Fathe',\n",
       " 'Faudh Tamimu',\n",
       " 'FiNI WATER',\n",
       " 'Filber',\n",
       " 'Fin Water',\n",
       " 'Fin water',\n",
       " 'FinW',\n",
       " 'FinWate',\n",
       " 'FinWater',\n",
       " 'Fini Water',\n",
       " 'Fini water',\n",
       " 'Finland Government',\n",
       " 'Finwater',\n",
       " 'Foreigne',\n",
       " 'Free Pentecoste Church of Tanz',\n",
       " 'Frida mokeki',\n",
       " 'Friedkin conservation fund',\n",
       " 'Friend from UN',\n",
       " 'GACHUMA CONSTRUCTION',\n",
       " 'GACHUMA GINERY',\n",
       " 'GAICA',\n",
       " 'GD&ID',\n",
       " 'GDP',\n",
       " 'GEN',\n",
       " 'GEOCHAINA',\n",
       " 'GEOTAN',\n",
       " 'GERMAN',\n",
       " 'GERMAN MISSIONSRY',\n",
       " 'GERMANY MISSIONARY',\n",
       " 'GETDSC00',\n",
       " 'GIDA contractor',\n",
       " 'GLOBAL RESOURCE CO',\n",
       " 'GLOBAL RESOURCE CONSTRUCTION',\n",
       " 'GOVER',\n",
       " 'GOVERM',\n",
       " 'GOVERN',\n",
       " 'GOVERNME',\n",
       " 'GOVERNMENT',\n",
       " 'GRA',\n",
       " 'GRA TZ MUSOMA',\n",
       " 'GREINAKER',\n",
       " 'GREINEKER',\n",
       " 'GRUMENTI',\n",
       " 'GRUMET',\n",
       " 'GRUMETI',\n",
       " 'GRUMETI SINGITA',\n",
       " 'GTZ',\n",
       " 'GURUMETI SAGITA',\n",
       " 'GURUMETI SAGITA CO',\n",
       " 'Ga',\n",
       " 'Gain',\n",
       " 'Geita Goldmain',\n",
       " 'George',\n",
       " 'George mtoto',\n",
       " 'George mtoto company',\n",
       " 'Gerald',\n",
       " 'Gerald Mila',\n",
       " 'Germany',\n",
       " 'Gesine',\n",
       " 'Getekwe',\n",
       " 'Go',\n",
       " 'Gold star',\n",
       " 'Goldmain',\n",
       " 'Goldstar',\n",
       " 'Goldwill  foundation',\n",
       " 'Got',\n",
       " 'Gove',\n",
       " 'Gover',\n",
       " 'Governme',\n",
       " 'Government',\n",
       " 'Government /SDA',\n",
       " 'Government /TCRS',\n",
       " 'Government /World Vision',\n",
       " 'Government and Community',\n",
       " 'Government of Misri',\n",
       " 'Grail Mission Kiseki bar',\n",
       " 'Great Lakes',\n",
       " 'Greec',\n",
       " 'Green',\n",
       " 'Grobal resource  alliance',\n",
       " 'Grobal resource alliance',\n",
       " 'Grumeti fund',\n",
       " 'Gtz',\n",
       " 'Gwasco',\n",
       " 'Gwasco L',\n",
       " 'Gwaseco',\n",
       " 'H',\n",
       " 'H4CCP',\n",
       " 'HAAM',\n",
       " 'HAM',\n",
       " 'HAPA',\n",
       " 'HAPA SINGIDA',\n",
       " 'HASHI',\n",
       " 'HAYDOM LUTHERAN HOSPITAL',\n",
       " 'HDV',\n",
       " 'HE',\n",
       " 'HEESAW',\n",
       " 'HESAW',\n",
       " 'HESAWA',\n",
       " 'HESAWQ',\n",
       " 'HESAWS',\n",
       " 'HESAWZ',\n",
       " 'HIAP',\n",
       " 'HOLAND',\n",
       " 'HOLLAND',\n",
       " 'HOTEL AND LODGE TANZANIA',\n",
       " 'HOWARD HUMFREYS',\n",
       " 'HPA',\n",
       " 'HSW',\n",
       " 'HW/RC',\n",
       " 'Ha',\n",
       " 'Halimashauli',\n",
       " 'Halmashauli',\n",
       " 'Halmashauri',\n",
       " 'Halmashauri wilaya',\n",
       " 'Halmashauri ya manispa  tabora',\n",
       " 'Halmashauri ya manispa tabora',\n",
       " 'Halmashauri ya mburu',\n",
       " 'Halmashauri ya wilaya',\n",
       " 'Halmashauri ya wilaya sikonge',\n",
       " 'Halmashauri/Quick win project',\n",
       " 'Hamis Makombo',\n",
       " 'Hamisi Fidia',\n",
       " 'Handeni Trunk Main',\n",
       " 'Handeni Trunk Main(',\n",
       " 'Hanja',\n",
       " 'Hanja Lt',\n",
       " 'Hans',\n",
       " 'Happy watoto foundation',\n",
       " 'Hasnein Murij',\n",
       " 'Healt',\n",
       " 'Hearts helping hands.Inc.',\n",
       " 'Hemed Abdalkah',\n",
       " 'Hemed Abdallah',\n",
       " 'Henure Dema',\n",
       " 'Heri mission',\n",
       " 'Hery',\n",
       " 'HesaWa',\n",
       " 'Hesawa',\n",
       " 'Hesawz',\n",
       " 'Hesewa',\n",
       " 'Hilfe Fur Bruder',\n",
       " 'Hindu',\n",
       " 'Holili water supply',\n",
       " 'Hospi',\n",
       " 'Hospital',\n",
       " 'Howard and Humfrey Consultants',\n",
       " 'Howard and humfrey consultant',\n",
       " 'Huches',\n",
       " 'Humfreys Co',\n",
       " 'Hussein Ayubu',\n",
       " 'Hydom Luthelani',\n",
       " 'Hydrotec',\n",
       " 'I.E.C',\n",
       " 'IADO',\n",
       " 'ICAP',\n",
       " 'ICF/TWESA',\n",
       " 'ICS',\n",
       " 'IDARA',\n",
       " 'IDC',\n",
       " 'IDEA',\n",
       " 'IDYDC',\n",
       " 'IFAD',\n",
       " 'ILCT',\n",
       " 'IN',\n",
       " 'INDIVIDUAL',\n",
       " 'INDIVIDUALS',\n",
       " 'IRAN GOVERN',\n",
       " 'IRC',\n",
       " 'IREVEA SISTER',\n",
       " 'IS',\n",
       " 'ISF',\n",
       " 'ISF / TASAFF',\n",
       " 'ISF and TACARE',\n",
       " 'ISF/Government',\n",
       " 'ISF/TACARE',\n",
       " 'ISSAA KANYANGE',\n",
       " 'ISSAC MOLLEL',\n",
       " 'ITALI',\n",
       " 'Icf',\n",
       " 'Idara ya Maji',\n",
       " 'Idara ya maji',\n",
       " 'Ifakara',\n",
       " 'Igolola community',\n",
       " 'Ikela Wa',\n",
       " 'Ilaramataki',\n",
       " 'Ilolangulu water supply',\n",
       " 'Ilwilo community',\n",
       " 'In',\n",
       " 'Indi',\n",
       " 'India',\n",
       " 'Individual',\n",
       " 'Individuals',\n",
       " 'Insititutiona',\n",
       " 'Institution',\n",
       " 'Institutional',\n",
       " 'Inter',\n",
       " 'Internal Drainage Basin',\n",
       " 'Inves',\n",
       " 'Ir',\n",
       " 'Is',\n",
       " 'Islam',\n",
       " 'Islamic',\n",
       " 'Islamic Agency Tanzania',\n",
       " 'Islamic community',\n",
       " 'Issa Mohamedi Tumwanga',\n",
       " 'Italian government',\n",
       " 'Italy government',\n",
       " 'J LH CO LTD',\n",
       " 'J mal Abdallah',\n",
       " 'J. Mc',\n",
       " 'JACKSON MAHAMBO',\n",
       " 'JAICA',\n",
       " 'JAICA CO',\n",
       " 'JANDU',\n",
       " 'JANDU PLUMBER  CO',\n",
       " 'JANDU PLUMBER CO',\n",
       " 'JAPAN',\n",
       " 'JAPAN EMBASSY',\n",
       " 'JAWABU',\n",
       " 'JBG',\n",
       " 'JESHI LA WOKOVU',\n",
       " 'JHL CO LTD',\n",
       " 'JI',\n",
       " 'JICA',\n",
       " 'JIKA',\n",
       " 'JLH CO LTD',\n",
       " 'JSICA',\n",
       " 'JUIN',\n",
       " 'JUIN CO',\n",
       " 'JWTZ',\n",
       " 'Ja',\n",
       " 'Jafary Mbaga',\n",
       " 'Jaica',\n",
       " 'Japan',\n",
       " 'Japan Government',\n",
       " 'Jeica',\n",
       " 'Jerem',\n",
       " 'Jeshi la Wokovu',\n",
       " 'Jeshi la wokovu',\n",
       " 'Jeshi la wokovu [cida]',\n",
       " 'Jica',\n",
       " 'Jicks',\n",
       " 'Jika',\n",
       " 'Jiks',\n",
       " 'Jimmy',\n",
       " 'John gemuta co',\n",
       " 'John kiminda co',\n",
       " 'Joseph nkunda',\n",
       " 'Ju',\n",
       " 'Judge Mchome',\n",
       " 'Juma',\n",
       " 'Juma Maro',\n",
       " 'Juma Ndege',\n",
       " 'Jumaa',\n",
       " 'Jumanne',\n",
       " 'Jumanne Siabo',\n",
       " 'Jumuhia',\n",
       " 'Jumuiya',\n",
       " 'Justine Marwa',\n",
       " 'K',\n",
       " 'K/Primary',\n",
       " 'KA',\n",
       " 'KADP',\n",
       " 'KAEM',\n",
       " 'KAEMP',\n",
       " 'KAGERA MINE',\n",
       " 'KARUMBA BIULDING COMPANY LTD',\n",
       " 'KARUMBA BIULDING CONTRACTOR',\n",
       " 'KARUMBA BUILDING COMPANY LTD',\n",
       " 'KASHERE',\n",
       " 'KASHWA',\n",
       " 'KAYEMPU LTD',\n",
       " 'KDC',\n",
       " 'KEREBUKA',\n",
       " 'KIBO',\n",
       " 'KIDIJAS',\n",
       " 'KIDP',\n",
       " 'KILANGANI CO',\n",
       " 'KILI WATER',\n",
       " 'KILL WATER',\n",
       " 'KIM KIM CONSTRUCTION',\n",
       " 'KIMKUM',\n",
       " 'KINAPA',\n",
       " 'KISIRIRI ADP',\n",
       " 'KIUMA',\n",
       " 'KK',\n",
       " 'KKKT',\n",
       " 'KKKT CHURCH',\n",
       " 'KKKT DME',\n",
       " 'KKKT Katiti juu',\n",
       " 'KKKT Kilinga',\n",
       " 'KKKT Leguruki',\n",
       " 'KKKT MAREU',\n",
       " 'KKKT _ Konde and DWE',\n",
       " 'KKKT-Dioces ya Pare',\n",
       " 'KKT',\n",
       " 'KKT C',\n",
       " 'KMCL',\n",
       " 'KMT',\n",
       " 'KOBERG Contractor',\n",
       " 'KOICA',\n",
       " 'KONOIKE',\n",
       " 'KOREA',\n",
       " 'KORKONEL',\n",
       " 'KOWI',\n",
       " 'KOYI',\n",
       " 'KTA C',\n",
       " 'KU',\n",
       " 'KURRP',\n",
       " 'KUWAIT',\n",
       " 'KUWASA',\n",
       " 'KWIKWIZ',\n",
       " 'KYASHA ENTERPR',\n",
       " 'KYASHA ENTREPR',\n",
       " 'Kaembe',\n",
       " 'Kagulo',\n",
       " 'Kagunguli Secondary',\n",
       " 'Kahema',\n",
       " 'Kajima',\n",
       " 'Kalago enterprises Co.Ltd',\n",
       " 'Kalitasi',\n",
       " 'Kalitesi',\n",
       " 'Kalta',\n",
       " 'Kalugendo',\n",
       " 'Kalumbwa',\n",
       " 'Kaluwike',\n",
       " 'Kamama',\n",
       " 'Kamata project',\n",
       " 'Kambi Migoko',\n",
       " 'Kanamama',\n",
       " 'Kando',\n",
       " 'Kanisa',\n",
       " 'Kanisa katoliki',\n",
       " 'Kanisa la TAG',\n",
       " 'Kanisani',\n",
       " 'Kapelo',\n",
       " 'Karugendo',\n",
       " 'Kassim',\n",
       " 'Kata',\n",
       " 'Kauzeni',\n",
       " 'Ki',\n",
       " 'Kibaha Town Council',\n",
       " 'Kibo potry',\n",
       " 'Kidika',\n",
       " 'Kigoma municipal',\n",
       " 'Kigwa',\n",
       " 'Kijiji',\n",
       " 'Kikom',\n",
       " 'Kiliflora',\n",
       " 'Kilimarondo Parish',\n",
       " 'Kiliwater',\n",
       " 'Kiliwater r',\n",
       " 'Killflora /Community',\n",
       " 'Killflora/ Community',\n",
       " 'Kilol',\n",
       " 'Kilolo Star',\n",
       " 'Kilomber',\n",
       " 'Kilwa company',\n",
       " 'Kilwater',\n",
       " 'Kindoroko water project',\n",
       " 'Kinga',\n",
       " 'Kirdep',\n",
       " 'Kitiangare village community',\n",
       " 'Kitukuni water supply',\n",
       " 'Kiwanda cha Ngozi',\n",
       " 'Kizenga',\n",
       " 'KkKT',\n",
       " 'Kkkt',\n",
       " 'Ko',\n",
       " 'Kokeni',\n",
       " 'Konoike',\n",
       " 'Korogwe water works',\n",
       " 'Kuamu',\n",
       " 'Kuwait',\n",
       " 'Kuwaiti',\n",
       " 'Kuweit',\n",
       " 'Kwamdulu estate',\n",
       " 'Kwasenenge Group',\n",
       " 'Kyariga',\n",
       " 'L',\n",
       " 'LAMP',\n",
       " 'LDEP',\n",
       " 'LEI',\n",
       " 'LENCH',\n",
       " 'LGA',\n",
       " 'LGCDG',\n",
       " 'LGQ',\n",
       " 'LINDALA CO',\n",
       " \"LION'S\",\n",
       " 'LIUWASSA',\n",
       " 'LIVI',\n",
       " 'LIZAD',\n",
       " 'LOCAL CONTRACT',\n",
       " 'LOMOLOKI',\n",
       " 'LONGIDO SEC SCHOOL',\n",
       " 'LOOCIP',\n",
       " 'LUKE SAMARAS LTD',\n",
       " 'LUNGWE',\n",
       " 'LVA Ltd',\n",
       " 'LVIA',\n",
       " 'LWI',\n",
       " 'Laizer',\n",
       " 'Laramatak',\n",
       " 'Latifu',\n",
       " 'Lawate fuka water su',\n",
       " 'Lawatefuka water sup',\n",
       " 'Leopad Abeid',\n",
       " 'Lga',\n",
       " 'Li',\n",
       " 'Linda',\n",
       " 'Lindi contractor',\n",
       " 'Lindi rural water department',\n",
       " \"Lion's\",\n",
       " \"Lion's club\",\n",
       " 'Lions club kilimanjaro',\n",
       " 'Livi',\n",
       " 'Living water international',\n",
       " 'Local',\n",
       " 'Local  technician',\n",
       " 'Local l technician',\n",
       " 'Local te',\n",
       " 'Local technical',\n",
       " 'Local technical tec',\n",
       " 'Local technician',\n",
       " 'Local technitian',\n",
       " 'Locall technician',\n",
       " 'Localtechnician',\n",
       " 'Loliondo Parish',\n",
       " 'Losa-kia water suppl',\n",
       " 'Losaa-Kia water supp',\n",
       " 'Losakia water supply',\n",
       " 'Luali Kaima',\n",
       " 'Luleka',\n",
       " 'Luthe',\n",
       " 'Lutheran',\n",
       " 'Lutheran Church',\n",
       " 'M',\n",
       " 'M and P',\n",
       " 'MA',\n",
       " 'MACK DONALD CO LTD',\n",
       " 'MACK DONALD CONTRACTOR',\n",
       " 'MACK DONALD CONTRSCTOR',\n",
       " 'MAIVARU',\n",
       " 'MAJI MUGUMU',\n",
       " 'MAKAMA CONSTRUCTION',\n",
       " 'MAKE ENGINEERING',\n",
       " 'MAMAD',\n",
       " 'MANDIA CONSTRUCTION',\n",
       " 'MANYARA CONSTRUCTION',\n",
       " 'MARAFIN',\n",
       " 'MARAFIP',\n",
       " 'MASAI LAND',\n",
       " 'MASWI',\n",
       " 'MASWI CO',\n",
       " 'MASWI COMPANY',\n",
       " 'MASWI DRILL',\n",
       " 'MASWI DRILLING',\n",
       " 'MAZI INVESTMENT',\n",
       " 'MBIUSA',\n",
       " 'MBIUWASA',\n",
       " 'MBOMA',\n",
       " 'MBULI CO',\n",
       " 'MBWAMBO',\n",
       " 'MCHOME',\n",
       " 'MD',\n",
       " 'MDALA Contractor',\n",
       " 'MDRDP',\n",
       " 'MDRD_',\n",
       " 'MECO',\n",
       " 'MEM',\n",
       " 'METHODIST CHURCH',\n",
       " 'MGM',\n",
       " 'MH Kapuya',\n",
       " 'MI',\n",
       " 'MIAB',\n",
       " 'MIDA',\n",
       " 'MINISTRY OF EDUCATION',\n",
       " 'MINISTRY OF WATER',\n",
       " 'MINISTRYOF WATER',\n",
       " 'MINJINGU',\n",
       " 'MISHENI',\n",
       " 'MISSION',\n",
       " 'MKON CONSTRUCTION',\n",
       " 'MKONG CONSTRUCTION',\n",
       " 'MKONGO CONSTRUCTION',\n",
       " 'ML appro',\n",
       " 'MLADE',\n",
       " 'MLAKI  CO',\n",
       " 'MLAKI CO',\n",
       " 'MMG GOLD MINE',\n",
       " 'MORNING CONSTRUCTION',\n",
       " 'MOSES',\n",
       " 'MP',\n",
       " 'MP Mloka',\n",
       " 'MREMI CONTRACTOR',\n",
       " 'MS',\n",
       " 'MSABI',\n",
       " 'MSF',\n",
       " 'MSF/TACARE',\n",
       " 'MSIKIT',\n",
       " 'MSIKITI',\n",
       " 'MSJI MUGUMU',\n",
       " 'MTAMBO',\n",
       " 'MTC',\n",
       " 'MTN',\n",
       " 'MTUI',\n",
       " 'MTUWASA',\n",
       " 'MTUWASA and Community',\n",
       " 'MUSLIMEHEFEN INTERNATIONAL',\n",
       " 'MUWASA',\n",
       " 'MUWSA',\n",
       " 'MWAKI CONTRACTO',\n",
       " 'MWAKI CONTRACTOR',\n",
       " 'MWE',\n",
       " 'MWE &',\n",
       " 'MWL NGASSA',\n",
       " 'MWS',\n",
       " 'Ma',\n",
       " 'Machibya',\n",
       " 'Mackd',\n",
       " 'Madra',\n",
       " 'Maendeleo ya jamii',\n",
       " 'Magadini Makiwaru wa',\n",
       " 'Magadini-Makiwaru wa',\n",
       " 'Magoma ADP',\n",
       " 'Magul',\n",
       " 'Magutu Maro',\n",
       " 'Mahita',\n",
       " 'Maji Tech',\n",
       " 'Maji block',\n",
       " 'Maji tech Construction',\n",
       " 'Makala',\n",
       " 'Makanya Sisal Estate',\n",
       " 'Makonde',\n",
       " 'Makonde water population',\n",
       " 'Makonde water supply',\n",
       " 'Makori',\n",
       " 'Makoye',\n",
       " 'Makundya',\n",
       " 'Makuru',\n",
       " 'Makusa',\n",
       " 'Malec',\n",
       " 'Males',\n",
       " 'Maliasili',\n",
       " 'Mama Agnes Kagimbo',\n",
       " 'Mama Hamisa',\n",
       " 'Mama Kalage',\n",
       " 'Mama Kapwapwa',\n",
       " 'Mama joela',\n",
       " 'Mamaz',\n",
       " ...]"
      ]
     },
     "execution_count": 335,
     "metadata": {},
     "output_type": "execute_result"
    }
   ],
   "source": [
    "# Installer\n",
    "sorted((train[\"installer\"].astype('string').unique().dropna()))"
   ]
  },
  {
   "cell_type": "markdown",
   "metadata": {
    "id": "2ySMWPpADIUW"
   },
   "source": [
    "Altitude could play a role. We look for missing values (similar to date). There seem to be a lot near zero, but we can check that none of them are exactly zero so it just has some fairly flat areas"
   ]
  },
  {
   "cell_type": "code",
   "execution_count": null,
   "metadata": {
    "colab": {
     "base_uri": "https://localhost:8080/",
     "height": 283
    },
    "id": "qK46MJr7DfK4",
    "outputId": "968de9fc-37d5-4506-bd82-137ff7135cf7"
   },
   "outputs": [
    {
     "name": "stdout",
     "output_type": "stream",
     "text": [
      "0\n"
     ]
    },
    {
     "data": {
      "image/png": "[encoded data removed]",
      "text/plain": [
       "<Figure size 432x288 with 1 Axes>"
      ]
     },
     "metadata": {
      "needs_background": "light"
     },
     "output_type": "display_data"
    }
   ],
   "source": [
    "# Altitude\n",
    "plt.hist(train[\"gps_height\"],bins=100)\n",
    "print(train[train[\"gps_height\"]==0][\"gps_height\"].sum())\n",
    "# Lots of flat locations, but none too erroneous "
   ]
  },
  {
   "cell_type": "code",
   "execution_count": null,
   "metadata": {
    "colab": {
     "base_uri": "https://localhost:8080/"
    },
    "id": "khpYYQBkPN2m",
    "outputId": "bf03a80b-83c3-4a36-f3f3-84f8a2e24d1e"
   },
   "outputs": [
    {
     "data": {
      "text/plain": [
       "count         47520\n",
       "unique            7\n",
       "top       never pay\n",
       "freq          20238\n",
       "Name: payment, dtype: object"
      ]
     },
     "execution_count": 4,
     "metadata": {},
     "output_type": "execute_result"
    }
   ],
   "source": [
    "train[\"payment\"].describe()"
   ]
  },
  {
   "cell_type": "code",
   "execution_count": null,
   "metadata": {
    "colab": {
     "base_uri": "https://localhost:8080/"
    },
    "id": "PimP3nWHPcxC",
    "outputId": "c39fdcb8-5ccf-4253-e88c-91661c9b5d7f"
   },
   "outputs": [
    {
     "data": {
      "text/plain": [
       "['never pay',\n",
       " 'other',\n",
       " 'pay annually',\n",
       " 'pay monthly',\n",
       " 'pay per bucket',\n",
       " 'pay when scheme fails',\n",
       " 'unknown']"
      ]
     },
     "execution_count": 5,
     "metadata": {},
     "output_type": "execute_result"
    }
   ],
   "source": [
    "sorted((train[\"payment\"].astype('string').unique().dropna()))"
   ]
  },
  {
   "cell_type": "code",
   "execution_count": null,
   "metadata": {
    "colab": {
     "base_uri": "https://localhost:8080/"
    },
    "id": "_7clBtlOPrLg",
    "outputId": "62af546d-b82a-4b95-ff1b-53c0c23e1d5d"
   },
   "outputs": [
    {
     "data": {
      "text/plain": [
       "count         47520\n",
       "unique            7\n",
       "top       never pay\n",
       "freq          20238\n",
       "Name: payment_type, dtype: object"
      ]
     },
     "execution_count": 6,
     "metadata": {},
     "output_type": "execute_result"
    }
   ],
   "source": [
    "train[\"payment_type\"].describe()"
   ]
  },
  {
   "cell_type": "code",
   "execution_count": null,
   "metadata": {
    "colab": {
     "base_uri": "https://localhost:8080/"
    },
    "id": "c3T29F08Pt5c",
    "outputId": "8de5ea32-5dd1-43d1-bb30-9fd6636f93cb"
   },
   "outputs": [
    {
     "data": {
      "text/plain": [
       "['annually',\n",
       " 'monthly',\n",
       " 'never pay',\n",
       " 'on failure',\n",
       " 'other',\n",
       " 'per bucket',\n",
       " 'unknown']"
      ]
     },
     "execution_count": 8,
     "metadata": {},
     "output_type": "execute_result"
    }
   ],
   "source": [
    "sorted((train[\"payment_type\"].astype('string').unique().dropna()))"
   ]
  },
  {
   "cell_type": "code",
   "execution_count": null,
   "metadata": {
    "colab": {
     "base_uri": "https://localhost:8080/"
    },
    "id": "t79l2RF8SDFe",
    "outputId": "6c090807-ba33-4af5-f8d7-a7076d3a30e4"
   },
   "outputs": [
    {
     "data": {
      "text/plain": [
       "0    False\n",
       "1     True\n",
       "2    False\n",
       "3     True\n",
       "4    False\n",
       "Name: permit, dtype: object"
      ]
     },
     "execution_count": 23,
     "metadata": {},
     "output_type": "execute_result"
    }
   ],
   "source": [
    "train[\"permit\"].head()"
   ]
  },
  {
   "cell_type": "code",
   "execution_count": null,
   "metadata": {
    "colab": {
     "base_uri": "https://localhost:8080/"
    },
    "id": "XQ1ZYXLaVCUR",
    "outputId": "7dd6f753-891b-44d9-f4ed-30bd7b8d7277"
   },
   "outputs": [
    {
     "data": {
      "text/plain": [
       "count     44844\n",
       "unique        2\n",
       "top        True\n",
       "freq      40787\n",
       "Name: public_meeting, dtype: object"
      ]
     },
     "execution_count": 16,
     "metadata": {},
     "output_type": "execute_result"
    }
   ],
   "source": [
    "train[\"public_meeting\"].describe()"
   ]
  },
  {
   "cell_type": "markdown",
   "metadata": {
    "id": "fJvFA4f2Rt79"
   },
   "source": [
    "### Feature Engineering"
   ]
  },
  {
   "cell_type": "markdown",
   "metadata": {
    "id": "n92SnrRH3Ba4"
   },
   "source": [
    "####To do\n",
    "*construction_year:* replace 0 with average \\\\\n",
    "*funder*: make sure same type with the array, fix some of the mistakes \\\\\n",
    "*latitude/longitude*: drop the approximate 0s or replace by average in subregion \\\\\n",
    "*population*: replace zeros by averaging \\\\\n",
    "*lga*: add as is, consider extracting rural/urban \\\\\n",
    "*management*: add as is, picked instead of scheme_management as they were similar and this one didn't have NaNs \\\\\n",
    "*waterpoint_type*: Add as is, chosen over similar column waterpoint_type_group because it has slighly more info \\\\\n",
    "*water_quality*: as is \\\\\n",
    "*extraction_type* as is \\\\\n",
    "*quantity*: as is, same as quantity_group \\\\\n",
    "*gps_height*: as is \\\\\n",
    "*payment*: as is\n"
   ]
  },
  {
   "cell_type": "code",
   "execution_count": null,
   "metadata": {
    "id": "2RoJG09rWfOg"
   },
   "outputs": [],
   "source": [
    "# Add code here to develop features for your preditive models."
   ]
  },
  {
   "cell_type": "markdown",
   "metadata": {
    "id": "agH1lK77wSKA"
   },
   "source": [
    "We're going to use a 80/20 split of the data into training/development sets. We might consider doing some k fold cross validation instead since sklearn can do this quite nicely and that could give us more data to work with. Do this now so that there is no data leakage when we impute average values"
   ]
  },
  {
   "cell_type": "code",
   "execution_count": null,
   "metadata": {
    "colab": {
     "base_uri": "https://localhost:8080/"
    },
    "id": "T2EM7pF3Yr7I",
    "outputId": "730f586c-4f19-43be-e5e5-3424cd1f560b"
   },
   "outputs": [
    {
     "name": "stdout",
     "output_type": "stream",
     "text": [
      "(42768, 40) (4752, 40)\n"
     ]
    }
   ],
   "source": [
    "# Train/test/split (60/20/20). Could consider k fold cross-val?\n",
    "#X, X_test, y, y_test = train_test_split(train, train[\"status_group\"],test_size = 0.2, train_size = 0.8)\n",
    "#X_train, X_dev, y_train, y_dev = train_test_split(X,y, test_size = 0.25, train_size=0.75)\n",
    "X_train, X_dev, y_train, y_dev = train_test_split(train, train[\"status_group\"],test_size = 0.1, train_size = 0.9)\n",
    "print(X_train.shape, X_dev.shape)"
   ]
  },
  {
   "cell_type": "markdown",
   "metadata": {
    "id": "7nCjboqtw9ty"
   },
   "source": [
    "In most cases that we have missing data we're going to put in the average. In some cases we'll put in the average over the region, and if nothing in the region has values we just use the average"
   ]
  },
  {
   "cell_type": "code",
   "execution_count": null,
   "metadata": {
    "id": "OXr7IO4VWpKa"
   },
   "outputs": [],
   "source": [
    "from numpy.core.numeric import NaN\n",
    "\n",
    "def clean_data(X_train_in,X_dev_in):\n",
    "  X = X_train_in\n",
    "  X_dev = X_dev_in\n",
    "  if \"longitude\" in X.columns:\n",
    "    correct_long = X[(X[\"longitude\"] > 1)] # These are the ones with correct longitudes\n",
    "    average = correct_long.groupby(\"region\")[\"longitude\"].mean() # average over the region\n",
    "    # Replace missing values, being sure to put in the average taken over the test set\n",
    "    X = X.assign(longitude = np.where(X[\"longitude\"] < 1, average[X[\"region\"]], X[\"longitude\"]))\n",
    "    X_dev = X_dev.assign(longitude = np.where(X_dev[\"longitude\"] < 1, average[X_dev[\"region\"]], X_dev[\"longitude\"]))\n",
    "  if \"latitude\" in X.columns:\n",
    "    correct_lat = X[(X[\"latitude\"] < -1)]\n",
    "    average = correct_lat.groupby(\"region\")[\"latitude\"].mean()\n",
    "    X = X.assign(latitude = np.where(X[\"latitude\"] >= -1, average[X[\"region\"]], X[\"latitude\"]))\n",
    "    X_dev = X_dev.assign(latitude = np.where(X_dev[\"latitude\"] >= -1, average[X_dev[\"region\"]], X_dev[\"latitude\"]))\n",
    "  if \"construction_year\" in X.columns:\n",
    "    average = X[X[\"construction_year\"] != 0][\"construction_year\"].mean()\n",
    "    X = X.assign(construction_year = np.where(X[\"construction_year\"] == 0,average,X[\"construction_year\"]))\n",
    "    X_dev = X_dev.assign(construction_year = np.where(X_dev[\"construction_year\"] == 0,average,X_dev[\"construction_year\"]))\n",
    "  if \"population\" in X.columns:\n",
    "    X = X.assign(population = np.where(X[\"population\"]==0,NaN,X[\"population\"])) # Change 0s to NaN so that .mean() ignores them\n",
    "    # Compute average over the lga, region and whole column\n",
    "    average_lga = X.groupby(\"lga\")[\"population\"].mean()\n",
    "    average_region = X.groupby(\"region\")[\"population\"].mean()\n",
    "    average = X[\"population\"].mean()\n",
    "    non_zero_pop = X\n",
    "    \n",
    "    X = X.assign(population = np.where(X[\"population\"].isna(),average_lga[X[\"lga\"]],X[\"population\"]))\n",
    "    X = X.assign(population = np.where(X[\"population\"].isna(),average_region[X[\"region\"]],X[\"population\"]))\n",
    "    X = X.assign(population = np.where(X[\"population\"].isna(),average,X[\"population\"]))\n",
    "    \n",
    "    X_dev = X_dev.assign(population = np.where(X_dev[\"population\"]==0,NaN,X_dev[\"population\"]))\n",
    "    X_dev = X_dev.assign(population = np.where(X_dev[\"population\"].isna(),average_lga[X_dev[\"lga\"]],X_dev[\"population\"]))\n",
    "    X_dev = X_dev.assign(population = np.where(X_dev[\"population\"].isna(),average_region[X_dev[\"region\"]],X_dev[\"population\"]))\n",
    "    X_dev = X_dev.assign(population = np.where(X_dev[\"population\"].isna(),average,X_dev[\"population\"]))\n",
    "  return X, X_dev\n"
   ]
  },
  {
   "cell_type": "markdown",
   "metadata": {
    "id": "euvtBnQzylD4"
   },
   "source": [
    "Now we can clean up our training and development data"
   ]
  },
  {
   "cell_type": "code",
   "execution_count": null,
   "metadata": {
    "id": "OM1sIsaW6ijo"
   },
   "outputs": [],
   "source": [
    "X_train, X_dev = clean_data(X_train, X_dev)"
   ]
  },
  {
   "cell_type": "markdown",
   "metadata": {
    "id": "SQU4Il79yn3U"
   },
   "source": [
    "We will keep track of the features we are using here. We have plenty of categorical features which we encode using one hot encodings (some is ordinal type but for simplicity we'll just OH for everything)"
   ]
  },
  {
   "cell_type": "code",
   "execution_count": null,
   "metadata": {
    "id": "k9ltEEwW6j0o"
   },
   "outputs": [],
   "source": [
    "features = [\"permit\",\"payment\",\"gps_height\",\"quantity\",\"extraction_type\",\"latitude\",\"longitude\", \"population\",\"construction_year\", \"lga\",\"management\",\"waterpoint_type\",\"water_quality\"]\n",
    "\n",
    "OH_cols = [\"permit\",\"payment\",\"management\",\"waterpoint_type\",\"lga\",\"water_quality\",\"extraction_type\",\"quantity\"]\n",
    "num_cols = [\"gps_height\",\"latitude\",\"longitude\", \"population\",\"construction_year\"]\n",
    "\n",
    "X_train = X_train[features]\n",
    "X_dev = X_dev[features]\n",
    "#X_test = X_test[features]"
   ]
  },
  {
   "cell_type": "markdown",
   "metadata": {
    "id": "tFjcbPVdzFEW"
   },
   "source": [
    "We'll use scikit learn's encoder and the gather up all the columns into our final training and development dataframes"
   ]
  },
  {
   "cell_type": "code",
   "execution_count": null,
   "metadata": {
    "id": "j277031LK1rk"
   },
   "outputs": [],
   "source": [
    "from sklearn.preprocessing import OneHotEncoder\n",
    "\n",
    "# One hot encode some columns\n",
    "OH_encoder = OneHotEncoder(handle_unknown='ignore', sparse=False)\n",
    "\n",
    "OH_cols_train = pd.DataFrame(OH_encoder.fit_transform(X_train[OH_cols]))\n",
    "OH_cols_valid = pd.DataFrame(OH_encoder.transform(X_dev[OH_cols]))\n",
    "\n",
    "OH_cols_train.index = X_train.index\n",
    "OH_cols_valid.index = X_dev.index\n",
    "\n",
    "\n",
    "# Get numerical columns\n",
    "\n",
    "num_X_train = X_train.drop(OH_cols, axis=1)\n",
    "num_X_valid = X_dev.drop(OH_cols, axis=1)\n",
    "\n",
    "X_train_enc = pd.concat([num_X_train, OH_cols_train],axis=1)\n",
    "X_dev_enc = pd.concat([num_X_valid, OH_cols_valid],axis=1)"
   ]
  },
  {
   "cell_type": "code",
   "execution_count": null,
   "metadata": {
    "colab": {
     "base_uri": "https://localhost:8080/"
    },
    "id": "Q2855emwNNJ9",
    "outputId": "cfdebb9c-8379-4d53-f30c-e55746dac859"
   },
   "outputs": [
    {
     "data": {
      "text/plain": [
       "(42768, 190)"
      ]
     },
     "execution_count": 35,
     "metadata": {},
     "output_type": "execute_result"
    }
   ],
   "source": [
    "X_train_enc.shape"
   ]
  },
  {
   "cell_type": "code",
   "execution_count": null,
   "metadata": {
    "colab": {
     "base_uri": "https://localhost:8080/"
    },
    "id": "UzbuouiyVqe9",
    "outputId": "cabcba5f-3ce2-49a4-fbc0-12d92e2d98d6"
   },
   "outputs": [
    {
     "data": {
      "text/plain": [
       "<bound method NDFrame.head of        gps_height   latitude  longitude  population  ...  181  182  183  184\n",
       "19678         -14  -6.545079  38.845957   40.000000  ...  1.0  0.0  0.0  0.0\n",
       "37358        2182  -9.595571  34.608905   18.000000  ...  1.0  0.0  0.0  0.0\n",
       "2950            0  -3.108539  33.849983  429.737288  ...  1.0  0.0  0.0  0.0\n",
       "11812        1248  -1.989701  34.116096  348.000000  ...  0.0  0.0  1.0  0.0\n",
       "32559           0  -9.087750  32.855486  281.786419  ...  0.0  1.0  0.0  0.0\n",
       "...           ...        ...        ...         ...  ...  ...  ...  ...  ...\n",
       "37701           0  -3.796114  32.552908  429.737288  ...  0.0  1.0  0.0  0.0\n",
       "44306           0  -9.429320  33.963118  281.786419  ...  1.0  0.0  0.0  0.0\n",
       "7244            0  -2.970612  33.341833  553.344697  ...  0.0  0.0  0.0  0.0\n",
       "14650         807 -10.742837  35.803293  275.000000  ...  0.0  0.0  0.0  0.0\n",
       "24266        1030  -3.323734  37.400136  100.000000  ...  0.0  1.0  0.0  0.0\n",
       "\n",
       "[42768 rows x 190 columns]>"
      ]
     },
     "execution_count": 36,
     "metadata": {},
     "output_type": "execute_result"
    }
   ],
   "source": [
    "X_train_enc.head"
   ]
  },
  {
   "cell_type": "markdown",
   "metadata": {
    "id": "wa_aqN8szZr9"
   },
   "source": [
    "Finally we'll normalize the data"
   ]
  },
  {
   "cell_type": "code",
   "execution_count": null,
   "metadata": {
    "colab": {
     "base_uri": "https://localhost:8080/"
    },
    "id": "dKzPkPXazZMn",
    "outputId": "e384d480-1521-4f3d-d74b-afeeefa47d39"
   },
   "outputs": [
    {
     "name": "stderr",
     "output_type": "stream",
     "text": [
      "/usr/local/lib/python3.7/dist-packages/sklearn/utils/validation.py:1692: FutureWarning: Feature names only support names that are all strings. Got feature names with dtypes: ['int', 'str']. An error will be raised in 1.2.\n",
      "  FutureWarning,\n",
      "/usr/local/lib/python3.7/dist-packages/sklearn/utils/validation.py:1692: FutureWarning: Feature names only support names that are all strings. Got feature names with dtypes: ['int', 'str']. An error will be raised in 1.2.\n",
      "  FutureWarning,\n",
      "/usr/local/lib/python3.7/dist-packages/sklearn/utils/validation.py:1692: FutureWarning: Feature names only support names that are all strings. Got feature names with dtypes: ['int', 'str']. An error will be raised in 1.2.\n",
      "  FutureWarning,\n"
     ]
    }
   ],
   "source": [
    "#Normalize data\n",
    "from sklearn.preprocessing import StandardScaler\n",
    "\n",
    "scaler = StandardScaler()\n",
    "scaler.fit(X_train_enc)\n",
    "X_train_enc = scaler.transform(X_train_enc)\n",
    "X_dev_enc = scaler.transform(X_dev_enc)"
   ]
  },
  {
   "cell_type": "markdown",
   "metadata": {
    "id": "tHIkq-LORxCy"
   },
   "source": [
    "### Model Building"
   ]
  },
  {
   "cell_type": "markdown",
   "metadata": {
    "id": "wAz8oKpbzU4R"
   },
   "source": []
  },
  {
   "cell_type": "code",
   "execution_count": null,
   "metadata": {
    "colab": {
     "base_uri": "https://localhost:8080/"
    },
    "id": "q_UNAQSHYs4G",
    "outputId": "f99223fd-b6fd-4585-c8a8-f1fc3ecc2e55"
   },
   "outputs": [
    {
     "name": "stdout",
     "output_type": "stream",
     "text": [
      "training error =  0.5945874202525867\n",
      "dev set error =  0.6116379470433799\n"
     ]
    }
   ],
   "source": [
    "# Add code here to build your predictive models\n",
    "from sklearn import linear_model\n",
    "from sklearn.metrics import log_loss\n",
    "from sklearn.utils.extmath import softmax\n",
    "\n",
    "reg = linear_model.RidgeClassifier(alpha=1,max_iter=1000)\n",
    "reg.fit(X_train_enc,y_train)\n",
    "\n",
    "dec = reg.decision_function(X_train_enc)\n",
    "y_train_pred = softmax(np.c_[dec,1-dec])[:,0]\n",
    "print(\"training error = \" ,log_loss(y_train, y_train_pred))\n",
    "\n",
    "dec = reg.decision_function(X_dev_enc)\n",
    "y_dev_pred = softmax(np.c_[dec,1-dec])[:,0]\n",
    "print(\"dev set error = \", log_loss(y_dev,y_dev_pred))"
   ]
  },
  {
   "cell_type": "code",
   "execution_count": null,
   "metadata": {
    "colab": {
     "base_uri": "https://localhost:8080/"
    },
    "id": "OoI7DrdnCAU7",
    "outputId": "120967d2-ab78-46e6-e212-9306ec08725f"
   },
   "outputs": [
    {
     "name": "stdout",
     "output_type": "stream",
     "text": [
      "training error =  0.47392863574437627\n",
      "dev set error =  0.4788623418794246\n"
     ]
    }
   ],
   "source": [
    "from sklearn import linear_model\n",
    "from sklearn.metrics import log_loss\n",
    "\n",
    "log_reg = linear_model.LogisticRegression(max_iter=2000)\n",
    "log_reg.fit(X_train_enc,y_train)\n",
    "\n",
    "y_train_pred = log_reg.predict_proba(X_train_enc)\n",
    "print(\"training error = \" ,log_loss(y_train, y_train_pred))\n",
    "\n",
    "y_dev_pred = log_reg.predict_proba(X_dev_enc)\n",
    "print(\"dev set error = \", log_loss(y_dev,y_dev_pred))"
   ]
  },
  {
   "cell_type": "markdown",
   "metadata": {
    "id": "lFGGlwhd0XeX"
   },
   "source": [
    "Next we'll try a decision tree and see how it does. We're just manually tweaking hyperparameters to see what kind of performance we get."
   ]
  },
  {
   "cell_type": "code",
   "execution_count": null,
   "metadata": {
    "colab": {
     "base_uri": "https://localhost:8080/"
    },
    "id": "FqTzKkMyU2Bg",
    "outputId": "472132b4-1129-40a2-a4ef-945380c32de4"
   },
   "outputs": [
    {
     "name": "stdout",
     "output_type": "stream",
     "text": [
      "training error =  0.506305353324762\n",
      "dev set error =  0.5078078890116613\n"
     ]
    }
   ],
   "source": [
    "from sklearn.tree import DecisionTreeClassifier\n",
    "\n",
    "d_tree = DecisionTreeClassifier(max_depth=7,min_samples_leaf=1,min_samples_split=5)\n",
    "d_tree.fit(X_train_enc,y_train)\n",
    "\n",
    "y_train_pred = d_tree.predict_proba(X_train_enc)\n",
    "print(\"training error = \" ,log_loss(y_train, y_train_pred))\n",
    "\n",
    "y_dev_pred = d_tree.predict_proba(X_dev_enc)\n",
    "print(\"dev set error = \", log_loss(y_dev,y_dev_pred))\n"
   ]
  },
  {
   "cell_type": "markdown",
   "metadata": {
    "id": "NV3skfMe0naV"
   },
   "source": [
    "Now for some XGBoost. Still manually tweaking hyperparameters, now with learning curves to see how the model is training"
   ]
  },
  {
   "cell_type": "code",
   "execution_count": null,
   "metadata": {
    "colab": {
     "base_uri": "https://localhost:8080/"
    },
    "id": "yFCowIbuWuHl",
    "outputId": "f335fece-dfd1-4b73-8179-59b3eb12cbff"
   },
   "outputs": [
    {
     "name": "stdout",
     "output_type": "stream",
     "text": [
      "[0]\tvalidation_0-error:0.240016\tvalidation_0-logloss:0.659212\tvalidation_1-error:0.254419\tvalidation_1-logloss:0.660514\n",
      "Multiple eval metrics have been passed: 'validation_1-logloss' will be used for early stopping.\n",
      "\n",
      "Will train until validation_1-logloss hasn't improved in 10 rounds.\n",
      "[1]\tvalidation_0-error:0.225239\tvalidation_0-logloss:0.638882\tvalidation_1-error:0.236742\tvalidation_1-logloss:0.641122\n",
      "[2]\tvalidation_0-error:0.220445\tvalidation_0-logloss:0.615943\tvalidation_1-error:0.233586\tvalidation_1-logloss:0.618461\n",
      "[3]\tvalidation_0-error:0.21149\tvalidation_0-logloss:0.591903\tvalidation_1-error:0.219276\tvalidation_1-logloss:0.59608\n",
      "[4]\tvalidation_0-error:0.210438\tvalidation_0-logloss:0.572443\tvalidation_1-error:0.225589\tvalidation_1-logloss:0.57724\n",
      "[5]\tvalidation_0-error:0.207819\tvalidation_0-logloss:0.556945\tvalidation_1-error:0.224958\tvalidation_1-logloss:0.563284\n",
      "[6]\tvalidation_0-error:0.207959\tvalidation_0-logloss:0.542093\tvalidation_1-error:0.224327\tvalidation_1-logloss:0.549707\n",
      "[7]\tvalidation_0-error:0.200313\tvalidation_0-logloss:0.530168\tvalidation_1-error:0.218013\tvalidation_1-logloss:0.539218\n",
      "[8]\tvalidation_0-error:0.198677\tvalidation_0-logloss:0.519355\tvalidation_1-error:0.214436\tvalidation_1-logloss:0.529046\n",
      "[9]\tvalidation_0-error:0.194117\tvalidation_0-logloss:0.510712\tvalidation_1-error:0.210227\tvalidation_1-logloss:0.521413\n",
      "[10]\tvalidation_0-error:0.193953\tvalidation_0-logloss:0.499944\tvalidation_1-error:0.211069\tvalidation_1-logloss:0.511837\n",
      "[11]\tvalidation_0-error:0.193275\tvalidation_0-logloss:0.491317\tvalidation_1-error:0.212542\tvalidation_1-logloss:0.503611\n",
      "[12]\tvalidation_0-error:0.19393\tvalidation_0-logloss:0.483297\tvalidation_1-error:0.213173\tvalidation_1-logloss:0.496401\n",
      "[13]\tvalidation_0-error:0.192971\tvalidation_0-logloss:0.475708\tvalidation_1-error:0.210859\tvalidation_1-logloss:0.489565\n",
      "[14]\tvalidation_0-error:0.193112\tvalidation_0-logloss:0.470612\tvalidation_1-error:0.213173\tvalidation_1-logloss:0.485141\n",
      "[15]\tvalidation_0-error:0.191241\tvalidation_0-logloss:0.46391\tvalidation_1-error:0.211911\tvalidation_1-logloss:0.479699\n",
      "[16]\tvalidation_0-error:0.189768\tvalidation_0-logloss:0.458355\tvalidation_1-error:0.209175\tvalidation_1-logloss:0.475168\n",
      "[17]\tvalidation_0-error:0.18902\tvalidation_0-logloss:0.452627\tvalidation_1-error:0.207492\tvalidation_1-logloss:0.470201\n",
      "[18]\tvalidation_0-error:0.18902\tvalidation_0-logloss:0.447844\tvalidation_1-error:0.208754\tvalidation_1-logloss:0.466392\n",
      "[19]\tvalidation_0-error:0.188669\tvalidation_0-logloss:0.444068\tvalidation_1-error:0.208754\tvalidation_1-logloss:0.464201\n",
      "[20]\tvalidation_0-error:0.186424\tvalidation_0-logloss:0.439823\tvalidation_1-error:0.207071\tvalidation_1-logloss:0.46062\n",
      "[21]\tvalidation_0-error:0.186424\tvalidation_0-logloss:0.436375\tvalidation_1-error:0.207071\tvalidation_1-logloss:0.457726\n",
      "[22]\tvalidation_0-error:0.185279\tvalidation_0-logloss:0.432498\tvalidation_1-error:0.205808\tvalidation_1-logloss:0.454706\n",
      "[23]\tvalidation_0-error:0.185419\tvalidation_0-logloss:0.430301\tvalidation_1-error:0.204125\tvalidation_1-logloss:0.452912\n",
      "[24]\tvalidation_0-error:0.185162\tvalidation_0-logloss:0.427909\tvalidation_1-error:0.204966\tvalidation_1-logloss:0.450947\n",
      "[25]\tvalidation_0-error:0.182964\tvalidation_0-logloss:0.424783\tvalidation_1-error:0.203704\tvalidation_1-logloss:0.448942\n",
      "[26]\tvalidation_0-error:0.182847\tvalidation_0-logloss:0.42185\tvalidation_1-error:0.204756\tvalidation_1-logloss:0.446842\n",
      "[27]\tvalidation_0-error:0.181561\tvalidation_0-logloss:0.418527\tvalidation_1-error:0.205808\tvalidation_1-logloss:0.444329\n",
      "[28]\tvalidation_0-error:0.180906\tvalidation_0-logloss:0.416837\tvalidation_1-error:0.206019\tvalidation_1-logloss:0.443073\n",
      "[29]\tvalidation_0-error:0.180719\tvalidation_0-logloss:0.415127\tvalidation_1-error:0.206439\tvalidation_1-logloss:0.442052\n",
      "[30]\tvalidation_0-error:0.180345\tvalidation_0-logloss:0.413739\tvalidation_1-error:0.206439\tvalidation_1-logloss:0.441501\n",
      "[31]\tvalidation_0-error:0.17962\tvalidation_0-logloss:0.411346\tvalidation_1-error:0.205598\tvalidation_1-logloss:0.439636\n",
      "[32]\tvalidation_0-error:0.179363\tvalidation_0-logloss:0.409873\tvalidation_1-error:0.204335\tvalidation_1-logloss:0.438346\n",
      "[33]\tvalidation_0-error:0.179082\tvalidation_0-logloss:0.408733\tvalidation_1-error:0.204545\tvalidation_1-logloss:0.437638\n",
      "[34]\tvalidation_0-error:0.178591\tvalidation_0-logloss:0.40752\tvalidation_1-error:0.204756\tvalidation_1-logloss:0.436554\n",
      "[35]\tvalidation_0-error:0.178217\tvalidation_0-logloss:0.406084\tvalidation_1-error:0.204756\tvalidation_1-logloss:0.435653\n",
      "[36]\tvalidation_0-error:0.17768\tvalidation_0-logloss:0.404657\tvalidation_1-error:0.203914\tvalidation_1-logloss:0.434652\n",
      "[37]\tvalidation_0-error:0.17623\tvalidation_0-logloss:0.40259\tvalidation_1-error:0.203072\tvalidation_1-logloss:0.433195\n",
      "[38]\tvalidation_0-error:0.176253\tvalidation_0-logloss:0.401601\tvalidation_1-error:0.202652\tvalidation_1-logloss:0.432598\n",
      "[39]\tvalidation_0-error:0.175926\tvalidation_0-logloss:0.400436\tvalidation_1-error:0.201599\tvalidation_1-logloss:0.431807\n",
      "[40]\tvalidation_0-error:0.175318\tvalidation_0-logloss:0.398794\tvalidation_1-error:0.20181\tvalidation_1-logloss:0.431165\n",
      "[41]\tvalidation_0-error:0.175435\tvalidation_0-logloss:0.397936\tvalidation_1-error:0.203704\tvalidation_1-logloss:0.430443\n",
      "[42]\tvalidation_0-error:0.174967\tvalidation_0-logloss:0.397278\tvalidation_1-error:0.202231\tvalidation_1-logloss:0.429833\n",
      "[43]\tvalidation_0-error:0.17471\tvalidation_0-logloss:0.39614\tvalidation_1-error:0.20181\tvalidation_1-logloss:0.428977\n",
      "[44]\tvalidation_0-error:0.173214\tvalidation_0-logloss:0.39419\tvalidation_1-error:0.201389\tvalidation_1-logloss:0.42786\n",
      "[45]\tvalidation_0-error:0.173307\tvalidation_0-logloss:0.393273\tvalidation_1-error:0.200758\tvalidation_1-logloss:0.427099\n",
      "[46]\tvalidation_0-error:0.172372\tvalidation_0-logloss:0.392438\tvalidation_1-error:0.200547\tvalidation_1-logloss:0.426764\n",
      "[47]\tvalidation_0-error:0.172045\tvalidation_0-logloss:0.391003\tvalidation_1-error:0.200758\tvalidation_1-logloss:0.426121\n",
      "[48]\tvalidation_0-error:0.171741\tvalidation_0-logloss:0.390586\tvalidation_1-error:0.201178\tvalidation_1-logloss:0.425751\n",
      "[49]\tvalidation_0-error:0.171647\tvalidation_0-logloss:0.389875\tvalidation_1-error:0.20202\tvalidation_1-logloss:0.42523\n",
      "[50]\tvalidation_0-error:0.170759\tvalidation_0-logloss:0.388859\tvalidation_1-error:0.20202\tvalidation_1-logloss:0.424752\n",
      "[51]\tvalidation_0-error:0.170244\tvalidation_0-logloss:0.387603\tvalidation_1-error:0.202231\tvalidation_1-logloss:0.424071\n",
      "[52]\tvalidation_0-error:0.16973\tvalidation_0-logloss:0.386688\tvalidation_1-error:0.201599\tvalidation_1-logloss:0.423512\n",
      "[53]\tvalidation_0-error:0.169519\tvalidation_0-logloss:0.386201\tvalidation_1-error:0.20181\tvalidation_1-logloss:0.423004\n",
      "[54]\tvalidation_0-error:0.168818\tvalidation_0-logloss:0.385327\tvalidation_1-error:0.200126\tvalidation_1-logloss:0.422517\n",
      "[55]\tvalidation_0-error:0.168514\tvalidation_0-logloss:0.384732\tvalidation_1-error:0.200758\tvalidation_1-logloss:0.422188\n",
      "[56]\tvalidation_0-error:0.168233\tvalidation_0-logloss:0.384278\tvalidation_1-error:0.199495\tvalidation_1-logloss:0.421845\n",
      "[57]\tvalidation_0-error:0.168093\tvalidation_0-logloss:0.383723\tvalidation_1-error:0.199916\tvalidation_1-logloss:0.421621\n",
      "[58]\tvalidation_0-error:0.167555\tvalidation_0-logloss:0.383332\tvalidation_1-error:0.199916\tvalidation_1-logloss:0.42158\n",
      "[59]\tvalidation_0-error:0.167345\tvalidation_0-logloss:0.382665\tvalidation_1-error:0.199705\tvalidation_1-logloss:0.421031\n",
      "[60]\tvalidation_0-error:0.16683\tvalidation_0-logloss:0.381802\tvalidation_1-error:0.199916\tvalidation_1-logloss:0.420403\n",
      "[61]\tvalidation_0-error:0.166363\tvalidation_0-logloss:0.380924\tvalidation_1-error:0.199916\tvalidation_1-logloss:0.419832\n",
      "[62]\tvalidation_0-error:0.166363\tvalidation_0-logloss:0.380032\tvalidation_1-error:0.199495\tvalidation_1-logloss:0.419102\n",
      "[63]\tvalidation_0-error:0.166643\tvalidation_0-logloss:0.37956\tvalidation_1-error:0.199495\tvalidation_1-logloss:0.418939\n",
      "[64]\tvalidation_0-error:0.166456\tvalidation_0-logloss:0.378709\tvalidation_1-error:0.199495\tvalidation_1-logloss:0.418322\n",
      "[65]\tvalidation_0-error:0.166293\tvalidation_0-logloss:0.378254\tvalidation_1-error:0.199705\tvalidation_1-logloss:0.418126\n",
      "[66]\tvalidation_0-error:0.166409\tvalidation_0-logloss:0.377909\tvalidation_1-error:0.199916\tvalidation_1-logloss:0.418067\n",
      "[67]\tvalidation_0-error:0.166339\tvalidation_0-logloss:0.377101\tvalidation_1-error:0.199495\tvalidation_1-logloss:0.417571\n",
      "[68]\tvalidation_0-error:0.165802\tvalidation_0-logloss:0.376275\tvalidation_1-error:0.198232\tvalidation_1-logloss:0.417275\n",
      "[69]\tvalidation_0-error:0.16489\tvalidation_0-logloss:0.375636\tvalidation_1-error:0.198022\tvalidation_1-logloss:0.41684\n",
      "[70]\tvalidation_0-error:0.164983\tvalidation_0-logloss:0.375384\tvalidation_1-error:0.197811\tvalidation_1-logloss:0.416605\n",
      "[71]\tvalidation_0-error:0.164843\tvalidation_0-logloss:0.375011\tvalidation_1-error:0.197391\tvalidation_1-logloss:0.416478\n",
      "[72]\tvalidation_0-error:0.164469\tvalidation_0-logloss:0.374417\tvalidation_1-error:0.19697\tvalidation_1-logloss:0.416031\n",
      "[73]\tvalidation_0-error:0.164352\tvalidation_0-logloss:0.374211\tvalidation_1-error:0.197391\tvalidation_1-logloss:0.415849\n",
      "[74]\tvalidation_0-error:0.164001\tvalidation_0-logloss:0.373047\tvalidation_1-error:0.196759\tvalidation_1-logloss:0.415354\n",
      "[75]\tvalidation_0-error:0.162972\tvalidation_0-logloss:0.37225\tvalidation_1-error:0.196338\tvalidation_1-logloss:0.414915\n",
      "[76]\tvalidation_0-error:0.162505\tvalidation_0-logloss:0.371353\tvalidation_1-error:0.196338\tvalidation_1-logloss:0.414609\n",
      "[77]\tvalidation_0-error:0.162458\tvalidation_0-logloss:0.370943\tvalidation_1-error:0.195707\tvalidation_1-logloss:0.414426\n",
      "[78]\tvalidation_0-error:0.162177\tvalidation_0-logloss:0.370572\tvalidation_1-error:0.195497\tvalidation_1-logloss:0.414303\n",
      "[79]\tvalidation_0-error:0.16199\tvalidation_0-logloss:0.370007\tvalidation_1-error:0.194655\tvalidation_1-logloss:0.414199\n",
      "[80]\tvalidation_0-error:0.161686\tvalidation_0-logloss:0.369323\tvalidation_1-error:0.194865\tvalidation_1-logloss:0.413903\n",
      "[81]\tvalidation_0-error:0.161289\tvalidation_0-logloss:0.368134\tvalidation_1-error:0.195076\tvalidation_1-logloss:0.413411\n",
      "[82]\tvalidation_0-error:0.161125\tvalidation_0-logloss:0.367857\tvalidation_1-error:0.194865\tvalidation_1-logloss:0.413232\n",
      "[83]\tvalidation_0-error:0.160704\tvalidation_0-logloss:0.366973\tvalidation_1-error:0.196338\tvalidation_1-logloss:0.41304\n",
      "[84]\tvalidation_0-error:0.160447\tvalidation_0-logloss:0.366314\tvalidation_1-error:0.196549\tvalidation_1-logloss:0.412654\n",
      "[85]\tvalidation_0-error:0.159559\tvalidation_0-logloss:0.365424\tvalidation_1-error:0.195707\tvalidation_1-logloss:0.412476\n",
      "[86]\tvalidation_0-error:0.159395\tvalidation_0-logloss:0.36499\tvalidation_1-error:0.195286\tvalidation_1-logloss:0.412276\n",
      "[87]\tvalidation_0-error:0.159418\tvalidation_0-logloss:0.364621\tvalidation_1-error:0.194655\tvalidation_1-logloss:0.412074\n",
      "[88]\tvalidation_0-error:0.159044\tvalidation_0-logloss:0.36415\tvalidation_1-error:0.193813\tvalidation_1-logloss:0.411914\n",
      "[89]\tvalidation_0-error:0.158389\tvalidation_0-logloss:0.363203\tvalidation_1-error:0.19234\tvalidation_1-logloss:0.411623\n",
      "[90]\tvalidation_0-error:0.157688\tvalidation_0-logloss:0.362365\tvalidation_1-error:0.191919\tvalidation_1-logloss:0.411512\n",
      "[91]\tvalidation_0-error:0.157735\tvalidation_0-logloss:0.361884\tvalidation_1-error:0.191498\tvalidation_1-logloss:0.411292\n",
      "[92]\tvalidation_0-error:0.157337\tvalidation_0-logloss:0.361462\tvalidation_1-error:0.192761\tvalidation_1-logloss:0.411099\n",
      "[93]\tvalidation_0-error:0.15708\tvalidation_0-logloss:0.361261\tvalidation_1-error:0.192761\tvalidation_1-logloss:0.411081\n",
      "[94]\tvalidation_0-error:0.156402\tvalidation_0-logloss:0.360318\tvalidation_1-error:0.193392\tvalidation_1-logloss:0.410668\n",
      "[95]\tvalidation_0-error:0.156262\tvalidation_0-logloss:0.359964\tvalidation_1-error:0.192551\tvalidation_1-logloss:0.410551\n",
      "[96]\tvalidation_0-error:0.155397\tvalidation_0-logloss:0.359122\tvalidation_1-error:0.190446\tvalidation_1-logloss:0.410275\n",
      "[97]\tvalidation_0-error:0.155373\tvalidation_0-logloss:0.358846\tvalidation_1-error:0.190867\tvalidation_1-logloss:0.410137\n",
      "[98]\tvalidation_0-error:0.155467\tvalidation_0-logloss:0.35852\tvalidation_1-error:0.191498\tvalidation_1-logloss:0.409986\n",
      "[99]\tvalidation_0-error:0.155373\tvalidation_0-logloss:0.358329\tvalidation_1-error:0.190867\tvalidation_1-logloss:0.409925\n",
      "[100]\tvalidation_0-error:0.154648\tvalidation_0-logloss:0.357715\tvalidation_1-error:0.190867\tvalidation_1-logloss:0.409746\n",
      "[101]\tvalidation_0-error:0.154461\tvalidation_0-logloss:0.35735\tvalidation_1-error:0.191288\tvalidation_1-logloss:0.409606\n",
      "[102]\tvalidation_0-error:0.154227\tvalidation_0-logloss:0.357058\tvalidation_1-error:0.191498\tvalidation_1-logloss:0.409565\n",
      "[103]\tvalidation_0-error:0.153947\tvalidation_0-logloss:0.356331\tvalidation_1-error:0.191498\tvalidation_1-logloss:0.409254\n",
      "[104]\tvalidation_0-error:0.153713\tvalidation_0-logloss:0.355985\tvalidation_1-error:0.191288\tvalidation_1-logloss:0.409142\n",
      "[105]\tvalidation_0-error:0.153432\tvalidation_0-logloss:0.355408\tvalidation_1-error:0.190446\tvalidation_1-logloss:0.408783\n",
      "[106]\tvalidation_0-error:0.153012\tvalidation_0-logloss:0.354983\tvalidation_1-error:0.189815\tvalidation_1-logloss:0.408613\n",
      "[107]\tvalidation_0-error:0.152637\tvalidation_0-logloss:0.354694\tvalidation_1-error:0.189394\tvalidation_1-logloss:0.408453\n",
      "[108]\tvalidation_0-error:0.152591\tvalidation_0-logloss:0.354229\tvalidation_1-error:0.189815\tvalidation_1-logloss:0.408334\n",
      "[109]\tvalidation_0-error:0.152591\tvalidation_0-logloss:0.354006\tvalidation_1-error:0.190025\tvalidation_1-logloss:0.408258\n",
      "[110]\tvalidation_0-error:0.152006\tvalidation_0-logloss:0.353158\tvalidation_1-error:0.189184\tvalidation_1-logloss:0.407735\n",
      "[111]\tvalidation_0-error:0.151983\tvalidation_0-logloss:0.353009\tvalidation_1-error:0.189394\tvalidation_1-logloss:0.407632\n",
      "[112]\tvalidation_0-error:0.151889\tvalidation_0-logloss:0.352464\tvalidation_1-error:0.189184\tvalidation_1-logloss:0.407411\n",
      "[113]\tvalidation_0-error:0.151211\tvalidation_0-logloss:0.351945\tvalidation_1-error:0.188973\tvalidation_1-logloss:0.407256\n",
      "[114]\tvalidation_0-error:0.151188\tvalidation_0-logloss:0.351669\tvalidation_1-error:0.188763\tvalidation_1-logloss:0.407016\n",
      "[115]\tvalidation_0-error:0.150346\tvalidation_0-logloss:0.350898\tvalidation_1-error:0.18729\tvalidation_1-logloss:0.406725\n",
      "[116]\tvalidation_0-error:0.149621\tvalidation_0-logloss:0.349804\tvalidation_1-error:0.18771\tvalidation_1-logloss:0.406452\n",
      "[117]\tvalidation_0-error:0.149411\tvalidation_0-logloss:0.349393\tvalidation_1-error:0.18771\tvalidation_1-logloss:0.4061\n",
      "[118]\tvalidation_0-error:0.14906\tvalidation_0-logloss:0.348956\tvalidation_1-error:0.187079\tvalidation_1-logloss:0.405853\n",
      "[119]\tvalidation_0-error:0.14913\tvalidation_0-logloss:0.348637\tvalidation_1-error:0.186448\tvalidation_1-logloss:0.405836\n",
      "[120]\tvalidation_0-error:0.148733\tvalidation_0-logloss:0.348304\tvalidation_1-error:0.186869\tvalidation_1-logloss:0.405678\n",
      "[121]\tvalidation_0-error:0.148312\tvalidation_0-logloss:0.347959\tvalidation_1-error:0.186869\tvalidation_1-logloss:0.405609\n",
      "[122]\tvalidation_0-error:0.148055\tvalidation_0-logloss:0.34782\tvalidation_1-error:0.186448\tvalidation_1-logloss:0.40545\n",
      "[123]\tvalidation_0-error:0.147821\tvalidation_0-logloss:0.347297\tvalidation_1-error:0.186027\tvalidation_1-logloss:0.405162\n",
      "[124]\tvalidation_0-error:0.147587\tvalidation_0-logloss:0.346854\tvalidation_1-error:0.185606\tvalidation_1-logloss:0.404856\n",
      "[125]\tvalidation_0-error:0.147353\tvalidation_0-logloss:0.346391\tvalidation_1-error:0.185606\tvalidation_1-logloss:0.404667\n",
      "[126]\tvalidation_0-error:0.147073\tvalidation_0-logloss:0.346129\tvalidation_1-error:0.185606\tvalidation_1-logloss:0.404476\n",
      "[127]\tvalidation_0-error:0.147166\tvalidation_0-logloss:0.345638\tvalidation_1-error:0.185816\tvalidation_1-logloss:0.404351\n",
      "[128]\tvalidation_0-error:0.146769\tvalidation_0-logloss:0.344889\tvalidation_1-error:0.1875\tvalidation_1-logloss:0.404003\n",
      "[129]\tvalidation_0-error:0.146488\tvalidation_0-logloss:0.344689\tvalidation_1-error:0.1875\tvalidation_1-logloss:0.403943\n",
      "[130]\tvalidation_0-error:0.145646\tvalidation_0-logloss:0.343888\tvalidation_1-error:0.187079\tvalidation_1-logloss:0.403589\n",
      "[131]\tvalidation_0-error:0.145319\tvalidation_0-logloss:0.343201\tvalidation_1-error:0.188131\tvalidation_1-logloss:0.403293\n",
      "[132]\tvalidation_0-error:0.145085\tvalidation_0-logloss:0.343065\tvalidation_1-error:0.18771\tvalidation_1-logloss:0.403238\n",
      "[133]\tvalidation_0-error:0.144828\tvalidation_0-logloss:0.342806\tvalidation_1-error:0.187921\tvalidation_1-logloss:0.403025\n",
      "[134]\tvalidation_0-error:0.144571\tvalidation_0-logloss:0.342298\tvalidation_1-error:0.188131\tvalidation_1-logloss:0.402962\n",
      "[135]\tvalidation_0-error:0.143612\tvalidation_0-logloss:0.341487\tvalidation_1-error:0.188342\tvalidation_1-logloss:0.402936\n",
      "[136]\tvalidation_0-error:0.143308\tvalidation_0-logloss:0.341034\tvalidation_1-error:0.18771\tvalidation_1-logloss:0.402877\n",
      "[137]\tvalidation_0-error:0.142957\tvalidation_0-logloss:0.340439\tvalidation_1-error:0.186869\tvalidation_1-logloss:0.402797\n",
      "[138]\tvalidation_0-error:0.1427\tvalidation_0-logloss:0.339573\tvalidation_1-error:0.186658\tvalidation_1-logloss:0.40265\n",
      "[139]\tvalidation_0-error:0.142116\tvalidation_0-logloss:0.339083\tvalidation_1-error:0.187079\tvalidation_1-logloss:0.402569\n",
      "[140]\tvalidation_0-error:0.141929\tvalidation_0-logloss:0.338724\tvalidation_1-error:0.18729\tvalidation_1-logloss:0.402637\n",
      "[141]\tvalidation_0-error:0.141741\tvalidation_0-logloss:0.338291\tvalidation_1-error:0.1875\tvalidation_1-logloss:0.402286\n",
      "[142]\tvalidation_0-error:0.141087\tvalidation_0-logloss:0.337078\tvalidation_1-error:0.186237\tvalidation_1-logloss:0.40207\n",
      "[143]\tvalidation_0-error:0.140689\tvalidation_0-logloss:0.336662\tvalidation_1-error:0.186869\tvalidation_1-logloss:0.40212\n",
      "[144]\tvalidation_0-error:0.140128\tvalidation_0-logloss:0.336014\tvalidation_1-error:0.186237\tvalidation_1-logloss:0.402038\n",
      "[145]\tvalidation_0-error:0.139848\tvalidation_0-logloss:0.33561\tvalidation_1-error:0.186658\tvalidation_1-logloss:0.401956\n",
      "[146]\tvalidation_0-error:0.139403\tvalidation_0-logloss:0.33514\tvalidation_1-error:0.185396\tvalidation_1-logloss:0.401602\n",
      "[147]\tvalidation_0-error:0.13945\tvalidation_0-logloss:0.33502\tvalidation_1-error:0.185396\tvalidation_1-logloss:0.401625\n",
      "[148]\tvalidation_0-error:0.139123\tvalidation_0-logloss:0.334455\tvalidation_1-error:0.184554\tvalidation_1-logloss:0.401606\n",
      "[149]\tvalidation_0-error:0.138328\tvalidation_0-logloss:0.333828\tvalidation_1-error:0.184975\tvalidation_1-logloss:0.401496\n",
      "[150]\tvalidation_0-error:0.138211\tvalidation_0-logloss:0.333293\tvalidation_1-error:0.185185\tvalidation_1-logloss:0.401566\n",
      "[151]\tvalidation_0-error:0.137837\tvalidation_0-logloss:0.332964\tvalidation_1-error:0.184975\tvalidation_1-logloss:0.401418\n",
      "[152]\tvalidation_0-error:0.137416\tvalidation_0-logloss:0.332041\tvalidation_1-error:0.184343\tvalidation_1-logloss:0.401115\n",
      "[153]\tvalidation_0-error:0.137205\tvalidation_0-logloss:0.331716\tvalidation_1-error:0.184343\tvalidation_1-logloss:0.401115\n",
      "[154]\tvalidation_0-error:0.136878\tvalidation_0-logloss:0.331367\tvalidation_1-error:0.185185\tvalidation_1-logloss:0.400935\n",
      "[155]\tvalidation_0-error:0.136738\tvalidation_0-logloss:0.331099\tvalidation_1-error:0.184764\tvalidation_1-logloss:0.400875\n",
      "[156]\tvalidation_0-error:0.136457\tvalidation_0-logloss:0.330694\tvalidation_1-error:0.184764\tvalidation_1-logloss:0.400663\n",
      "[157]\tvalidation_0-error:0.136317\tvalidation_0-logloss:0.330295\tvalidation_1-error:0.185606\tvalidation_1-logloss:0.40063\n",
      "[158]\tvalidation_0-error:0.135966\tvalidation_0-logloss:0.329924\tvalidation_1-error:0.186027\tvalidation_1-logloss:0.400739\n",
      "[159]\tvalidation_0-error:0.135615\tvalidation_0-logloss:0.329555\tvalidation_1-error:0.186237\tvalidation_1-logloss:0.400748\n",
      "[160]\tvalidation_0-error:0.135732\tvalidation_0-logloss:0.329295\tvalidation_1-error:0.185816\tvalidation_1-logloss:0.400625\n",
      "[161]\tvalidation_0-error:0.135499\tvalidation_0-logloss:0.3291\tvalidation_1-error:0.185606\tvalidation_1-logloss:0.400517\n",
      "[162]\tvalidation_0-error:0.135428\tvalidation_0-logloss:0.328787\tvalidation_1-error:0.186027\tvalidation_1-logloss:0.400606\n",
      "[163]\tvalidation_0-error:0.134984\tvalidation_0-logloss:0.32805\tvalidation_1-error:0.185816\tvalidation_1-logloss:0.400448\n",
      "[164]\tvalidation_0-error:0.134587\tvalidation_0-logloss:0.327516\tvalidation_1-error:0.186658\tvalidation_1-logloss:0.400241\n",
      "[165]\tvalidation_0-error:0.134493\tvalidation_0-logloss:0.327333\tvalidation_1-error:0.186448\tvalidation_1-logloss:0.400116\n",
      "[166]\tvalidation_0-error:0.134493\tvalidation_0-logloss:0.327065\tvalidation_1-error:0.186658\tvalidation_1-logloss:0.399973\n",
      "[167]\tvalidation_0-error:0.134283\tvalidation_0-logloss:0.326621\tvalidation_1-error:0.185185\tvalidation_1-logloss:0.399826\n",
      "[168]\tvalidation_0-error:0.134236\tvalidation_0-logloss:0.326345\tvalidation_1-error:0.185606\tvalidation_1-logloss:0.399717\n",
      "[169]\tvalidation_0-error:0.134002\tvalidation_0-logloss:0.32602\tvalidation_1-error:0.185606\tvalidation_1-logloss:0.399763\n",
      "[170]\tvalidation_0-error:0.133862\tvalidation_0-logloss:0.325609\tvalidation_1-error:0.185816\tvalidation_1-logloss:0.3996\n",
      "[171]\tvalidation_0-error:0.133721\tvalidation_0-logloss:0.325482\tvalidation_1-error:0.185606\tvalidation_1-logloss:0.399513\n",
      "[172]\tvalidation_0-error:0.133698\tvalidation_0-logloss:0.325239\tvalidation_1-error:0.184764\tvalidation_1-logloss:0.399509\n",
      "[173]\tvalidation_0-error:0.133534\tvalidation_0-logloss:0.324775\tvalidation_1-error:0.185396\tvalidation_1-logloss:0.399279\n",
      "[174]\tvalidation_0-error:0.132997\tvalidation_0-logloss:0.324193\tvalidation_1-error:0.184975\tvalidation_1-logloss:0.399313\n",
      "[175]\tvalidation_0-error:0.13281\tvalidation_0-logloss:0.323887\tvalidation_1-error:0.185396\tvalidation_1-logloss:0.399319\n",
      "[176]\tvalidation_0-error:0.132693\tvalidation_0-logloss:0.323604\tvalidation_1-error:0.185185\tvalidation_1-logloss:0.399408\n",
      "[177]\tvalidation_0-error:0.132669\tvalidation_0-logloss:0.322985\tvalidation_1-error:0.184343\tvalidation_1-logloss:0.399241\n",
      "[178]\tvalidation_0-error:0.132506\tvalidation_0-logloss:0.322625\tvalidation_1-error:0.184133\tvalidation_1-logloss:0.399162\n",
      "[179]\tvalidation_0-error:0.132295\tvalidation_0-logloss:0.322476\tvalidation_1-error:0.184133\tvalidation_1-logloss:0.399135\n",
      "[180]\tvalidation_0-error:0.131851\tvalidation_0-logloss:0.322148\tvalidation_1-error:0.183502\tvalidation_1-logloss:0.399013\n",
      "[181]\tvalidation_0-error:0.131734\tvalidation_0-logloss:0.321684\tvalidation_1-error:0.184975\tvalidation_1-logloss:0.399073\n",
      "[182]\tvalidation_0-error:0.131477\tvalidation_0-logloss:0.321277\tvalidation_1-error:0.184764\tvalidation_1-logloss:0.399116\n",
      "[183]\tvalidation_0-error:0.13122\tvalidation_0-logloss:0.320948\tvalidation_1-error:0.185606\tvalidation_1-logloss:0.399053\n",
      "[184]\tvalidation_0-error:0.130775\tvalidation_0-logloss:0.320547\tvalidation_1-error:0.185396\tvalidation_1-logloss:0.398986\n",
      "[185]\tvalidation_0-error:0.131033\tvalidation_0-logloss:0.320358\tvalidation_1-error:0.184554\tvalidation_1-logloss:0.399024\n",
      "[186]\tvalidation_0-error:0.130962\tvalidation_0-logloss:0.320244\tvalidation_1-error:0.184554\tvalidation_1-logloss:0.398959\n",
      "[187]\tvalidation_0-error:0.130658\tvalidation_0-logloss:0.319683\tvalidation_1-error:0.184975\tvalidation_1-logloss:0.398688\n",
      "[188]\tvalidation_0-error:0.130121\tvalidation_0-logloss:0.319198\tvalidation_1-error:0.185396\tvalidation_1-logloss:0.398589\n",
      "[189]\tvalidation_0-error:0.130144\tvalidation_0-logloss:0.318992\tvalidation_1-error:0.185396\tvalidation_1-logloss:0.398486\n",
      "[190]\tvalidation_0-error:0.129934\tvalidation_0-logloss:0.318495\tvalidation_1-error:0.185396\tvalidation_1-logloss:0.39856\n",
      "[191]\tvalidation_0-error:0.129747\tvalidation_0-logloss:0.318248\tvalidation_1-error:0.184975\tvalidation_1-logloss:0.39866\n",
      "[192]\tvalidation_0-error:0.129583\tvalidation_0-logloss:0.318008\tvalidation_1-error:0.184343\tvalidation_1-logloss:0.398687\n",
      "[193]\tvalidation_0-error:0.129326\tvalidation_0-logloss:0.317769\tvalidation_1-error:0.184764\tvalidation_1-logloss:0.398747\n",
      "[194]\tvalidation_0-error:0.129232\tvalidation_0-logloss:0.317326\tvalidation_1-error:0.184343\tvalidation_1-logloss:0.398532\n",
      "[195]\tvalidation_0-error:0.128975\tvalidation_0-logloss:0.317115\tvalidation_1-error:0.185185\tvalidation_1-logloss:0.398488\n",
      "[196]\tvalidation_0-error:0.128718\tvalidation_0-logloss:0.316554\tvalidation_1-error:0.184975\tvalidation_1-logloss:0.398295\n",
      "[197]\tvalidation_0-error:0.128063\tvalidation_0-logloss:0.316064\tvalidation_1-error:0.183923\tvalidation_1-logloss:0.398121\n",
      "[198]\tvalidation_0-error:0.127853\tvalidation_0-logloss:0.315791\tvalidation_1-error:0.184343\tvalidation_1-logloss:0.39801\n",
      "[199]\tvalidation_0-error:0.127642\tvalidation_0-logloss:0.314893\tvalidation_1-error:0.185606\tvalidation_1-logloss:0.397963\n",
      "[200]\tvalidation_0-error:0.127245\tvalidation_0-logloss:0.314403\tvalidation_1-error:0.186027\tvalidation_1-logloss:0.397943\n",
      "[201]\tvalidation_0-error:0.126847\tvalidation_0-logloss:0.314126\tvalidation_1-error:0.185606\tvalidation_1-logloss:0.397861\n",
      "[202]\tvalidation_0-error:0.127081\tvalidation_0-logloss:0.313735\tvalidation_1-error:0.184764\tvalidation_1-logloss:0.397713\n",
      "[203]\tvalidation_0-error:0.126917\tvalidation_0-logloss:0.313275\tvalidation_1-error:0.185396\tvalidation_1-logloss:0.397521\n",
      "[204]\tvalidation_0-error:0.126754\tvalidation_0-logloss:0.312876\tvalidation_1-error:0.185816\tvalidation_1-logloss:0.39731\n",
      "[205]\tvalidation_0-error:0.126263\tvalidation_0-logloss:0.312519\tvalidation_1-error:0.185396\tvalidation_1-logloss:0.397325\n",
      "[206]\tvalidation_0-error:0.126052\tvalidation_0-logloss:0.311997\tvalidation_1-error:0.185816\tvalidation_1-logloss:0.397323\n",
      "[207]\tvalidation_0-error:0.125982\tvalidation_0-logloss:0.311747\tvalidation_1-error:0.185396\tvalidation_1-logloss:0.397392\n",
      "[208]\tvalidation_0-error:0.125397\tvalidation_0-logloss:0.311234\tvalidation_1-error:0.185606\tvalidation_1-logloss:0.39752\n",
      "[209]\tvalidation_0-error:0.124883\tvalidation_0-logloss:0.310525\tvalidation_1-error:0.185816\tvalidation_1-logloss:0.397364\n",
      "[210]\tvalidation_0-error:0.124649\tvalidation_0-logloss:0.310202\tvalidation_1-error:0.186237\tvalidation_1-logloss:0.397411\n",
      "[211]\tvalidation_0-error:0.124392\tvalidation_0-logloss:0.309888\tvalidation_1-error:0.1875\tvalidation_1-logloss:0.397326\n",
      "[212]\tvalidation_0-error:0.124088\tvalidation_0-logloss:0.309596\tvalidation_1-error:0.186658\tvalidation_1-logloss:0.397405\n",
      "[213]\tvalidation_0-error:0.123854\tvalidation_0-logloss:0.309335\tvalidation_1-error:0.186869\tvalidation_1-logloss:0.397263\n",
      "[214]\tvalidation_0-error:0.123808\tvalidation_0-logloss:0.3089\tvalidation_1-error:0.186658\tvalidation_1-logloss:0.397283\n",
      "[215]\tvalidation_0-error:0.123246\tvalidation_0-logloss:0.308316\tvalidation_1-error:0.18729\tvalidation_1-logloss:0.397434\n",
      "[216]\tvalidation_0-error:0.12348\tvalidation_0-logloss:0.308163\tvalidation_1-error:0.187079\tvalidation_1-logloss:0.397377\n",
      "[217]\tvalidation_0-error:0.122966\tvalidation_0-logloss:0.30785\tvalidation_1-error:0.186658\tvalidation_1-logloss:0.397218\n",
      "[218]\tvalidation_0-error:0.122849\tvalidation_0-logloss:0.307567\tvalidation_1-error:0.186448\tvalidation_1-logloss:0.39723\n",
      "[219]\tvalidation_0-error:0.122709\tvalidation_0-logloss:0.307303\tvalidation_1-error:0.186869\tvalidation_1-logloss:0.397105\n",
      "[220]\tvalidation_0-error:0.122475\tvalidation_0-logloss:0.306962\tvalidation_1-error:0.186448\tvalidation_1-logloss:0.397112\n",
      "[221]\tvalidation_0-error:0.122334\tvalidation_0-logloss:0.306806\tvalidation_1-error:0.186658\tvalidation_1-logloss:0.397038\n",
      "[222]\tvalidation_0-error:0.122101\tvalidation_0-logloss:0.306492\tvalidation_1-error:0.18729\tvalidation_1-logloss:0.397024\n",
      "[223]\tvalidation_0-error:0.12196\tvalidation_0-logloss:0.305916\tvalidation_1-error:0.1875\tvalidation_1-logloss:0.396973\n",
      "[224]\tvalidation_0-error:0.121656\tvalidation_0-logloss:0.305501\tvalidation_1-error:0.186448\tvalidation_1-logloss:0.396813\n",
      "[225]\tvalidation_0-error:0.121282\tvalidation_0-logloss:0.305236\tvalidation_1-error:0.18729\tvalidation_1-logloss:0.396822\n",
      "[226]\tvalidation_0-error:0.120628\tvalidation_0-logloss:0.304477\tvalidation_1-error:0.186237\tvalidation_1-logloss:0.396627\n",
      "[227]\tvalidation_0-error:0.120464\tvalidation_0-logloss:0.304305\tvalidation_1-error:0.186237\tvalidation_1-logloss:0.396514\n",
      "[228]\tvalidation_0-error:0.120277\tvalidation_0-logloss:0.304031\tvalidation_1-error:0.186869\tvalidation_1-logloss:0.3965\n",
      "[229]\tvalidation_0-error:0.120043\tvalidation_0-logloss:0.30365\tvalidation_1-error:0.185816\tvalidation_1-logloss:0.396501\n",
      "[230]\tvalidation_0-error:0.12002\tvalidation_0-logloss:0.303498\tvalidation_1-error:0.185816\tvalidation_1-logloss:0.396446\n",
      "[231]\tvalidation_0-error:0.119739\tvalidation_0-logloss:0.303297\tvalidation_1-error:0.186027\tvalidation_1-logloss:0.396366\n",
      "[232]\tvalidation_0-error:0.119599\tvalidation_0-logloss:0.302985\tvalidation_1-error:0.186237\tvalidation_1-logloss:0.396295\n",
      "[233]\tvalidation_0-error:0.119482\tvalidation_0-logloss:0.302573\tvalidation_1-error:0.186658\tvalidation_1-logloss:0.396199\n",
      "[234]\tvalidation_0-error:0.119131\tvalidation_0-logloss:0.301958\tvalidation_1-error:0.186027\tvalidation_1-logloss:0.396005\n",
      "[235]\tvalidation_0-error:0.118944\tvalidation_0-logloss:0.301773\tvalidation_1-error:0.186448\tvalidation_1-logloss:0.395921\n",
      "[236]\tvalidation_0-error:0.118734\tvalidation_0-logloss:0.301691\tvalidation_1-error:0.186658\tvalidation_1-logloss:0.395864\n",
      "[237]\tvalidation_0-error:0.118851\tvalidation_0-logloss:0.301465\tvalidation_1-error:0.186237\tvalidation_1-logloss:0.395822\n",
      "[238]\tvalidation_0-error:0.118734\tvalidation_0-logloss:0.301326\tvalidation_1-error:0.185606\tvalidation_1-logloss:0.39574\n",
      "[239]\tvalidation_0-error:0.1185\tvalidation_0-logloss:0.301224\tvalidation_1-error:0.185396\tvalidation_1-logloss:0.395707\n",
      "[240]\tvalidation_0-error:0.118406\tvalidation_0-logloss:0.301005\tvalidation_1-error:0.185606\tvalidation_1-logloss:0.395722\n",
      "[241]\tvalidation_0-error:0.118266\tvalidation_0-logloss:0.300807\tvalidation_1-error:0.185816\tvalidation_1-logloss:0.39562\n",
      "[242]\tvalidation_0-error:0.117915\tvalidation_0-logloss:0.300039\tvalidation_1-error:0.185816\tvalidation_1-logloss:0.395621\n",
      "[243]\tvalidation_0-error:0.117915\tvalidation_0-logloss:0.299851\tvalidation_1-error:0.185816\tvalidation_1-logloss:0.395597\n",
      "[244]\tvalidation_0-error:0.117541\tvalidation_0-logloss:0.29946\tvalidation_1-error:0.185816\tvalidation_1-logloss:0.395503\n",
      "[245]\tvalidation_0-error:0.117331\tvalidation_0-logloss:0.299226\tvalidation_1-error:0.186027\tvalidation_1-logloss:0.395548\n",
      "[246]\tvalidation_0-error:0.11719\tvalidation_0-logloss:0.298857\tvalidation_1-error:0.185816\tvalidation_1-logloss:0.395687\n",
      "[247]\tvalidation_0-error:0.116793\tvalidation_0-logloss:0.298154\tvalidation_1-error:0.186027\tvalidation_1-logloss:0.395487\n",
      "[248]\tvalidation_0-error:0.116676\tvalidation_0-logloss:0.298073\tvalidation_1-error:0.186448\tvalidation_1-logloss:0.395576\n",
      "[249]\tvalidation_0-error:0.116489\tvalidation_0-logloss:0.297842\tvalidation_1-error:0.186237\tvalidation_1-logloss:0.395597\n",
      "[250]\tvalidation_0-error:0.115788\tvalidation_0-logloss:0.297215\tvalidation_1-error:0.186869\tvalidation_1-logloss:0.395488\n",
      "[251]\tvalidation_0-error:0.115717\tvalidation_0-logloss:0.296917\tvalidation_1-error:0.186237\tvalidation_1-logloss:0.395432\n",
      "[252]\tvalidation_0-error:0.114993\tvalidation_0-logloss:0.296381\tvalidation_1-error:0.186448\tvalidation_1-logloss:0.395524\n",
      "[253]\tvalidation_0-error:0.114805\tvalidation_0-logloss:0.296248\tvalidation_1-error:0.186658\tvalidation_1-logloss:0.395495\n",
      "[254]\tvalidation_0-error:0.114922\tvalidation_0-logloss:0.296133\tvalidation_1-error:0.186448\tvalidation_1-logloss:0.395428\n",
      "[255]\tvalidation_0-error:0.114712\tvalidation_0-logloss:0.295693\tvalidation_1-error:0.1875\tvalidation_1-logloss:0.395204\n",
      "[256]\tvalidation_0-error:0.114525\tvalidation_0-logloss:0.295448\tvalidation_1-error:0.187921\tvalidation_1-logloss:0.395284\n",
      "[257]\tvalidation_0-error:0.114455\tvalidation_0-logloss:0.295168\tvalidation_1-error:0.187921\tvalidation_1-logloss:0.395325\n",
      "[258]\tvalidation_0-error:0.113847\tvalidation_0-logloss:0.29472\tvalidation_1-error:0.187921\tvalidation_1-logloss:0.395234\n",
      "[259]\tvalidation_0-error:0.113543\tvalidation_0-logloss:0.294425\tvalidation_1-error:0.18771\tvalidation_1-logloss:0.395231\n",
      "[260]\tvalidation_0-error:0.113286\tvalidation_0-logloss:0.294136\tvalidation_1-error:0.187921\tvalidation_1-logloss:0.39516\n",
      "[261]\tvalidation_0-error:0.113005\tvalidation_0-logloss:0.293924\tvalidation_1-error:0.18729\tvalidation_1-logloss:0.395085\n",
      "[262]\tvalidation_0-error:0.113192\tvalidation_0-logloss:0.293616\tvalidation_1-error:0.187921\tvalidation_1-logloss:0.39504\n",
      "[263]\tvalidation_0-error:0.112771\tvalidation_0-logloss:0.293344\tvalidation_1-error:0.18729\tvalidation_1-logloss:0.395063\n",
      "[264]\tvalidation_0-error:0.112467\tvalidation_0-logloss:0.293096\tvalidation_1-error:0.188552\tvalidation_1-logloss:0.395011\n",
      "[265]\tvalidation_0-error:0.112023\tvalidation_0-logloss:0.292564\tvalidation_1-error:0.187921\tvalidation_1-logloss:0.394859\n",
      "[266]\tvalidation_0-error:0.111976\tvalidation_0-logloss:0.292394\tvalidation_1-error:0.188131\tvalidation_1-logloss:0.394878\n",
      "[267]\tvalidation_0-error:0.111836\tvalidation_0-logloss:0.292329\tvalidation_1-error:0.18729\tvalidation_1-logloss:0.394835\n",
      "[268]\tvalidation_0-error:0.111742\tvalidation_0-logloss:0.292215\tvalidation_1-error:0.186869\tvalidation_1-logloss:0.39482\n",
      "[269]\tvalidation_0-error:0.111742\tvalidation_0-logloss:0.292002\tvalidation_1-error:0.186448\tvalidation_1-logloss:0.39462\n",
      "[270]\tvalidation_0-error:0.111555\tvalidation_0-logloss:0.291719\tvalidation_1-error:0.186237\tvalidation_1-logloss:0.394403\n",
      "[271]\tvalidation_0-error:0.111532\tvalidation_0-logloss:0.291384\tvalidation_1-error:0.186658\tvalidation_1-logloss:0.394452\n",
      "[272]\tvalidation_0-error:0.111485\tvalidation_0-logloss:0.291274\tvalidation_1-error:0.186448\tvalidation_1-logloss:0.39448\n",
      "[273]\tvalidation_0-error:0.111415\tvalidation_0-logloss:0.290671\tvalidation_1-error:0.186448\tvalidation_1-logloss:0.39445\n",
      "[274]\tvalidation_0-error:0.111322\tvalidation_0-logloss:0.290411\tvalidation_1-error:0.185606\tvalidation_1-logloss:0.394424\n",
      "[275]\tvalidation_0-error:0.111298\tvalidation_0-logloss:0.290295\tvalidation_1-error:0.186237\tvalidation_1-logloss:0.394488\n",
      "[276]\tvalidation_0-error:0.110971\tvalidation_0-logloss:0.289809\tvalidation_1-error:0.186237\tvalidation_1-logloss:0.394317\n",
      "[277]\tvalidation_0-error:0.110947\tvalidation_0-logloss:0.289502\tvalidation_1-error:0.186027\tvalidation_1-logloss:0.394308\n",
      "[278]\tvalidation_0-error:0.110854\tvalidation_0-logloss:0.289289\tvalidation_1-error:0.186027\tvalidation_1-logloss:0.394493\n",
      "[279]\tvalidation_0-error:0.110643\tvalidation_0-logloss:0.288976\tvalidation_1-error:0.185816\tvalidation_1-logloss:0.394425\n",
      "[280]\tvalidation_0-error:0.110433\tvalidation_0-logloss:0.288579\tvalidation_1-error:0.185816\tvalidation_1-logloss:0.394307\n",
      "[281]\tvalidation_0-error:0.11041\tvalidation_0-logloss:0.288189\tvalidation_1-error:0.186027\tvalidation_1-logloss:0.394275\n",
      "[282]\tvalidation_0-error:0.110246\tvalidation_0-logloss:0.288042\tvalidation_1-error:0.185606\tvalidation_1-logloss:0.394278\n",
      "[283]\tvalidation_0-error:0.110106\tvalidation_0-logloss:0.287888\tvalidation_1-error:0.185396\tvalidation_1-logloss:0.394258\n",
      "[284]\tvalidation_0-error:0.109661\tvalidation_0-logloss:0.287549\tvalidation_1-error:0.185185\tvalidation_1-logloss:0.394237\n",
      "[285]\tvalidation_0-error:0.109591\tvalidation_0-logloss:0.287276\tvalidation_1-error:0.184764\tvalidation_1-logloss:0.394239\n",
      "[286]\tvalidation_0-error:0.109357\tvalidation_0-logloss:0.286766\tvalidation_1-error:0.184764\tvalidation_1-logloss:0.394108\n",
      "[287]\tvalidation_0-error:0.109334\tvalidation_0-logloss:0.286561\tvalidation_1-error:0.184554\tvalidation_1-logloss:0.394108\n",
      "[288]\tvalidation_0-error:0.109053\tvalidation_0-logloss:0.28596\tvalidation_1-error:0.185185\tvalidation_1-logloss:0.394086\n",
      "[289]\tvalidation_0-error:0.108773\tvalidation_0-logloss:0.285465\tvalidation_1-error:0.185396\tvalidation_1-logloss:0.394352\n",
      "[290]\tvalidation_0-error:0.108633\tvalidation_0-logloss:0.285234\tvalidation_1-error:0.185396\tvalidation_1-logloss:0.394218\n",
      "[291]\tvalidation_0-error:0.108586\tvalidation_0-logloss:0.284911\tvalidation_1-error:0.185396\tvalidation_1-logloss:0.39404\n",
      "[292]\tvalidation_0-error:0.108048\tvalidation_0-logloss:0.284589\tvalidation_1-error:0.186027\tvalidation_1-logloss:0.39413\n",
      "[293]\tvalidation_0-error:0.107931\tvalidation_0-logloss:0.284251\tvalidation_1-error:0.186027\tvalidation_1-logloss:0.394192\n",
      "[294]\tvalidation_0-error:0.107838\tvalidation_0-logloss:0.283996\tvalidation_1-error:0.186027\tvalidation_1-logloss:0.394112\n",
      "[295]\tvalidation_0-error:0.107744\tvalidation_0-logloss:0.28376\tvalidation_1-error:0.185185\tvalidation_1-logloss:0.394143\n",
      "[296]\tvalidation_0-error:0.107276\tvalidation_0-logloss:0.283523\tvalidation_1-error:0.184343\tvalidation_1-logloss:0.39421\n",
      "[297]\tvalidation_0-error:0.107253\tvalidation_0-logloss:0.283348\tvalidation_1-error:0.184554\tvalidation_1-logloss:0.394125\n",
      "[298]\tvalidation_0-error:0.106809\tvalidation_0-logloss:0.283007\tvalidation_1-error:0.184764\tvalidation_1-logloss:0.393985\n",
      "[299]\tvalidation_0-error:0.106669\tvalidation_0-logloss:0.282874\tvalidation_1-error:0.184764\tvalidation_1-logloss:0.393961\n",
      "[300]\tvalidation_0-error:0.106692\tvalidation_0-logloss:0.282533\tvalidation_1-error:0.184554\tvalidation_1-logloss:0.394051\n",
      "[301]\tvalidation_0-error:0.106715\tvalidation_0-logloss:0.282335\tvalidation_1-error:0.185396\tvalidation_1-logloss:0.394052\n",
      "[302]\tvalidation_0-error:0.106178\tvalidation_0-logloss:0.281719\tvalidation_1-error:0.185606\tvalidation_1-logloss:0.39394\n",
      "[303]\tvalidation_0-error:0.105593\tvalidation_0-logloss:0.281273\tvalidation_1-error:0.186027\tvalidation_1-logloss:0.393772\n",
      "[304]\tvalidation_0-error:0.105312\tvalidation_0-logloss:0.281137\tvalidation_1-error:0.185816\tvalidation_1-logloss:0.393798\n",
      "[305]\tvalidation_0-error:0.105172\tvalidation_0-logloss:0.280804\tvalidation_1-error:0.185396\tvalidation_1-logloss:0.393755\n",
      "[306]\tvalidation_0-error:0.105195\tvalidation_0-logloss:0.280567\tvalidation_1-error:0.185396\tvalidation_1-logloss:0.393621\n",
      "[307]\tvalidation_0-error:0.104775\tvalidation_0-logloss:0.280182\tvalidation_1-error:0.185185\tvalidation_1-logloss:0.393591\n",
      "[308]\tvalidation_0-error:0.104354\tvalidation_0-logloss:0.279679\tvalidation_1-error:0.184554\tvalidation_1-logloss:0.39348\n",
      "[309]\tvalidation_0-error:0.104471\tvalidation_0-logloss:0.279503\tvalidation_1-error:0.184554\tvalidation_1-logloss:0.393559\n",
      "[310]\tvalidation_0-error:0.104447\tvalidation_0-logloss:0.279227\tvalidation_1-error:0.184133\tvalidation_1-logloss:0.393592\n",
      "[311]\tvalidation_0-error:0.104494\tvalidation_0-logloss:0.279009\tvalidation_1-error:0.183923\tvalidation_1-logloss:0.39362\n",
      "[312]\tvalidation_0-error:0.104097\tvalidation_0-logloss:0.278725\tvalidation_1-error:0.184133\tvalidation_1-logloss:0.393744\n",
      "[313]\tvalidation_0-error:0.10405\tvalidation_0-logloss:0.278441\tvalidation_1-error:0.184554\tvalidation_1-logloss:0.393618\n",
      "[314]\tvalidation_0-error:0.104003\tvalidation_0-logloss:0.278301\tvalidation_1-error:0.184343\tvalidation_1-logloss:0.393645\n",
      "[315]\tvalidation_0-error:0.103722\tvalidation_0-logloss:0.277952\tvalidation_1-error:0.184554\tvalidation_1-logloss:0.393646\n",
      "[316]\tvalidation_0-error:0.103769\tvalidation_0-logloss:0.2779\tvalidation_1-error:0.184343\tvalidation_1-logloss:0.393606\n",
      "[317]\tvalidation_0-error:0.103676\tvalidation_0-logloss:0.277768\tvalidation_1-error:0.184554\tvalidation_1-logloss:0.393526\n",
      "[318]\tvalidation_0-error:0.103629\tvalidation_0-logloss:0.277574\tvalidation_1-error:0.184343\tvalidation_1-logloss:0.393418\n",
      "[319]\tvalidation_0-error:0.103395\tvalidation_0-logloss:0.277189\tvalidation_1-error:0.184975\tvalidation_1-logloss:0.393568\n",
      "[320]\tvalidation_0-error:0.103302\tvalidation_0-logloss:0.276928\tvalidation_1-error:0.184975\tvalidation_1-logloss:0.393667\n",
      "[321]\tvalidation_0-error:0.102998\tvalidation_0-logloss:0.276527\tvalidation_1-error:0.184343\tvalidation_1-logloss:0.393608\n",
      "[322]\tvalidation_0-error:0.102857\tvalidation_0-logloss:0.276138\tvalidation_1-error:0.184975\tvalidation_1-logloss:0.393567\n",
      "[323]\tvalidation_0-error:0.102881\tvalidation_0-logloss:0.275922\tvalidation_1-error:0.184975\tvalidation_1-logloss:0.393462\n",
      "[324]\tvalidation_0-error:0.102647\tvalidation_0-logloss:0.275826\tvalidation_1-error:0.184764\tvalidation_1-logloss:0.393414\n",
      "[325]\tvalidation_0-error:0.102179\tvalidation_0-logloss:0.275299\tvalidation_1-error:0.184133\tvalidation_1-logloss:0.393363\n",
      "[326]\tvalidation_0-error:0.102109\tvalidation_0-logloss:0.274784\tvalidation_1-error:0.184975\tvalidation_1-logloss:0.393295\n",
      "[327]\tvalidation_0-error:0.102016\tvalidation_0-logloss:0.274383\tvalidation_1-error:0.184764\tvalidation_1-logloss:0.393389\n",
      "[328]\tvalidation_0-error:0.102016\tvalidation_0-logloss:0.274061\tvalidation_1-error:0.185396\tvalidation_1-logloss:0.393433\n",
      "[329]\tvalidation_0-error:0.101758\tvalidation_0-logloss:0.273796\tvalidation_1-error:0.185185\tvalidation_1-logloss:0.393349\n",
      "[330]\tvalidation_0-error:0.101548\tvalidation_0-logloss:0.273699\tvalidation_1-error:0.185606\tvalidation_1-logloss:0.393269\n",
      "[331]\tvalidation_0-error:0.101244\tvalidation_0-logloss:0.27344\tvalidation_1-error:0.186027\tvalidation_1-logloss:0.393258\n",
      "[332]\tvalidation_0-error:0.101197\tvalidation_0-logloss:0.273171\tvalidation_1-error:0.185816\tvalidation_1-logloss:0.39327\n",
      "[333]\tvalidation_0-error:0.10108\tvalidation_0-logloss:0.272738\tvalidation_1-error:0.185185\tvalidation_1-logloss:0.393161\n",
      "[334]\tvalidation_0-error:0.10108\tvalidation_0-logloss:0.272552\tvalidation_1-error:0.185816\tvalidation_1-logloss:0.393283\n",
      "[335]\tvalidation_0-error:0.100776\tvalidation_0-logloss:0.272341\tvalidation_1-error:0.186448\tvalidation_1-logloss:0.393235\n",
      "[336]\tvalidation_0-error:0.10073\tvalidation_0-logloss:0.272063\tvalidation_1-error:0.186027\tvalidation_1-logloss:0.393238\n",
      "[337]\tvalidation_0-error:0.100285\tvalidation_0-logloss:0.271682\tvalidation_1-error:0.185816\tvalidation_1-logloss:0.393139\n",
      "[338]\tvalidation_0-error:0.100309\tvalidation_0-logloss:0.271552\tvalidation_1-error:0.185606\tvalidation_1-logloss:0.393127\n",
      "[339]\tvalidation_0-error:0.100215\tvalidation_0-logloss:0.271468\tvalidation_1-error:0.186237\tvalidation_1-logloss:0.39311\n",
      "[340]\tvalidation_0-error:0.100238\tvalidation_0-logloss:0.271279\tvalidation_1-error:0.185816\tvalidation_1-logloss:0.393103\n",
      "[341]\tvalidation_0-error:0.100145\tvalidation_0-logloss:0.270971\tvalidation_1-error:0.186448\tvalidation_1-logloss:0.393079\n",
      "[342]\tvalidation_0-error:0.100028\tvalidation_0-logloss:0.270614\tvalidation_1-error:0.186658\tvalidation_1-logloss:0.392996\n",
      "[343]\tvalidation_0-error:0.100122\tvalidation_0-logloss:0.270316\tvalidation_1-error:0.1875\tvalidation_1-logloss:0.393086\n",
      "[344]\tvalidation_0-error:0.100005\tvalidation_0-logloss:0.270064\tvalidation_1-error:0.18729\tvalidation_1-logloss:0.393039\n",
      "[345]\tvalidation_0-error:0.099677\tvalidation_0-logloss:0.269546\tvalidation_1-error:0.18729\tvalidation_1-logloss:0.393103\n",
      "[346]\tvalidation_0-error:0.09956\tvalidation_0-logloss:0.269287\tvalidation_1-error:0.186658\tvalidation_1-logloss:0.393124\n",
      "[347]\tvalidation_0-error:0.09921\tvalidation_0-logloss:0.268861\tvalidation_1-error:0.185816\tvalidation_1-logloss:0.392878\n",
      "[348]\tvalidation_0-error:0.099186\tvalidation_0-logloss:0.268598\tvalidation_1-error:0.185816\tvalidation_1-logloss:0.392829\n",
      "[349]\tvalidation_0-error:0.098789\tvalidation_0-logloss:0.268439\tvalidation_1-error:0.185606\tvalidation_1-logloss:0.392892\n",
      "[350]\tvalidation_0-error:0.098672\tvalidation_0-logloss:0.268255\tvalidation_1-error:0.186027\tvalidation_1-logloss:0.392856\n",
      "[351]\tvalidation_0-error:0.098158\tvalidation_0-logloss:0.267794\tvalidation_1-error:0.185606\tvalidation_1-logloss:0.392838\n",
      "[352]\tvalidation_0-error:0.09783\tvalidation_0-logloss:0.267477\tvalidation_1-error:0.185396\tvalidation_1-logloss:0.392676\n",
      "[353]\tvalidation_0-error:0.097737\tvalidation_0-logloss:0.267311\tvalidation_1-error:0.185606\tvalidation_1-logloss:0.392701\n",
      "[354]\tvalidation_0-error:0.097643\tvalidation_0-logloss:0.266875\tvalidation_1-error:0.184343\tvalidation_1-logloss:0.392572\n",
      "[355]\tvalidation_0-error:0.09776\tvalidation_0-logloss:0.266418\tvalidation_1-error:0.184554\tvalidation_1-logloss:0.392679\n",
      "[356]\tvalidation_0-error:0.097409\tvalidation_0-logloss:0.26592\tvalidation_1-error:0.185396\tvalidation_1-logloss:0.392868\n",
      "[357]\tvalidation_0-error:0.096965\tvalidation_0-logloss:0.265541\tvalidation_1-error:0.186869\tvalidation_1-logloss:0.392996\n",
      "[358]\tvalidation_0-error:0.096778\tvalidation_0-logloss:0.265325\tvalidation_1-error:0.18729\tvalidation_1-logloss:0.392988\n",
      "[359]\tvalidation_0-error:0.096755\tvalidation_0-logloss:0.265161\tvalidation_1-error:0.186658\tvalidation_1-logloss:0.393006\n",
      "[360]\tvalidation_0-error:0.096755\tvalidation_0-logloss:0.264906\tvalidation_1-error:0.185816\tvalidation_1-logloss:0.39294\n",
      "[361]\tvalidation_0-error:0.096755\tvalidation_0-logloss:0.264716\tvalidation_1-error:0.185606\tvalidation_1-logloss:0.39297\n",
      "[362]\tvalidation_0-error:0.096918\tvalidation_0-logloss:0.264359\tvalidation_1-error:0.185816\tvalidation_1-logloss:0.393147\n",
      "[363]\tvalidation_0-error:0.096427\tvalidation_0-logloss:0.264005\tvalidation_1-error:0.185606\tvalidation_1-logloss:0.393306\n",
      "[364]\tvalidation_0-error:0.096357\tvalidation_0-logloss:0.263727\tvalidation_1-error:0.186027\tvalidation_1-logloss:0.393351\n",
      "Stopping. Best iteration:\n",
      "[354]\tvalidation_0-error:0.097643\tvalidation_0-logloss:0.266875\tvalidation_1-error:0.184343\tvalidation_1-logloss:0.392572\n",
      "\n"
     ]
    },
    {
     "data": {
      "text/plain": [
       "XGBClassifier(colsample_bytree=0.6, max_depth=10, n_estimators=1000,\n",
       "              reg_lambda=3, subsample=0.7)"
      ]
     },
     "execution_count": 43,
     "metadata": {},
     "output_type": "execute_result"
    }
   ],
   "source": [
    "from pandas.core.internals.construction import nested_data_to_arrays\n",
    "\n",
    "#max_depth=8,learning_rate=0.1,subsample=0.8,n_estimators=1000,reg_lambda=3,colsample_bytree=0.4 val = 0.416 train = 0.268\n",
    "#max_depth=10,learning_rate=0.1,subsample=0.7,n_estimators=350,reg_lambda=5,colsample_bytree=0.9 val = 0.407 train = 0.295\n",
    "#max_depth=10,learning_rate=0.1,subsample=0.7,n_estimators=1000,reg_lambda=3,colsample_bytree=0.6 best val (With early stopping)\n",
    "xgb = XGBClassifier(max_depth=10,learning_rate=0.1,subsample=0.7,n_estimators=1000,reg_lambda=3,colsample_bytree=0.6)\n",
    "xgb.fit(X_train_enc,y_train,eval_set = [(X_train_enc, y_train), (X_dev_enc, y_dev)],eval_metric=[\"error\", \"logloss\"],early_stopping_rounds=10)"
   ]
  },
  {
   "cell_type": "code",
   "execution_count": null,
   "metadata": {
    "colab": {
     "base_uri": "https://localhost:8080/"
    },
    "id": "Ot9bbWuLqnGK",
    "outputId": "708ddeb7-c344-44d5-8506-95615d2d8cca"
   },
   "outputs": [
    {
     "name": "stdout",
     "output_type": "stream",
     "text": [
      "Fitting 5 folds for each of 10 candidates, totalling 50 fits\n"
     ]
    },
    {
     "data": {
      "text/plain": [
       "RandomizedSearchCV(estimator=XGBClassifier(),\n",
       "                   param_distributions={'colsample_bylevel': array([0.4, 0.5, 0.6, 0.7, 0.8, 0.9]),\n",
       "                                        'colsample_bytree': array([0.4, 0.5, 0.6, 0.7, 0.8, 0.9]),\n",
       "                                        'learning_rate': [0.005, 0.01, 0.03,\n",
       "                                                          0.1, 0.3],\n",
       "                                        'max_depth': [3, 5, 6, 10],\n",
       "                                        'n_estimators': [100, 500, 1000],\n",
       "                                        'subsample': array([0.4, 0.5, 0.6, 0.7, 0.8, 0.9])},\n",
       "                   scoring='neg_log_loss', verbose=1)"
      ]
     },
     "execution_count": 19,
     "metadata": {},
     "output_type": "execute_result"
    }
   ],
   "source": [
    "from sklearn.model_selection import RandomizedSearchCV\n",
    "\n",
    "params = {\"max_depth\": [3,5,6,10],\n",
    "          \"learning_rate\": [0.005,0.01,0.03,0.1,0.3],\n",
    "          \"n_estimators\": [100,500,1000],\n",
    "          \"subsample\": np.arange(0.4,1.0,0.1),\n",
    "          \"colsample_bylevel\": np.arange(0.4,1.0,0.1),\n",
    "          \"colsample_bytree\": np.arange(0.4,1.0,0.1)}\n",
    "\n",
    "xgb = XGBClassifier()\n",
    "clf = RandomizedSearchCV(estimator=xgb, param_distributions=params, scoring=\"neg_log_loss\",n_iter=10,verbose=1)\n",
    "clf.fit(X_train_enc,y_train)"
   ]
  },
  {
   "cell_type": "code",
   "execution_count": null,
   "metadata": {
    "colab": {
     "base_uri": "https://localhost:8080/"
    },
    "id": "vYKzLIHIIBCx",
    "outputId": "c05c0efe-3b0c-45aa-c30c-c6bf0f2e3620"
   },
   "outputs": [
    {
     "data": {
      "text/plain": [
       "{'colsample_bylevel': 0.5,\n",
       " 'colsample_bytree': 0.7999999999999999,\n",
       " 'learning_rate': 0.1,\n",
       " 'max_depth': 10,\n",
       " 'n_estimators': 100,\n",
       " 'subsample': 0.5}"
      ]
     },
     "execution_count": 62,
     "metadata": {},
     "output_type": "execute_result"
    }
   ],
   "source": [
    "clf.best_params_"
   ]
  },
  {
   "cell_type": "markdown",
   "metadata": {
    "id": "0LdctjxD1kgx"
   },
   "source": [
    " A first search over a subset that is small enough to be done quickly yielded results which weren't better than some found using some intuition"
   ]
  },
  {
   "cell_type": "code",
   "execution_count": null,
   "metadata": {
    "colab": {
     "base_uri": "https://localhost:8080/"
    },
    "id": "r13XiggY0-iE",
    "outputId": "33a5690f-582e-41e0-9ad7-70f4360f49f4"
   },
   "outputs": [
    {
     "name": "stdout",
     "output_type": "stream",
     "text": [
      "{'subsample': 0.4, 'n_estimators': 1000, 'max_depth': 10, 'learning_rate': 0.3, 'colsample_bytree': 0.7, 'colsample_bylevel': 0.6}\n",
      "0.6955058406829557\n"
     ]
    }
   ],
   "source": [
    "print(clf.best_params_)\n",
    "print(clf.best_score_)"
   ]
  },
  {
   "cell_type": "code",
   "execution_count": null,
   "metadata": {
    "colab": {
     "base_uri": "https://localhost:8080/"
    },
    "id": "7dXHuHP51WOH",
    "outputId": "5a1e8b9b-a063-49a5-c73e-33b54b3d9a28"
   },
   "outputs": [
    {
     "name": "stdout",
     "output_type": "stream",
     "text": [
      "training error =  0.2228312003791734\n",
      "dev set error =  0.6164972147072758\n"
     ]
    }
   ],
   "source": [
    "xgb = XGBClassifier(subsample= 0.4, n_estimators=1000, max_depth= 10, learning_rate=0.3, colsample_bytree=0.7, colsample_bylevel=0.6)\n",
    "xgb.fit(X_train_enc,y_train)\n",
    "\n",
    "y_train_pred = xgb.predict_proba(X_train_enc)\n",
    "print(\"training error = \" ,log_loss(y_train, y_train_pred))\n",
    "\n",
    "y_dev_pred = xgb.predict_proba(X_dev_enc)\n",
    "print(\"dev set error = \", log_loss(y_dev,y_dev_pred))\n"
   ]
  },
  {
   "cell_type": "markdown",
   "metadata": {
    "id": "Y1HAxgFkR0tV"
   },
   "source": [
    "### Model Evaluation"
   ]
  },
  {
   "cell_type": "code",
   "execution_count": null,
   "metadata": {
    "colab": {
     "base_uri": "https://localhost:8080/",
     "height": 316
    },
    "id": "bz7Qzi96YtfC",
    "outputId": "98315c64-431a-4e98-dd98-fb375f7140b8"
   },
   "outputs": [
    {
     "data": {
      "image/png": "[encoded data removed]",
      "text/plain": [
       "<Figure size 432x288 with 1 Axes>"
      ]
     },
     "metadata": {
      "needs_background": "light"
     },
     "output_type": "display_data"
    },
    {
     "name": "stdout",
     "output_type": "stream",
     "text": [
      "training error =  0.2668742470150398\n",
      "dev set error =  0.3925724188722156\n"
     ]
    }
   ],
   "source": [
    "# Add code here to evalute your models.\n",
    "results = xgb.evals_result()\n",
    "epochs = len(results['validation_0']['error'])\n",
    "x_axis = range(0, epochs)\n",
    "\n",
    "fig, ax = plt.subplots()\n",
    "ax.plot(x_axis, results['validation_0']['logloss'], label='Train')\n",
    "ax.plot(x_axis, results['validation_1']['logloss'], label='Test')\n",
    "ax.legend()\n",
    "plt.ylabel('Log Loss')\n",
    "plt.title('XGBoost Log Loss')\n",
    "plt.show()\n",
    "\n",
    "y_train_pred = xgb.predict_proba(X_train_enc)\n",
    "print(\"training error = \" ,log_loss(y_train, y_train_pred))\n",
    "\n",
    "y_dev_pred = xgb.predict_proba(X_dev_enc)\n",
    "print(\"dev set error = \", log_loss(y_dev,y_dev_pred))"
   ]
  },
  {
   "cell_type": "markdown",
   "metadata": {
    "id": "BuY0jI0dnl3b"
   },
   "source": [
    "## **Submit to Competition**\n",
    "\n",
    "Run the cell below to read in the test set features.\n",
    "\n",
    "Then, you can use your model to generate predictions on this data, then create a dataframe with the following format / variables:\n",
    "+ `id` - the unique ID for each observation.\n",
    "+ `predicted` - your model's predicted probability that a pump needs repair. \n",
    "\n",
    "Write this data frame to a csv file called `\"submission.csv\"`. Then download this file by opening the files pane within Colab (look for the &#128193; symbol on the left of the screen). This is shown in the gif below. \n",
    "\n",
    "After downloading the file, make a submission to our [Kaggle competition](https://www.kaggle.com/t/0e44c943df634f0a86c823c7edc118da). If you haven't already, you'll need to first sign in on Kaggle and hit \"**Join the Competition**\" in order to submit. \n",
    "\n",
    "**Note:** For your submission to the Kaggle competition, do *not* modify your Kaggle Team Name. This should be the same as the Kaggle Display Name you provided in the Pre-Contest Survey so that we can connect your notebook to your submission. "
   ]
  },
  {
   "cell_type": "code",
   "execution_count": null,
   "metadata": {
    "colab": {
     "base_uri": "https://localhost:8080/",
     "height": 461
    },
    "id": "FT0B4GU0yGJS",
    "outputId": "ee0f2017-9340-41c4-829d-23663c8690c7"
   },
   "outputs": [
    {
     "data": {
      "text/html": [
       "\n",
       "  <div id=\"df-6b482ac5-3773-47a7-9787-f50a8fa79979\">\n",
       "    <div class=\"colab-df-container\">\n",
       "      <div>\n",
       "<style scoped>\n",
       "    .dataframe tbody tr th:only-of-type {\n",
       "        vertical-align: middle;\n",
       "    }\n",
       "\n",
       "    .dataframe tbody tr th {\n",
       "        vertical-align: top;\n",
       "    }\n",
       "\n",
       "    .dataframe thead th {\n",
       "        text-align: right;\n",
       "    }\n",
       "</style>\n",
       "<table border=\"1\" class=\"dataframe\">\n",
       "  <thead>\n",
       "    <tr style=\"text-align: right;\">\n",
       "      <th></th>\n",
       "      <th>id</th>\n",
       "      <th>amount_tsh</th>\n",
       "      <th>date_recorded</th>\n",
       "      <th>funder</th>\n",
       "      <th>gps_height</th>\n",
       "      <th>installer</th>\n",
       "      <th>longitude</th>\n",
       "      <th>latitude</th>\n",
       "      <th>wpt_name</th>\n",
       "      <th>basin</th>\n",
       "      <th>subvillage</th>\n",
       "      <th>region</th>\n",
       "      <th>region_code</th>\n",
       "      <th>district_code</th>\n",
       "      <th>lga</th>\n",
       "      <th>ward</th>\n",
       "      <th>population</th>\n",
       "      <th>public_meeting</th>\n",
       "      <th>recorded_by</th>\n",
       "      <th>scheme_management</th>\n",
       "      <th>scheme_name</th>\n",
       "      <th>permit</th>\n",
       "      <th>construction_year</th>\n",
       "      <th>extraction_type</th>\n",
       "      <th>extraction_type_group</th>\n",
       "      <th>extraction_type_class</th>\n",
       "      <th>management</th>\n",
       "      <th>management_group</th>\n",
       "      <th>payment</th>\n",
       "      <th>payment_type</th>\n",
       "      <th>water_quality</th>\n",
       "      <th>quality_group</th>\n",
       "      <th>quantity</th>\n",
       "      <th>quantity_group</th>\n",
       "      <th>source</th>\n",
       "      <th>source_type</th>\n",
       "      <th>source_class</th>\n",
       "      <th>waterpoint_type</th>\n",
       "      <th>waterpoint_type_group</th>\n",
       "    </tr>\n",
       "  </thead>\n",
       "  <tbody>\n",
       "    <tr>\n",
       "      <th>0</th>\n",
       "      <td>47521</td>\n",
       "      <td>6000.0</td>\n",
       "      <td>3/14/2011</td>\n",
       "      <td>Roman</td>\n",
       "      <td>1390</td>\n",
       "      <td>Roman</td>\n",
       "      <td>34.934429</td>\n",
       "      <td>-9.859748</td>\n",
       "      <td>none</td>\n",
       "      <td>Lake Nyasa</td>\n",
       "      <td>Mnyusi B</td>\n",
       "      <td>Iringa</td>\n",
       "      <td>11</td>\n",
       "      <td>5</td>\n",
       "      <td>Ludewa</td>\n",
       "      <td>Mundindi</td>\n",
       "      <td>109</td>\n",
       "      <td>True</td>\n",
       "      <td>GeoData Consultants Ltd</td>\n",
       "      <td>VWC</td>\n",
       "      <td>Roman</td>\n",
       "      <td>False</td>\n",
       "      <td>1999</td>\n",
       "      <td>gravity</td>\n",
       "      <td>gravity</td>\n",
       "      <td>gravity</td>\n",
       "      <td>vwc</td>\n",
       "      <td>user-group</td>\n",
       "      <td>pay annually</td>\n",
       "      <td>annually</td>\n",
       "      <td>soft</td>\n",
       "      <td>good</td>\n",
       "      <td>enough</td>\n",
       "      <td>enough</td>\n",
       "      <td>spring</td>\n",
       "      <td>spring</td>\n",
       "      <td>groundwater</td>\n",
       "      <td>communal standpipe</td>\n",
       "      <td>communal standpipe</td>\n",
       "    </tr>\n",
       "    <tr>\n",
       "      <th>1</th>\n",
       "      <td>47522</td>\n",
       "      <td>0.0</td>\n",
       "      <td>1/28/2013</td>\n",
       "      <td>Unicef</td>\n",
       "      <td>263</td>\n",
       "      <td>UNICEF</td>\n",
       "      <td>38.481475</td>\n",
       "      <td>-11.147901</td>\n",
       "      <td>Zahanati Ya Nanyumbu</td>\n",
       "      <td>Ruvuma / Southern Coast</td>\n",
       "      <td>Mahakamani</td>\n",
       "      <td>Mtwara</td>\n",
       "      <td>90</td>\n",
       "      <td>63</td>\n",
       "      <td>Nanyumbu</td>\n",
       "      <td>Nanyumbu</td>\n",
       "      <td>58</td>\n",
       "      <td>True</td>\n",
       "      <td>GeoData Consultants Ltd</td>\n",
       "      <td>VWC</td>\n",
       "      <td>NaN</td>\n",
       "      <td>True</td>\n",
       "      <td>1986</td>\n",
       "      <td>submersible</td>\n",
       "      <td>submersible</td>\n",
       "      <td>submersible</td>\n",
       "      <td>vwc</td>\n",
       "      <td>user-group</td>\n",
       "      <td>never pay</td>\n",
       "      <td>never pay</td>\n",
       "      <td>soft</td>\n",
       "      <td>good</td>\n",
       "      <td>dry</td>\n",
       "      <td>dry</td>\n",
       "      <td>machine dbh</td>\n",
       "      <td>borehole</td>\n",
       "      <td>groundwater</td>\n",
       "      <td>communal standpipe multiple</td>\n",
       "      <td>communal standpipe</td>\n",
       "    </tr>\n",
       "    <tr>\n",
       "      <th>2</th>\n",
       "      <td>47523</td>\n",
       "      <td>0.0</td>\n",
       "      <td>10/14/2012</td>\n",
       "      <td>World Vision</td>\n",
       "      <td>0</td>\n",
       "      <td>World vision</td>\n",
       "      <td>33.802775</td>\n",
       "      <td>-3.291305</td>\n",
       "      <td>Pamba</td>\n",
       "      <td>Internal</td>\n",
       "      <td>Nkilifa</td>\n",
       "      <td>Shinyanga</td>\n",
       "      <td>17</td>\n",
       "      <td>2</td>\n",
       "      <td>Maswa</td>\n",
       "      <td>Busilili</td>\n",
       "      <td>0</td>\n",
       "      <td>True</td>\n",
       "      <td>GeoData Consultants Ltd</td>\n",
       "      <td>WUG</td>\n",
       "      <td>NaN</td>\n",
       "      <td>False</td>\n",
       "      <td>0</td>\n",
       "      <td>nira/tanira</td>\n",
       "      <td>nira/tanira</td>\n",
       "      <td>handpump</td>\n",
       "      <td>wug</td>\n",
       "      <td>user-group</td>\n",
       "      <td>other</td>\n",
       "      <td>other</td>\n",
       "      <td>soft</td>\n",
       "      <td>good</td>\n",
       "      <td>enough</td>\n",
       "      <td>enough</td>\n",
       "      <td>shallow well</td>\n",
       "      <td>shallow well</td>\n",
       "      <td>groundwater</td>\n",
       "      <td>hand pump</td>\n",
       "      <td>hand pump</td>\n",
       "    </tr>\n",
       "    <tr>\n",
       "      <th>3</th>\n",
       "      <td>47524</td>\n",
       "      <td>0.0</td>\n",
       "      <td>3/15/2013</td>\n",
       "      <td>Lawatefuka Water Supply</td>\n",
       "      <td>1368</td>\n",
       "      <td>Lawatefuka water sup</td>\n",
       "      <td>37.086057</td>\n",
       "      <td>-3.181949</td>\n",
       "      <td>Kwa John Izack Mmari</td>\n",
       "      <td>Pangani</td>\n",
       "      <td>Omarini</td>\n",
       "      <td>Kilimanjaro</td>\n",
       "      <td>3</td>\n",
       "      <td>7</td>\n",
       "      <td>Siha</td>\n",
       "      <td>Siha Kaskazini</td>\n",
       "      <td>1</td>\n",
       "      <td>True</td>\n",
       "      <td>GeoData Consultants Ltd</td>\n",
       "      <td>Water Board</td>\n",
       "      <td>BL Bondeni</td>\n",
       "      <td>True</td>\n",
       "      <td>2009</td>\n",
       "      <td>gravity</td>\n",
       "      <td>gravity</td>\n",
       "      <td>gravity</td>\n",
       "      <td>water board</td>\n",
       "      <td>user-group</td>\n",
       "      <td>pay monthly</td>\n",
       "      <td>monthly</td>\n",
       "      <td>soft</td>\n",
       "      <td>good</td>\n",
       "      <td>enough</td>\n",
       "      <td>enough</td>\n",
       "      <td>spring</td>\n",
       "      <td>spring</td>\n",
       "      <td>groundwater</td>\n",
       "      <td>communal standpipe</td>\n",
       "      <td>communal standpipe</td>\n",
       "    </tr>\n",
       "    <tr>\n",
       "      <th>4</th>\n",
       "      <td>47525</td>\n",
       "      <td>0.0</td>\n",
       "      <td>10/20/2012</td>\n",
       "      <td>Biore</td>\n",
       "      <td>0</td>\n",
       "      <td>WEDECO</td>\n",
       "      <td>34.365589</td>\n",
       "      <td>-3.626754</td>\n",
       "      <td>Mwabasabi</td>\n",
       "      <td>Internal</td>\n",
       "      <td>Mwabasabi</td>\n",
       "      <td>Shinyanga</td>\n",
       "      <td>17</td>\n",
       "      <td>6</td>\n",
       "      <td>Meatu</td>\n",
       "      <td>Nkoma</td>\n",
       "      <td>0</td>\n",
       "      <td>True</td>\n",
       "      <td>GeoData Consultants Ltd</td>\n",
       "      <td>WUG</td>\n",
       "      <td>None</td>\n",
       "      <td>True</td>\n",
       "      <td>0</td>\n",
       "      <td>nira/tanira</td>\n",
       "      <td>nira/tanira</td>\n",
       "      <td>handpump</td>\n",
       "      <td>wug</td>\n",
       "      <td>user-group</td>\n",
       "      <td>never pay</td>\n",
       "      <td>never pay</td>\n",
       "      <td>soft</td>\n",
       "      <td>good</td>\n",
       "      <td>enough</td>\n",
       "      <td>enough</td>\n",
       "      <td>shallow well</td>\n",
       "      <td>shallow well</td>\n",
       "      <td>groundwater</td>\n",
       "      <td>hand pump</td>\n",
       "      <td>hand pump</td>\n",
       "    </tr>\n",
       "  </tbody>\n",
       "</table>\n",
       "</div>\n",
       "      <button class=\"colab-df-convert\" onclick=\"convertToInteractive('df-6b482ac5-3773-47a7-9787-f50a8fa79979')\"\n",
       "              title=\"Convert this dataframe to an interactive table.\"\n",
       "              style=\"display:none;\">\n",
       "        \n",
       "  <svg xmlns=\"http://www.w3.org/2000/svg\" height=\"24px\"viewBox=\"0 0 24 24\"\n",
       "       width=\"24px\">\n",
       "    <path d=\"M0 0h24v24H0V0z\" fill=\"none\"/>\n",
       "    <path d=\"M18.56 5.44l.94 2.06.94-2.06 2.06-.94-2.06-.94-.94-2.06-.94 2.06-2.06.94zm-11 1L8.5 8.5l.94-2.06 2.06-.94-2.06-.94L8.5 2.5l-.94 2.06-2.06.94zm10 10l.94 2.06.94-2.06 2.06-.94-2.06-.94-.94-2.06-.94 2.06-2.06.94z\"/><path d=\"M17.41 7.96l-1.37-1.37c-.4-.4-.92-.59-1.43-.59-.52 0-1.04.2-1.43.59L10.3 9.45l-7.72 7.72c-.78.78-.78 2.05 0 2.83L4 21.41c.39.39.9.59 1.41.59.51 0 1.02-.2 1.41-.59l7.78-7.78 2.81-2.81c.8-.78.8-2.07 0-2.86zM5.41 20L4 18.59l7.72-7.72 1.47 1.35L5.41 20z\"/>\n",
       "  </svg>\n",
       "      </button>\n",
       "      \n",
       "  <style>\n",
       "    .colab-df-container {\n",
       "      display:flex;\n",
       "      flex-wrap:wrap;\n",
       "      gap: 12px;\n",
       "    }\n",
       "\n",
       "    .colab-df-convert {\n",
       "      background-color: #E8F0FE;\n",
       "      border: none;\n",
       "      border-radius: 50%;\n",
       "      cursor: pointer;\n",
       "      display: none;\n",
       "      fill: #1967D2;\n",
       "      height: 32px;\n",
       "      padding: 0 0 0 0;\n",
       "      width: 32px;\n",
       "    }\n",
       "\n",
       "    .colab-df-convert:hover {\n",
       "      background-color: #E2EBFA;\n",
       "      box-shadow: 0px 1px 2px rgba(60, 64, 67, 0.3), 0px 1px 3px 1px rgba(60, 64, 67, 0.15);\n",
       "      fill: #174EA6;\n",
       "    }\n",
       "\n",
       "    [theme=dark] .colab-df-convert {\n",
       "      background-color: #3B4455;\n",
       "      fill: #D2E3FC;\n",
       "    }\n",
       "\n",
       "    [theme=dark] .colab-df-convert:hover {\n",
       "      background-color: #434B5C;\n",
       "      box-shadow: 0px 1px 3px 1px rgba(0, 0, 0, 0.15);\n",
       "      filter: drop-shadow(0px 1px 2px rgba(0, 0, 0, 0.3));\n",
       "      fill: #FFFFFF;\n",
       "    }\n",
       "  </style>\n",
       "\n",
       "      <script>\n",
       "        const buttonEl =\n",
       "          document.querySelector('#df-6b482ac5-3773-47a7-9787-f50a8fa79979 button.colab-df-convert');\n",
       "        buttonEl.style.display =\n",
       "          google.colab.kernel.accessAllowed ? 'block' : 'none';\n",
       "\n",
       "        async function convertToInteractive(key) {\n",
       "          const element = document.querySelector('#df-6b482ac5-3773-47a7-9787-f50a8fa79979');\n",
       "          const dataTable =\n",
       "            await google.colab.kernel.invokeFunction('convertToInteractive',\n",
       "                                                     [key], {});\n",
       "          if (!dataTable) return;\n",
       "\n",
       "          const docLinkHtml = 'Like what you see? Visit the ' +\n",
       "            '<a target=\"_blank\" href=https://colab.research.google.com/notebooks/data_table.ipynb>data table notebook</a>'\n",
       "            + ' to learn more about interactive tables.';\n",
       "          element.innerHTML = '';\n",
       "          dataTable['output_type'] = 'display_data';\n",
       "          await google.colab.output.renderOutput(dataTable, element);\n",
       "          const docLink = document.createElement('div');\n",
       "          docLink.innerHTML = docLinkHtml;\n",
       "          element.appendChild(docLink);\n",
       "        }\n",
       "      </script>\n",
       "    </div>\n",
       "  </div>\n",
       "  "
      ],
      "text/plain": [
       "      id  amount_tsh  ...              waterpoint_type waterpoint_type_group\n",
       "0  47521      6000.0  ...           communal standpipe    communal standpipe\n",
       "1  47522         0.0  ...  communal standpipe multiple    communal standpipe\n",
       "2  47523         0.0  ...                    hand pump             hand pump\n",
       "3  47524         0.0  ...           communal standpipe    communal standpipe\n",
       "4  47525         0.0  ...                    hand pump             hand pump\n",
       "\n",
       "[5 rows x 39 columns]"
      ]
     },
     "execution_count": 13,
     "metadata": {},
     "output_type": "execute_result"
    }
   ],
   "source": [
    "# Download file with features in the test set\n",
    "testFeaturesURL = \"https://drive.google.com/uc?id=1C64MAXqe4R4UjFBJcyK7hmKcNIVj3C8x\"\n",
    "gdown.download(testFeaturesURL, \"test_features.csv\", quiet=True)\n",
    "\n",
    "# Read test set features into a pandas data frame\n",
    "testFeatures = pd.read_csv(\"test_features.csv\")\n",
    "testFeatures.head()"
   ]
  },
  {
   "cell_type": "code",
   "execution_count": null,
   "metadata": {
    "colab": {
     "base_uri": "https://localhost:8080/"
    },
    "id": "BNuISjbz3d6h",
    "outputId": "52bc1e69-ab27-4541-e0c3-efaa1e892070"
   },
   "outputs": [
    {
     "name": "stderr",
     "output_type": "stream",
     "text": [
      "/usr/local/lib/python3.7/dist-packages/sklearn/utils/validation.py:1692: FutureWarning: Feature names only support names that are all strings. Got feature names with dtypes: ['int', 'str']. An error will be raised in 1.2.\n",
      "  FutureWarning,\n",
      "/usr/local/lib/python3.7/dist-packages/sklearn/utils/validation.py:1692: FutureWarning: Feature names only support names that are all strings. Got feature names with dtypes: ['int', 'str']. An error will be raised in 1.2.\n",
      "  FutureWarning,\n"
     ]
    }
   ],
   "source": [
    "# Add code to generate your predictions for the test set here. \n",
    "\n",
    "#### Regression\n",
    "# Clean data\n",
    "_, X_test = clean_data(train,testFeatures)\n",
    "X_test = X_test[features]\n",
    "# Encode data in the same way as before\n",
    "\n",
    "OH_cols_test = pd.DataFrame(OH_encoder.transform(X_test[OH_cols]))\n",
    "OH_cols_test.index = X_test.index\n",
    "num_X_test = X_test.drop(OH_cols, axis=1)\n",
    "X_test_enc = pd.concat([num_X_test, OH_cols_test],axis=1)\n",
    "\n",
    "# Normalize\n",
    "scaler.transform(X_test_enc)\n",
    "\n",
    "# Predict\n",
    "predictions = reg.predict(X_test_enc)\n",
    "\n",
    "submission = pd.concat([testFeatures[\"id\"], pd.DataFrame(predictions,columns=[\"predicted\"])],axis=1)\n",
    "submission.to_csv(\"submission.csv\",index=False)\n"
   ]
  },
  {
   "cell_type": "code",
   "execution_count": null,
   "metadata": {
    "colab": {
     "base_uri": "https://localhost:8080/"
    },
    "id": "ukU8qyHwLUih",
    "outputId": "34aab0b9-1a9f-4487-a8b0-660302bf03b0"
   },
   "outputs": [
    {
     "name": "stderr",
     "output_type": "stream",
     "text": [
      "/usr/local/lib/python3.7/dist-packages/sklearn/utils/validation.py:1692: FutureWarning: Feature names only support names that are all strings. Got feature names with dtypes: ['int', 'str']. An error will be raised in 1.2.\n",
      "  FutureWarning,\n"
     ]
    },
    {
     "name": "stdout",
     "output_type": "stream",
     "text": [
      "[0.03118586 0.99652857 0.05816208 ... 0.5910025  0.86681145 0.07245445]\n"
     ]
    }
   ],
   "source": [
    "### XGBoost\n",
    "# Clean data\n",
    "_, X_test = clean_data(train,testFeatures)\n",
    "X_test = X_test[features]\n",
    "# Encode data in the same way as before\n",
    "\n",
    "OH_cols_test = pd.DataFrame(OH_encoder.transform(X_test[OH_cols]))\n",
    "OH_cols_test.index = X_test.index\n",
    "num_X_test = X_test.drop(OH_cols, axis=1)\n",
    "X_test_enc = pd.concat([num_X_test, OH_cols_test],axis=1)\n",
    "\n",
    "# Normalize\n",
    "X_test_enc = scaler.transform(X_test_enc)\n",
    "\n",
    "# Predict\n",
    "predictions = xgb.predict_proba(X_test_enc)[:,1]\n",
    "print(predictions)\n",
    "\n",
    "submission = pd.concat([testFeatures[\"id\"], pd.DataFrame(predictions,columns=[\"predicted\"])],axis=1)\n",
    "submission.to_csv(\"submission.csv\",index=False)"
   ]
  },
  {
   "cell_type": "code",
   "execution_count": null,
   "metadata": {
    "colab": {
     "base_uri": "https://localhost:8080/"
    },
    "id": "looONAij41TA",
    "outputId": "22763893-8893-448c-8a2b-f0f9f5271769"
   },
   "outputs": [
    {
     "data": {
      "text/plain": [
       "<bound method NDFrame.head of           id  predicted\n",
       "0      47521   0.221899\n",
       "1      47522   0.807266\n",
       "2      47523   0.300974\n",
       "3      47524   0.008068\n",
       "4      47525   0.279729\n",
       "...      ...        ...\n",
       "11875  59396   0.682370\n",
       "11876  59397   0.104466\n",
       "11877  59398   0.622822\n",
       "11878  59399   0.754611\n",
       "11879  59400   0.126019\n",
       "\n",
       "[11880 rows x 2 columns]>"
      ]
     },
     "execution_count": 262,
     "metadata": {},
     "output_type": "execute_result"
    }
   ],
   "source": [
    "submission.head"
   ]
  },
  {
   "cell_type": "code",
   "execution_count": null,
   "metadata": {
    "id": "uDDN9QhXBDqf"
   },
   "outputs": [],
   "source": [
    "# See below for an example of exporting a pandas data frame called \"submission\" to a csv file. "
   ]
  },
  {
   "cell_type": "code",
   "execution_count": null,
   "metadata": {
    "cellView": "form",
    "colab": {
     "base_uri": "https://localhost:8080/",
     "height": 383
    },
    "id": "VKTmH0X72NCZ",
    "outputId": "441112f2-f009-4949-ce20-95e01cca0066"
   },
   "outputs": [
    {
     "data": {
      "text/html": [
       "\n",
       "<div align=\"left\">\n",
       "<video width=\"70%\" controls>\n",
       "      <source src=\"https://i.imgur.com/mWuAFqV.mp4\" type=\"video/mp4\">\n",
       "</video></div>"
      ],
      "text/plain": [
       "<IPython.core.display.HTML object>"
      ]
     },
     "execution_count": 192,
     "metadata": {},
     "output_type": "execute_result"
    }
   ],
   "source": [
    "#@title\n",
    "from IPython.display import HTML\n",
    "\n",
    "HTML(\"\"\"\n",
    "<div align=\"left\">\n",
    "<video width=\"70%\" controls>\n",
    "      <source src=\"https://i.imgur.com/mWuAFqV.mp4\" type=\"video/mp4\">\n",
    "</video></div>\"\"\")"
   ]
  }
 ],
 "metadata": {
  "colab": {
   "collapsed_sections": [],
   "name": "JK+CS Datathon@LISH (Track Lagrange).ipynb",
   "provenance": []
  },
  "kernelspec": {
   "display_name": "Python 3 (ipykernel)",
   "language": "python",
   "name": "python3"
  },
  "language_info": {
   "codemirror_mode": {
    "name": "ipython",
    "version": 3
   },
   "file_extension": ".py",
   "mimetype": "text/x-python",
   "name": "python",
   "nbconvert_exporter": "python",
   "pygments_lexer": "ipython3",
   "version": "3.9.7"
  }
 },
 "nbformat": 4,
 "nbformat_minor": 1
}
